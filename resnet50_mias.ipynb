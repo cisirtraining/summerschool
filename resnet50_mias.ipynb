{
  "nbformat": 4,
  "nbformat_minor": 0,
  "metadata": {
    "colab": {
      "name": "resnet50_mias.ipynb",
      "version": "0.3.2",
      "provenance": [],
      "collapsed_sections": [],
      "machine_shape": "hm",
      "include_colab_link": true
    },
    "kernelspec": {
      "name": "python3",
      "display_name": "Python 3"
    },
    "accelerator": "GPU"
  },
  "cells": [
    {
      "cell_type": "markdown",
      "metadata": {
        "id": "view-in-github",
        "colab_type": "text"
      },
      "source": [
        "<a href=\"https://colab.research.google.com/github/cisirtraining/summerschool/blob/master/resnet50_mias.ipynb\" target=\"_parent\"><img src=\"https://colab.research.google.com/assets/colab-badge.svg\" alt=\"Open In Colab\"/></a>"
      ]
    },
    {
      "cell_type": "markdown",
      "metadata": {
        "id": "NMYS_uqZX4Fv",
        "colab_type": "text"
      },
      "source": [
        "##**Mount Google Drive for Data Access**"
      ]
    },
    {
      "cell_type": "code",
      "metadata": {
        "id": "OEbXRufp5JRT",
        "colab_type": "code",
        "colab": {}
      },
      "source": [
        "from google.colab import drive\n",
        "drive.mount('/content/drive')"
      ],
      "execution_count": 0,
      "outputs": []
    },
    {
      "cell_type": "code",
      "metadata": {
        "id": "-0Vi-y3fyukN",
        "colab_type": "code",
        "colab": {}
      },
      "source": [
        "!pip install git+https://github.com/raghakot/keras-vis.git\n",
        "!pip install scipy==1.1.0\n",
        "!pip install scikit-plot"
      ],
      "execution_count": 0,
      "outputs": []
    },
    {
      "cell_type": "markdown",
      "metadata": {
        "id": "ffvrFj3CX6zI",
        "colab_type": "text"
      },
      "source": [
        "##**Import Packages**"
      ]
    },
    {
      "cell_type": "code",
      "metadata": {
        "id": "QKfCdlDP5YD5",
        "colab_type": "code",
        "colab": {}
      },
      "source": [
        "import tensorflow as tf\n",
        "import keras\n",
        "import numpy as np\n",
        "import pandas as pd\n",
        "import matplotlib.pyplot as plt\n",
        "import matplotlib.cm as cm\n",
        "import warnings\n",
        "import sklearn\n",
        "from sklearn.model_selection import train_test_split\n",
        "import collections\n",
        "from sklearn.metrics import classification_report\n",
        "\n",
        "warnings.filterwarnings('ignore')"
      ],
      "execution_count": 0,
      "outputs": []
    },
    {
      "cell_type": "markdown",
      "metadata": {
        "id": "vRxtbKlXYBMf",
        "colab_type": "text"
      },
      "source": [
        "##**Load Dataset**\n",
        "\n",
        "\n",
        "*   Load images stored in data.npy and associated labels stored in data_label.npy\n",
        "*   Label convention: Normal = 0 and Abnormal =1\n",
        "\n"
      ]
    },
    {
      "cell_type": "code",
      "metadata": {
        "id": "iqjhgHHz5YVN",
        "colab_type": "code",
        "colab": {}
      },
      "source": [
        "# load dataset\n",
        "\n",
        "X = np.load('./drive/My Drive/data/data.npy') # images\n",
        "Y = np.load('./drive/My Drive/data/data_labels.npy') # labels associated to images (0 = normal, 1 = abnormal)\n",
        "print('\\n**** data loaded ****')"
      ],
      "execution_count": 0,
      "outputs": []
    },
    {
      "cell_type": "markdown",
      "metadata": {
        "id": "cre8alXHYaAF",
        "colab_type": "text"
      },
      "source": [
        "##**Dataset Statistic and Sanity Check**"
      ]
    },
    {
      "cell_type": "code",
      "metadata": {
        "id": "y2Q8ibSN5YZB",
        "colab_type": "code",
        "colab": {}
      },
      "source": [
        "#data statistic\n",
        "\n",
        "def describeData(a,b):\n",
        "    print('Total number of images: {}'.format(len(a)))\n",
        "    print('Number of Normal Images: {}'.format(np.sum(b==0)))\n",
        "    print('Number of Abnormal Images: {}'.format(np.sum(b==1)))\n",
        "    print('Percentage of positive images: {:.2f}%'.format(100*np.mean(b)))\n",
        "    print('Image shape (Width, Height, Channels): {}'.format(a[0].shape))\n",
        "    \n",
        "describeData(X,Y)\n",
        "\n"
      ],
      "execution_count": 0,
      "outputs": []
    },
    {
      "cell_type": "code",
      "metadata": {
        "id": "cfkf-9nS5YeC",
        "colab_type": "code",
        "colab": {}
      },
      "source": [
        "def plotTwo(a,b): \n",
        "    \"\"\"\n",
        "    Plot a bunch of numpy arrays sorted by label\n",
        "    \"\"\"\n",
        "    for row in range(3):\n",
        "        plt.figure(figsize=(20, 10))\n",
        "        for col in range(3):\n",
        "            plt.subplot(1,8,col+1)\n",
        "            plt.title('normal')\n",
        "            plt.imshow(a[row+col])\n",
        "            plt.axis('off')       \n",
        "            plt.subplot(1,8,col+4)\n",
        "            plt.title('abnormal')\n",
        "            plt.imshow(b[row+col])\n",
        "            plt.axis('off')\n",
        "\n",
        "imgs0 = X[Y==0] # (0 = normal, 1 = abnormal)\n",
        "imgs1 = X[Y==1] \n",
        "            \n",
        "plotTwo(imgs0, imgs1) "
      ],
      "execution_count": 0,
      "outputs": []
    },
    {
      "cell_type": "code",
      "metadata": {
        "id": "04m4KCVA5Yhi",
        "colab_type": "code",
        "colab": {}
      },
      "source": [
        "def plotHistogram(a):\n",
        "    \"\"\"\n",
        "    Plot histogram of RGB Pixel Intensities\n",
        "    \"\"\"\n",
        "    plt.figure(figsize=(10,5))\n",
        "    plt.subplot(1,2,1)\n",
        "    plt.imshow(a)\n",
        "    plt.axis('off')\n",
        "    plt.title('abnormal' if Y[1] else 'normal')\n",
        "    histo = plt.subplot(1,2,2)\n",
        "    histo.set_ylabel('Count')\n",
        "    histo.set_xlabel('Pixel Intensity')\n",
        "    n_bins = 30\n",
        "    plt.hist(a[:,:,0].flatten(), bins= n_bins, lw = 0, color='r', alpha=0.5);\n",
        "    plt.hist(a[:,:,1].flatten(), bins= n_bins, lw = 0, color='g', alpha=0.5);\n",
        "    plt.hist(a[:,:,2].flatten(), bins= n_bins, lw = 0, color='b', alpha=0.5);\n",
        "plotHistogram(X[100])"
      ],
      "execution_count": 0,
      "outputs": []
    },
    {
      "cell_type": "markdown",
      "metadata": {
        "id": "fh6eREWfYq4M",
        "colab_type": "text"
      },
      "source": [
        "##**Data Preparation**\n",
        "\n",
        "\n",
        "*   Split the data into training and testing set, 70% training and 30% testing\n",
        "*   Convert labels to one-hot-encoded vectors \n",
        "*   Normalize the pixel between 0 and 1\n",
        "\n"
      ]
    },
    {
      "cell_type": "code",
      "metadata": {
        "id": "wW2OaJBq5YgC",
        "colab_type": "code",
        "colab": {}
      },
      "source": [
        "random_state = 123\n",
        "X_train, X_test, Y_train, Y_test = train_test_split(X, Y, test_size=0.3,stratify=Y,random_state=random_state)\n",
        "\n",
        "\n",
        "# Normalize the data\n",
        "X_train = X_train / 255.0\n",
        "X_test = X_test / 255.0\n",
        "\n",
        "print(\"Training Data Shape:\", X_train.shape, Y_train.shape)\n",
        "print(\"Testing Data Shape:\", X_test.shape, Y_test.shape)\n",
        "print(\"\\nLabel distribution:\\nTraining >> {} \\nTesting >> {}\".format(collections.Counter(Y_train),collections.Counter(Y_test)))\n",
        "\n",
        "# visualize normalize data\n",
        "plotHistogram(X_train[100])\n",
        "\n",
        "print('\\nOriginal training label:\\n',Y_train[0:5])\n",
        "\n",
        "# Encode labels to hot vectors (ex : 2 -> 0=[1,0] and 1= [0,1])\n",
        "from keras.utils import to_categorical\n",
        "Y_train = to_categorical(Y_train, num_classes = 2)\n",
        "Y_test = to_categorical(Y_test, num_classes = 2)\n",
        "\n",
        "\n",
        "print('\\nOne-hot encoded label:\\n',Y_train[0:5])\n",
        "\n"
      ],
      "execution_count": 0,
      "outputs": []
    },
    {
      "cell_type": "markdown",
      "metadata": {
        "id": "lrTkftSnZUY2",
        "colab_type": "text"
      },
      "source": [
        "##**Model Training**\n",
        ">### Modified-ResNet50\n",
        "\n",
        "connections from early layers to later layers through addition or straight up concatenation.\n",
        "\n",
        "*   **Skip Connection/ Residual Connection** : Connections from early layers to later layers through addition or straight up concatenation -  it provides an alternative for gradient to back propagation and **avoid vanishing grdient problem as we go \"deeper\"**. This is better for model's convergences. At present, residual connection is a standard module in many convolutional network.\n",
        "\n",
        "![](https://drive.google.com/uc?id=18Jy-BWPqrfX538tahaTbm1YOO8HtcOvO)\n",
        "\n",
        "[Source](https://stackoverflow.com/questions/54207410/how-to-split-resnet50-model-from-top-as-well-as-from-bottom)"
      ]
    },
    {
      "cell_type": "code",
      "metadata": {
        "id": "FwguKQGH-h2o",
        "colab_type": "code",
        "colab": {}
      },
      "source": [
        "# define model \n",
        "import time\n",
        "from keras import backend as K\n",
        "from keras.callbacks import ModelCheckpoint, ReduceLROnPlateau, LearningRateScheduler, TensorBoard\n",
        "from keras.layers import Dense\n",
        "from keras.engine.topology import Layer\n",
        "from keras.models import Model\n",
        "from keras.layers import GlobalAveragePooling2D, Dense, Dropout,Activation,Flatten, Input, Lambda\n",
        "from keras.layers import Add, Reshape, MaxPooling2D, Concatenate, Embedding, RepeatVector\n",
        "from keras.applications.imagenet_utils import preprocess_input\n",
        "from keras import optimizers\n",
        "from keras.preprocessing.image import ImageDataGenerator\n",
        "\n",
        "\n",
        "\n",
        "#Set Random Seed For Reproducibility\n",
        "np.random.seed(40) # numpy random seed\n",
        "tf.set_random_seed(89) # tensorflow random seed\n",
        "\n",
        "\n",
        "model = keras.applications.resnet50.ResNet50(weights='imagenet', include_top=False,input_shape=(224, 224, 3))\n",
        "last_layer = model.output\n",
        "# add a global spatial average pooling layer\n",
        "x = GlobalAveragePooling2D()(last_layer)\n",
        "# add fully-connected & dropout layers\n",
        "x = Dense(2048, activation='relu', name='fc-1')(x)\n",
        "x = Dropout(0.5)(x)\n",
        "x = Dense(512, activation='relu', name='fc-2')(x)\n",
        "x = Dropout(0.5)(x)\n",
        "# a softmax layer for 2 classes\n",
        "out = Dense(2, activation='softmax', name='output_layer')(x)\n",
        "\n",
        "# this is the model we will train\n",
        "custom_resnet_model = Model(inputs=model.input, outputs=out)\n",
        "custom_resnet_model.summary()\n",
        "\n",
        "for layer in custom_resnet_model.layers:\n",
        "    layer.trainable = True\n",
        "\n",
        "opt = optimizers.SGD(lr = 0.0001, decay=1e-6, momentum=0.9, nesterov=True)\n",
        "custom_resnet_model.compile(loss='categorical_crossentropy', optimizer=opt, metrics=['accuracy'])\n",
        "\n",
        "  \n",
        "checkpoint = ModelCheckpoint('./drive/My Drive/data/resnet50_mias.h5',\n",
        "                               monitor='val_loss',\n",
        "                               verbose=1,\n",
        "                               save_best_only=True)\n",
        "\n",
        "\n",
        "callbacks = [checkpoint]\n",
        "t = time.time()\n",
        "    \n",
        "\n",
        "#training phase:\n",
        "\n",
        "# history = custom_resnet_model.fit(X_train, Y_train, \n",
        "#                     batch_size=32, \n",
        "#                     epochs=100, \n",
        "#                     verbose=1, \n",
        "#                     validation_data=(X_test, Y_test),\n",
        "#                     shuffle=True)\n",
        "\n",
        "# custom_resnet_model.save('./drive/My Drive/mammogram/output/resnet50_miasv3.h5')\n",
        "   \n",
        "# print('Training time: %s' % (time.time() - t))"
      ],
      "execution_count": 0,
      "outputs": []
    },
    {
      "cell_type": "markdown",
      "metadata": {
        "id": "CJZ9KovCtNE8",
        "colab_type": "text"
      },
      "source": [
        "##**Plot Learning Curve**\n",
        "\n",
        "Should have something like this!\n",
        "\n",
        "![](https://drive.google.com/uc?id=1XTe9JRaWbIMPYrVC_FAWN2lbJKmb5CfL)"
      ]
    },
    {
      "cell_type": "code",
      "metadata": {
        "id": "0j5dbM22MkEi",
        "colab_type": "code",
        "outputId": "1e9310d1-946c-422e-d75a-e0981e86eced",
        "colab": {
          "base_uri": "https://localhost:8080/",
          "height": 293
        }
      },
      "source": [
        "plt.figure(1, figsize = (15,8)) \n",
        "    \n",
        "plt.subplot(221)  \n",
        "plt.plot(history.history['acc'])  \n",
        "plt.plot(history.history['val_acc'])  \n",
        "plt.title('model accuracy')  \n",
        "plt.ylabel('accuracy')  \n",
        "plt.xlabel('epoch')  \n",
        "plt.legend(['train', 'valid'],loc='lower right') \n",
        "    \n",
        "plt.subplot(222)  \n",
        "plt.plot(history.history['loss'])  \n",
        "plt.plot(history.history['val_loss'])  \n",
        "plt.title('model loss')  \n",
        "plt.ylabel('loss')  \n",
        "plt.xlabel('epoch')  \n",
        "plt.legend(['train', 'valid'], loc='upper right') \n",
        "\n",
        "plt.show()\n",
        "\n",
        "print(history.history.keys())"
      ],
      "execution_count": 0,
      "outputs": [
        {
          "output_type": "display_data",
          "data": {
            "image/png": "[encoded data removed]",
            "text/plain": [
              "<Figure size 1080x576 with 2 Axes>"
            ]
          },
          "metadata": {
            "tags": []
          }
        },
        {
          "output_type": "stream",
          "text": [
            "dict_keys(['val_loss', 'val_acc', 'loss', 'acc'])\n"
          ],
          "name": "stdout"
        }
      ]
    },
    {
      "cell_type": "code",
      "metadata": {
        "id": "J5ABTYe6Mm2D",
        "colab_type": "code",
        "colab": {}
      },
      "source": [
        "# Look at confusion matrix \n",
        "def plot_confusion_matrix(cm, classes,\n",
        "                          normalize=False,\n",
        "                          title='Confusion matrix',\n",
        "                          cmap=plt.cm.Blues):\n",
        "    \"\"\"\n",
        "    This function prints and plots the confusion matrix.\n",
        "    Normalization can be applied by setting `normalize=True`.\n",
        "    \"\"\"\n",
        "    plt.figure(figsize = (5,5))\n",
        "    plt.imshow(cm, interpolation='nearest', cmap=cmap)\n",
        "    plt.title(title)\n",
        "    plt.colorbar()\n",
        "    tick_marks = np.arange(len(classes))\n",
        "    plt.xticks(tick_marks, classes, rotation=90)\n",
        "    plt.yticks(tick_marks, classes)\n",
        "    if normalize:\n",
        "        cm = cm.astype('float') / cm.sum(axis=1)[:, np.newaxis]\n",
        "\n",
        "    thresh = cm.max() / 2.\n",
        "    for i, j in itertools.product(range(cm.shape[0]), range(cm.shape[1])):\n",
        "        plt.text(j, i, cm[i, j],\n",
        "                 horizontalalignment=\"center\",\n",
        "                 color=\"white\" if cm[i, j] > thresh else \"black\")\n",
        "    plt.tight_layout()\n",
        "    plt.ylabel('True label')\n",
        "    plt.xlabel('Predicted label')"
      ],
      "execution_count": 0,
      "outputs": []
    },
    {
      "cell_type": "markdown",
      "metadata": {
        "id": "Q6tH-nNqaOel",
        "colab_type": "text"
      },
      "source": [
        "##**Standard Evaluation Metrics**\n",
        "\n",
        "\n",
        "\n",
        "$$Precision = \\frac{TP}{TP+FP} $$\n",
        "\n",
        "$$Recall = \\frac{TP}{TP+FN} $$\n",
        "\n",
        "$$F1 = 2 * \\frac{Precision*Recall}{Precision + Recall}$$\n",
        "\n"
      ]
    },
    {
      "cell_type": "code",
      "metadata": {
        "id": "-QhsSvSKMpLj",
        "colab_type": "code",
        "colab": {}
      },
      "source": [
        "import itertools\n",
        "from sklearn.metrics import confusion_matrix\n",
        "from keras.models import load_model, Model\n",
        "import scikitplot\n",
        "\n",
        "# del model\n",
        "\n",
        "# Load trained network\n",
        "model = load_model('./drive/My Drive/data/resnet50_mias.h5')\n",
        "\n",
        "print('\\n\\n************* model loaded *************')\n",
        "score = model.evaluate(X_test, Y_test, verbose=0)\n",
        "print(\"\\n[info] loss={:.3f}, accuracy: {:.3f}%\\n\".format(score[0],score[1] * 100))\n",
        "    \n",
        "y_pred = model.predict(X_test) \n",
        "map_characters = {0: 'normal', 1: 'abnormal'}\n",
        "\n",
        "print('\\n', sklearn.metrics.classification_report(np.where(Y_test > 0)[1], np.argmax(y_pred, axis=1), target_names=list(map_characters.values())), sep='')\n",
        "\n",
        "Y_pred_classes = np.argmax(y_pred,axis = 1) \n",
        "Y_true = np.argmax(Y_test,axis = 1) \n",
        "confusion_mtx = confusion_matrix(Y_true, Y_pred_classes) \n",
        "plot_confusion_matrix(confusion_mtx, classes = list(map_characters.values()))\n",
        "\n",
        "# Plot roc curve:\n",
        "scikitplot.metrics.plot_roc(np.argmax(Y_test, axis=1), y_pred, figsize=(8,6))\n",
        "plt.show()\n",
        "\n"
      ],
      "execution_count": 0,
      "outputs": []
    },
    {
      "cell_type": "code",
      "metadata": {
        "id": "FgD3hegtmjou",
        "colab_type": "code",
        "colab": {}
      },
      "source": [
        "import matplotlib.pyplot as plt\n",
        "from matplotlib import gridspec\n",
        "import cv2\n",
        "from google.colab.patches import cv2_imshow\n",
        "import random\n",
        "\n",
        "\n",
        "idx = random.sample(range(0, 900), 5) # regenerate random index\n",
        "f, ax = plt.subplots(1, 5,figsize=(20,20))  \n",
        "\n",
        "for i in range(5):\n",
        "  \n",
        "  # classify the input image\n",
        "  (normal, abnormal) = model.predict(X_test)[idx[i]]\n",
        "  label = \"NORMAL\" if normal > abnormal else \"ABNORMAL\"\n",
        "  proba = abnormal if abnormal > normal else normal\n",
        "  label = \"{}: {:.2f}%\".format(label, proba * 100)\n",
        "  \n",
        "  image = (X_test[idx[i]] * 255).round().astype(np.uint8)\n",
        "  cv2.putText(image, label, (5, 15),  cv2.FONT_HERSHEY_SIMPLEX,0.5, (0, 255, 0), 1, cv2.LINE_AA)  \n",
        "  \n",
        "  ax[i].set_title('NORMAL' if (Y_test[idx[i]] == 1)[0] else 'ABNORMAL')\n",
        "  ax[i].imshow(image)\n",
        "  ax[i].set_axis_off()\n",
        "         \n",
        " "
      ],
      "execution_count": 0,
      "outputs": []
    },
    {
      "cell_type": "markdown",
      "metadata": {
        "id": "zLgW6sK6aS0B",
        "colab_type": "text"
      },
      "source": [
        "##**CNN Interpretability: Saliency Map and GradCAM**\n",
        "\n",
        "\n",
        "\n",
        "**Saliency Map:** In essence, saliency is what “stands out” in a photo or scene, enabling your eye-brain connection to quickly (and essentially unconsciously) focus on the most important regions. The idea behind saliency is pretty simple in hindsight. We compute the gradient of output category with respect to input image.This should tell us how the output value changes with respect to a small change in inputs. We can use these gradients to highlight input regions that cause the most change in the output. Intuitively this should highlight salient image regions that most contribute towards the output.\n",
        "\n",
        "\n",
        "$$\\frac{\\partial output}{\\partial input}$$\n",
        "\n",
        "\n",
        "**GradCAM:** Gradient-weighted Class Activation Mapping (Grad-CAM), uses the class-specific gradient information flowing into the final convolutional layer of a CNN to produce a coarse localization map of the important regions in the image. Grad-CAM is a strict generalization of the Class Activation Mapping. Unlike CAM, Grad-CAM requires no re-training and is broadly applicable to any CNN-based architectures. Class activation maps or grad-CAM is another way of visualizing attention over input. Instead of using gradients with respect to output (see saliency), grad-CAM uses penultimate (pre Dense layer) Conv layer output. The intuition is to use the nearest Conv layer to utilize spatial information that gets completely lost in Dense layers.\n",
        "\n",
        " <figure>\n",
        "<center>\n",
        "<img src='https://drive.google.com/uc?id=1RpZ5jXgWxdoNQPfpCdNboMdXqkINusq9' />\n",
        "</center>\n",
        "</figure>\n",
        "\n",
        "[Source](http://gradcam.cloudcv.org/)\n",
        "\n"
      ]
    },
    {
      "cell_type": "markdown",
      "metadata": {
        "id": "wID0_U_QGKoS",
        "colab_type": "text"
      },
      "source": [
        "##**Saliency Map: Normal Class**"
      ]
    },
    {
      "cell_type": "code",
      "metadata": {
        "id": "ejv2NyFbug_i",
        "colab_type": "code",
        "colab": {}
      },
      "source": [
        "# Visualize Saliency Map\n",
        "\n",
        "from keras.models import load_model, Model\n",
        "import numpy as np\n",
        "from vis.visualization import visualize_saliency\n",
        "from vis.utils import utils\n",
        "from keras import activations\n",
        "from random import randint\n",
        "from matplotlib import gridspec\n",
        "\n",
        "# Load trained network\n",
        "#model = load_model('./drive/My Drive/data/resnet50_mias.h5')\n",
        "\n",
        "layer_idx = utils.find_layer_idx(model, 'output_layer')\n",
        "\n",
        "# Swap softmax with linear\n",
        "model.layers[layer_idx].activation = activations.linear\n",
        "model = utils.apply_modifications(model)\n",
        "\n",
        "class_idx = 0 # 0 = normal and 1 = abnormal\n",
        "indices = np.where(Y_test[:, class_idx] == 1)[0] # first element of onehot-vector [0,1] or [1,0]\n",
        "\n",
        "for i in range(3):\n",
        "  \n",
        "    value = randint(0,450)\n",
        "    idx = indices[value]\n",
        "    \n",
        "    grads_vanilla = visualize_saliency(model, layer_idx, filter_indices=class_idx, seed_input=X_test[idx])\n",
        "    grads_guided = visualize_saliency(model, layer_idx, filter_indices=class_idx, seed_input=X_test[idx],backprop_modifier='guided')\n",
        "\n",
        "    plt.figure(figsize=(15,15))\n",
        "    grid_spec = gridspec.GridSpec(1,4, width_ratios=[10,10,10,10])\n",
        "    plt.subplot(grid_spec[0])\n",
        "    plt.imshow(X_test[idx])\n",
        "    plt.axis('off')\n",
        "    plt.title('normal')\n",
        "    \n",
        "    plt.subplot(grid_spec[1])\n",
        "    plt.imshow(X_test[idx][...,0])\n",
        "    plt.axis('off')\n",
        "    \n",
        "    \n",
        "    plt.subplot(grid_spec[2])\n",
        "    plt.imshow(grads_vanilla, cmap='jet')\n",
        "    plt.title('vanilla')\n",
        "    plt.axis('off')\n",
        "    \n",
        "    plt.subplot(grid_spec[3])\n",
        "    plt.imshow(grads_guided, cmap='jet')\n",
        "    plt.title('guided')\n",
        "    plt.axis('off')\n",
        "  \n"
      ],
      "execution_count": 0,
      "outputs": []
    },
    {
      "cell_type": "markdown",
      "metadata": {
        "id": "zMNYErFGGPSx",
        "colab_type": "text"
      },
      "source": [
        "##**Saliency Map: Abnormal Class**"
      ]
    },
    {
      "cell_type": "code",
      "metadata": {
        "id": "wDGTwmhENeD_",
        "colab_type": "code",
        "colab": {}
      },
      "source": [
        "class_idx = 1 # 0 = normal and 1 = abnormal\n",
        "indices = np.where(Y_test[:, class_idx] == 1)[0] # first element of onehot-vector [0,1] or [1,0]\n",
        "\n",
        "for i in range(3):\n",
        "  \n",
        "    value = randint(0,450)\n",
        "    idx = indices[value]\n",
        "    \n",
        "    grads_vanilla = visualize_saliency(model, layer_idx, filter_indices=class_idx, seed_input=X_test[idx])\n",
        "    grads_guided = visualize_saliency(model, layer_idx, filter_indices=class_idx, seed_input=X_test[idx],backprop_modifier='guided')\n",
        "\n",
        "    plt.figure(figsize=(15,15))\n",
        "    grid_spec = gridspec.GridSpec(1,4, width_ratios=[10,10,10,10])\n",
        "    plt.subplot(grid_spec[0])\n",
        "    plt.imshow(X_test[idx])\n",
        "    plt.axis('off')\n",
        "    plt.title('abnormal')\n",
        "    \n",
        "    plt.subplot(grid_spec[1])\n",
        "    plt.imshow(X_test[idx][...,0])\n",
        "    plt.axis('off')\n",
        "    \n",
        "    \n",
        "    plt.subplot(grid_spec[2])\n",
        "    plt.imshow(grads_vanilla, cmap='jet')\n",
        "    plt.title('vanilla')\n",
        "    plt.axis('off')\n",
        "    \n",
        "    plt.subplot(grid_spec[3])\n",
        "    plt.imshow(grads_guided, cmap='jet')\n",
        "    plt.title('guided')\n",
        "    plt.axis('off')\n",
        "  \n",
        "    "
      ],
      "execution_count": 0,
      "outputs": []
    },
    {
      "cell_type": "markdown",
      "metadata": {
        "id": "V0xalx84GfeO",
        "colab_type": "text"
      },
      "source": [
        "##**GradCAM Visualization: Normal vs Abnormal**"
      ]
    },
    {
      "cell_type": "markdown",
      "metadata": {
        "id": "91isZupQgQhU",
        "colab_type": "text"
      },
      "source": [
        " Example output from Gradient Class Activation Mapping (Grad-CAM)\n",
        "\n",
        "![](https://drive.google.com/uc?id=1QG6MsQhNbrlelQbROycOADKNYMCw2tAB)"
      ]
    },
    {
      "cell_type": "code",
      "metadata": {
        "id": "5HPtqoyULq1O",
        "colab_type": "code",
        "colab": {}
      },
      "source": [
        "# Visualize Grad-CAM\n",
        "\n",
        "from vis.visualization import visualize_cam\n",
        "import matplotlib.cm as cm\n",
        "from vis.visualization import overlay\n",
        "\n",
        "penultimate_layer = utils.find_layer_idx(model, 'res5c_branch2c')\n",
        "\n",
        "# Swap softmax with linear\n",
        "model.layers[layer_idx].activation = activations.linear\n",
        "model = utils.apply_modifications(model)\n",
        "\n",
        "for class_idx in np.arange(2):    \n",
        "    indices = np.where(Y_test[:, class_idx] == 1)[0] # first element of onehot-vector [0,1] or [1,0]\n",
        "    value = randint(0,450)\n",
        "    idx = indices[value]\n",
        "    \n",
        "    f, ax = plt.subplots(1, 4,figsize=(15,15))\n",
        "    ax[0].imshow(X_test[idx][...,0],cmap='gray')\n",
        "    ax[0].set_title('normal' if class_idx==0 else 'abnormal')\n",
        "    ax[0].set_axis_off()\n",
        "    \n",
        "    for i, modifier in enumerate([None, 'guided', 'relu']):\n",
        "        grads = visualize_cam(model, layer_idx, filter_indices=class_idx,seed_input=X_test[idx], penultimate_layer_idx=penultimate_layer, backprop_modifier=modifier) \n",
        "\n",
        "        if modifier is None:\n",
        "            modifier = 'vanilla'\n",
        "            \n",
        "        \n",
        "        ax[i+1].set_title(modifier)    \n",
        "        ax[i+1].imshow(grads,cmap='jet')\n",
        "        ax[i+1].set_axis_off()\n",
        "        "
      ],
      "execution_count": 0,
      "outputs": []
    }
  ]
}
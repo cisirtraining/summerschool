{
  "nbformat": 4,
  "nbformat_minor": 0,
  "metadata": {
    "kernelspec": {
      "name": "python3",
      "display_name": "Python 3"
    },
    "language_info": {
      "codemirror_mode": {
        "name": "ipython",
        "version": 3
      },
      "file_extension": ".py",
      "mimetype": "text/x-python",
      "name": "python",
      "nbconvert_exporter": "python",
      "pygments_lexer": "ipython3",
      "version": "3.7.3"
    },
    "colab": {
      "name": "uNet-prostate.ipynb",
      "version": "0.3.2",
      "provenance": [],
      "collapsed_sections": [],
      "include_colab_link": true
    },
    "accelerator": "GPU"
  },
  "cells": [
    {
      "cell_type": "markdown",
      "metadata": {
        "id": "view-in-github",
        "colab_type": "text"
      },
      "source": [
        "<a href=\"https://colab.research.google.com/github/cisirtraining/summerschool/blob/master/uNet_prostate.ipynb\" target=\"_parent\"><img src=\"https://colab.research.google.com/assets/colab-badge.svg\" alt=\"Open In Colab\"/></a>"
      ]
    },
    {
      "cell_type": "markdown",
      "metadata": {
        "id": "uXrTzI0EofDk",
        "colab_type": "text"
      },
      "source": [
        "##**Mount Google Drive for Data Access**"
      ]
    },
    {
      "cell_type": "code",
      "metadata": {
        "id": "Tts-KeyIkjfX",
        "colab_type": "code",
        "colab": {
          "base_uri": "https://localhost:8080/",
          "height": 34
        },
        "outputId": "67a96cd5-bd1e-434c-e466-d186ac4aab0c"
      },
      "source": [
        "from google.colab import drive\n",
        "drive.mount('/content/drive')"
      ],
      "execution_count": 2,
      "outputs": [
        {
          "output_type": "stream",
          "text": [
            "Drive already mounted at /content/drive; to attempt to forcibly remount, call drive.mount(\"/content/drive\", force_remount=True).\n"
          ],
          "name": "stdout"
        }
      ]
    },
    {
      "cell_type": "markdown",
      "metadata": {
        "id": "DDOsiJNlj2QX",
        "colab_type": "text"
      },
      "source": [
        "## Load Libraries"
      ]
    },
    {
      "cell_type": "code",
      "metadata": {
        "id": "aq1_UmpKj2Qb",
        "colab_type": "code",
        "colab": {
          "base_uri": "https://localhost:8080/",
          "height": 34
        },
        "outputId": "4dde4afe-bc7a-4cd4-92a1-536ba7cb7940"
      },
      "source": [
        "from __future__ import print_function\n",
        "%matplotlib inline  \n",
        "import matplotlib.pyplot as plt\n",
        "import matplotlib.cm as cm\n",
        "import cv2\n",
        "import numpy as np\n",
        "import tensorflow as tf\n",
        "import keras\n",
        "import keras.backend as K\n",
        "import warnings\n",
        "warnings.filterwarnings('ignore')\n",
        "\n",
        "\n",
        "from keras.optimizers import Adam, SGD\n",
        "from keras.callbacks import  ModelCheckpoint, CSVLogger, ReduceLROnPlateau\n",
        "from keras.utils import to_categorical\n",
        "\n",
        "from tqdm import tqdm\n",
        "import IPython\n",
        "from sklearn.metrics import confusion_matrix\n",
        "\n",
        "#Make sure we remove any randomness\n",
        "from numpy.random import seed\n",
        "seed(1)\n",
        "\n",
        "try:\n",
        "    from itertools import izip as zip\n",
        "except ImportError: # will be 3.x series\n",
        "    pass\n",
        "\n",
        "import warnings\n",
        "warnings.filterwarnings('ignore')"
      ],
      "execution_count": 3,
      "outputs": [
        {
          "output_type": "stream",
          "text": [
            "Using TensorFlow backend.\n"
          ],
          "name": "stderr"
        }
      ]
    },
    {
      "cell_type": "markdown",
      "metadata": {
        "id": "u5ftVYvMj2Ql",
        "colab_type": "text"
      },
      "source": [
        "## Display images and shapes for sanity check"
      ]
    },
    {
      "cell_type": "code",
      "metadata": {
        "id": "nlLqPDraj2Qm",
        "colab_type": "code",
        "colab": {}
      },
      "source": [
        "#Show an originalimage\n",
        "image = cv2.imread('./drive/My Drive/data/33.png',0)\n",
        "#Show corresponding mask\n",
        "\n",
        "mask = cv2.imread('./drive/My Drive/data/33_mask.png',0)\n",
        "\n",
        "plt.figure(figsize=(15,15))\n",
        "ax = plt.subplot(1, 2, 1)\n",
        "ax.set_title('Image')\n",
        "ax.imshow(image, cmap=cm.Greys_r, interpolation='none')\n",
        "ax.axis('off')\n",
        "ax = plt.subplot(1, 2, 2)\n",
        "ax.set_title('Mask')\n",
        "ax.imshow(mask,cmap=cm.Greys_r, interpolation='none')\n",
        "ax.axis('off')\n"
      ],
      "execution_count": 0,
      "outputs": []
    },
    {
      "cell_type": "code",
      "metadata": {
        "id": "o2UHVeHcj2Qu",
        "colab_type": "code",
        "colab": {}
      },
      "source": [
        "print ('Image shape: ',image.shape)\n",
        "print ('Mask shape: ',mask.shape)\n",
        "seg_map = cv2.imread('./drive/My Drive/data/33_mask.png',0)\n",
        "print('Unique mask:',np.unique(seg_map))"
      ],
      "execution_count": 0,
      "outputs": []
    },
    {
      "cell_type": "markdown",
      "metadata": {
        "id": "tLUBSSYEj2Q4",
        "colab_type": "text"
      },
      "source": [
        "## Visualize the mask for all segments"
      ]
    },
    {
      "cell_type": "code",
      "metadata": {
        "id": "G4Kzwb-4j2Q5",
        "colab_type": "code",
        "colab": {}
      },
      "source": [
        "binary_mask = to_categorical(mask, num_classes=3)\n",
        "print ('Binary shape: ',binary_mask.shape)\n",
        "\n",
        "plt.figure(figsize=(20,20))\n",
        "ax = plt.subplot(1, 3, 1)\n",
        "ax.set_title('Background')\n",
        "ax.imshow(binary_mask[...,0])\n",
        "ax.axis('off')\n",
        "ax = plt.subplot(1, 3, 2)\n",
        "ax.set_title('Peripheral_Zone')\n",
        "ax.imshow(binary_mask[...,1])\n",
        "ax.axis('off')\n",
        "ax = plt.subplot(1, 3, 3)\n",
        "ax.set_title('Central_Zone')\n",
        "ax.imshow(binary_mask[...,2])\n",
        "ax.axis('off')"
      ],
      "execution_count": 0,
      "outputs": []
    },
    {
      "cell_type": "code",
      "metadata": {
        "id": "c7ZjFtVQj2Qy",
        "colab_type": "code",
        "colab": {}
      },
      "source": [
        "def create_label_colormap():\n",
        "    \"\"\"Creates a label colormap used in OA_ZIB masks.\n",
        "\n",
        "    Returns:\n",
        "        A Colormap for visualizing segmentation results.\n",
        "    \"\"\"\n",
        "    colormap = np.array([\n",
        "        [160, 160,160],   \n",
        "        [209, 14, 47], \n",
        "        [255,255,255]],dtype=np.uint8)\n",
        "    return colormap\n",
        "\n",
        "\n",
        "def label_to_color_image(label):\n",
        "    \"\"\"Adds color defined by the dataset colormap to the label.\n",
        "\n",
        "    Args:\n",
        "        label: A 2D array with integer type, storing the segmentation label.\n",
        "\n",
        "    Returns:\n",
        "        result: A 2D array with floating type. The element of the array\n",
        "            is the color indexed by the corresponding element in the input label\n",
        "            to the PASCAL color map.\n",
        "\n",
        "    Raises:\n",
        "        ValueError: If label is not of rank 2 or its value is larger than color\n",
        "            map maximum entry.\n",
        "    \"\"\"\n",
        "    if label.ndim != 2:\n",
        "        raise ValueError('Expect 2-D input label')\n",
        "\n",
        "    colormap = create_label_colormap()\n",
        "\n",
        "    if np.max(label) >= len(colormap):\n",
        "        raise ValueError('label value too large.')\n",
        "\n",
        "    return colormap[label]\n",
        "\n",
        "\n",
        "LABEL_NAMES = np.asarray([\n",
        "    'Background','Peripheral_Zone','Central_Zone'])\n",
        "\n",
        "FULL_LABEL_MAP = np.arange(len(LABEL_NAMES)).reshape(len(LABEL_NAMES), 1)\n",
        "FULL_COLOR_MAP = label_to_color_image(FULL_LABEL_MAP)\n",
        "print('label map:\\n',FULL_LABEL_MAP)\n",
        "print('color map:\\n',FULL_COLOR_MAP)"
      ],
      "execution_count": 0,
      "outputs": []
    },
    {
      "cell_type": "markdown",
      "metadata": {
        "id": "8_bJB0Y4j2Q-",
        "colab_type": "text"
      },
      "source": [
        "## Data Generators\n"
      ]
    },
    {
      "cell_type": "code",
      "metadata": {
        "id": "4-vlJWTXj2RA",
        "colab_type": "code",
        "colab": {}
      },
      "source": [
        "# def custom_image_generator(generator, directory, seed=None, batch_size=16,  target_size=(320, 320),\n",
        "#                            color_mode=\"grayscale\", class_mode=None, isMask=False, num_classes=3):\n",
        "#     \"\"\"\n",
        "#     Read images from a dirctory batch-size wise\n",
        "#     If images are masks (e.g. 384x384x1) then convert them to multi-label arrays (e.g. 384x384x3) so that they match the output of UNet \n",
        "#     \"\"\"\n",
        "#     import numpy as np\n",
        "    \n",
        "#     #Read from directory (flow_from_directory)\n",
        "#     iterator = generator.flow_from_directory(directory=directory,\n",
        "#                                              target_size=target_size,\n",
        "#                                              color_mode=color_mode,\n",
        "#                                              class_mode=class_mode,\n",
        "#                                              batch_size=batch_size,\n",
        "#                                              seed=seed)\n",
        "\n",
        "\n",
        "    \n",
        "#     for batch_x in iterator:\n",
        "#         #if image is a mask convert to a multi-label array (binary matrix: m x m x nb_class)\n",
        "#         if isMask==True:\n",
        "#             batch_x=to_categorical(batch_x, num_classes)\n",
        "#         yield batch_x"
      ],
      "execution_count": 0,
      "outputs": []
    },
    {
      "cell_type": "code",
      "metadata": {
        "id": "Bl5gwXrSj2RH",
        "colab_type": "code",
        "colab": {}
      },
      "source": [
        "# #Random seed set into a fixed value to apply same augmentations to images and masks. Otherwise they would not be the same.\n",
        "# seed=1 \n",
        "\n",
        "# #Set the batch size\n",
        "# batch_size= 16\n",
        "\n",
        "\n",
        "# #Create the image training generator\n",
        "# image_train_datagen = custom_image_generator(\n",
        "#             ImageDataGenerator(rotation_range=0.,  #Augmentation 1: Rotate images randomly within +- 20 degrees\n",
        "#                      width_shift_range=0.1, #Augmentation 2: Translate image left or right by 10% \n",
        "#                      height_shift_range=0.1,  #Augmentation 3: Translate image up or down by 10% \n",
        "#                      rescale=1./255.), #Augmentation 4: Zoom in/out 20% \n",
        "#             directory='zia/ori/train/train_images/',  #Directory holding the raw images\n",
        "#             seed=seed, #Use a specific random seed\n",
        "#             target_size=(320,320), #Resize images if needed to fit into the Input layer of Unet\n",
        "#             color_mode='grayscale', #Load them as one-channel (i.e. grayscale)\n",
        "#             batch_size=batch_size, #Use batch size of 32\n",
        "# )\n",
        "\n",
        "# #Create the mask training generator\n",
        "# mask_train_datagen = custom_image_generator(\n",
        "#             ImageDataGenerator(rotation_range=0.,\n",
        "#                      width_shift_range=0.1,\n",
        "#                      height_shift_range=0.1),\n",
        "#             directory='zia/ori/train/train_masks/',\n",
        "#             seed=seed,\n",
        "#             target_size=(320,320),\n",
        "#             color_mode='grayscale',\n",
        "#             batch_size=batch_size,\n",
        "#             isMask=True\n",
        "# )\n",
        "\n",
        "\n",
        "# #Create the image validation generator\n",
        "# image_val_datagen = custom_image_generator(\n",
        "#             ImageDataGenerator(rescale=1./255.),\n",
        "#             directory='zia/ori/valid/valid_images/',\n",
        "#             seed=seed,\n",
        "#             target_size=(320,320),\n",
        "#             color_mode='grayscale',\n",
        "#             batch_size=batch_size,\n",
        "        \n",
        "#         )\n",
        "\n",
        "# #Create the mask validation generator\n",
        "# mask_val_datagen = custom_image_generator(\n",
        "#             ImageDataGenerator(),\n",
        "#             directory='zia/ori/valid/valid_masks/',\n",
        "#             seed=seed,\n",
        "#             target_size=(320,320),\n",
        "#             color_mode='grayscale',\n",
        "#             batch_size=batch_size,\n",
        "#             isMask=True,\n",
        "           \n",
        "#         )\n",
        "\n",
        "# #Create the image test generator\n",
        "# image_test_datagen = custom_image_generator(\n",
        "#             ImageDataGenerator(rescale=1./255.),\n",
        "#             directory='zia/ori/test/test_images/',\n",
        "#             seed=seed,\n",
        "#             target_size=(320,320),\n",
        "#             color_mode='grayscale',\n",
        "#             batch_size=batch_size,\n",
        "           \n",
        "#         )\n",
        "\n",
        "# #Create the mask test generator\n",
        "# mask_test_datagen = custom_image_generator(\n",
        "#             ImageDataGenerator(),\n",
        "#             directory='zia/ori/test/test_masks/',\n",
        "#             seed=seed,\n",
        "#             target_size=(320,320),\n",
        "#             color_mode='grayscale',\n",
        "#             batch_size=batch_size,\n",
        "#             isMask=True,\n",
        "            \n",
        "#         )\n",
        "\n",
        "# # combine generators into one which yields image and images\n",
        "# train_generator = zip(image_train_datagen, mask_train_datagen)\n",
        "# val_generator = zip(image_val_datagen, mask_val_datagen)\n",
        "# test_generator = zip(image_test_datagen, mask_test_datagen)"
      ],
      "execution_count": 0,
      "outputs": []
    },
    {
      "cell_type": "markdown",
      "metadata": {
        "id": "RoLcLePqouwR",
        "colab_type": "text"
      },
      "source": [
        "##**Load Dataset**\n",
        "\n",
        "\n",
        "*   Load images stored in img.npy and associated masks stored in masks.npy\n"
      ]
    },
    {
      "cell_type": "code",
      "metadata": {
        "id": "FQV_qDbcoW4Q",
        "colab_type": "code",
        "colab": {}
      },
      "source": [
        "# load dataset\n",
        "\n",
        "X = np.load('./drive/My Drive/data/img.npy') # images\n",
        "Y = np.load('./drive/My Drive/data/mask.npy') # masks\n",
        "\n",
        "print('\\n**** data loaded ****')\n"
      ],
      "execution_count": 0,
      "outputs": []
    },
    {
      "cell_type": "markdown",
      "metadata": {
        "id": "29cFnBdFo9c9",
        "colab_type": "text"
      },
      "source": [
        "## One Hot Encode the Masks"
      ]
    },
    {
      "cell_type": "code",
      "metadata": {
        "id": "y0yWkp1Zoyh5",
        "colab_type": "code",
        "colab": {}
      },
      "source": [
        "# Normalize the data\n",
        "X_test = X/255.\n",
        "Y_test = Y\n",
        "\n",
        "\n",
        "# Convert to one-hot-encoded\n",
        "num_classes = 3\n",
        "Y_test = to_categorical(Y_test, num_classes)\n",
        "\n",
        "print(\"Testing Image Shape:\", X_test.shape)\n",
        "print(\"Testing Mask Shape:\", Y_test.shape)\n",
        "\n"
      ],
      "execution_count": 0,
      "outputs": []
    },
    {
      "cell_type": "markdown",
      "metadata": {
        "id": "zNk1rLLRj2RL",
        "colab_type": "text"
      },
      "source": [
        "##**Model Training**\n",
        ">### Batch-Norm U-Net\n",
        "\n",
        "![](https://drive.google.com/uc?id=1372zdn01YaOD3VheC2763A9nLeI1d4Mq)"
      ]
    },
    {
      "cell_type": "code",
      "metadata": {
        "id": "vG95lQsam7Fg",
        "colab_type": "code",
        "colab": {}
      },
      "source": [
        "from keras.models import Model\n",
        "from keras.layers import Input,  concatenate, Conv2D, MaxPooling2D, Conv2DTranspose, Dropout, BatchNormalization\n",
        "\n",
        "def generate_batch_norm_unet(base_num_filters, num_classes, kernel_size=(3,3), image_width=320, image_height=320):\n",
        "        \"\"\"\n",
        "        UNet with batch normalization\n",
        "        \"\"\"\n",
        "        inputs = Input((image_height, image_width, 1))\n",
        "        conv1 = Conv2D(base_num_filters, kernel_size, activation='relu', padding='same')(inputs)\n",
        "        bn1 = BatchNormalization()(conv1)\n",
        "        conv1 = Conv2D(base_num_filters, kernel_size, activation='relu', padding='same')(bn1)\n",
        "        bn1 = BatchNormalization()(conv1)\n",
        "        pool1 = MaxPooling2D(pool_size=(2, 2))(bn1)\n",
        "\n",
        "        conv2 = Conv2D(2 * base_num_filters, kernel_size, activation='relu', padding='same')(pool1)\n",
        "        bn2 = BatchNormalization()(conv2)\n",
        "        conv2 = Conv2D(2 * base_num_filters, kernel_size, activation='relu', padding='same')(bn2)\n",
        "        bn2 = BatchNormalization()(conv2)\n",
        "        pool2 = MaxPooling2D(pool_size=(2, 2))(bn2)\n",
        "\n",
        "        conv3 = Conv2D(4 * base_num_filters, kernel_size, activation='relu', padding='same')(pool2)\n",
        "        bn3 = BatchNormalization()(conv3)\n",
        "        conv3 = Conv2D(4 * base_num_filters, kernel_size, activation='relu', padding='same')(bn3)\n",
        "        bn3 = BatchNormalization()(conv3)\n",
        "        pool3 = MaxPooling2D(pool_size=(2, 2))(bn3)\n",
        "\n",
        "        conv4 = Conv2D(8 * base_num_filters, kernel_size, activation='relu', padding='same')(pool3)\n",
        "        bn4 = BatchNormalization()(conv4)\n",
        "        conv4 = Conv2D(8 * base_num_filters, kernel_size, activation='relu', padding='same')(bn4)\n",
        "        bn4 = BatchNormalization()(conv4)\n",
        "        pool4 = MaxPooling2D(pool_size=(2, 2))(bn4)\n",
        "\n",
        "        conv5 = Conv2D(16 * base_num_filters, kernel_size, activation='relu', padding='same')(pool4)\n",
        "        bn5 = BatchNormalization()(conv5)\n",
        "        conv5 = Conv2D(16 * base_num_filters, kernel_size, activation='relu', padding='same')(bn5)\n",
        "        bn5 = BatchNormalization()(conv5)\n",
        "        drop = Dropout(0.5)(bn5)\n",
        "\n",
        "        up6 = concatenate([Conv2DTranspose(8*base_num_filters, kernel_size, strides=(2, 2), padding='same')(drop), conv4], axis=3)\n",
        "        conv6 = Conv2D(8 * base_num_filters, kernel_size, activation='relu', padding='same')(up6)\n",
        "        bn6 = BatchNormalization()(conv6)\n",
        "        conv6 = Conv2D(8 * base_num_filters, kernel_size, activation='relu', padding='same')(bn6)\n",
        "        bn6 = BatchNormalization()(conv6)\n",
        "\n",
        "        up7 = concatenate([Conv2DTranspose(4*base_num_filters, kernel_size, strides=(2, 2), padding='same')(bn6), conv3], axis=3)\n",
        "        conv7 = Conv2D(4 * base_num_filters, kernel_size, activation='relu', padding='same')(up7)\n",
        "        bn7 = BatchNormalization()(conv7)\n",
        "        conv7 = Conv2D(4 * base_num_filters, kernel_size, activation='relu', padding='same')(bn7)\n",
        "        bn7 = BatchNormalization()(conv7)\n",
        "\n",
        "        up8 = concatenate([Conv2DTranspose(2*base_num_filters, kernel_size, strides=(2, 2), padding='same')(bn7), conv2], axis=3)\n",
        "        conv8 = Conv2D(2 * base_num_filters, kernel_size, activation='relu', padding='same')(up8)\n",
        "        bn8 = BatchNormalization()(conv8)\n",
        "        conv8 = Conv2D(2 * base_num_filters, kernel_size, activation='relu', padding='same')(bn8)\n",
        "        bn8 = BatchNormalization()(conv8)\n",
        "\n",
        "        up9 = concatenate([Conv2DTranspose(base_num_filters, kernel_size, strides=(2, 2), padding='same')(bn8), conv1], axis=3)\n",
        "        conv9 = Conv2D(base_num_filters, kernel_size, activation='relu', padding='same')(up9)\n",
        "        bn9 = BatchNormalization()(conv9)\n",
        "        conv9 = Conv2D(base_num_filters, kernel_size, activation='relu', padding='same')(bn9)\n",
        "        bn9 = BatchNormalization()(conv9)\n",
        "\n",
        "        conv10 = Conv2D(num_classes, (1, 1), activation='softmax')(bn9)\n",
        "\n",
        "        model = Model(inputs=[inputs], outputs=[conv10])\n",
        "\n",
        "        return model"
      ],
      "execution_count": 0,
      "outputs": []
    },
    {
      "cell_type": "markdown",
      "metadata": {
        "id": "IAsQZWGqj2RR",
        "colab_type": "text"
      },
      "source": [
        "## Callbacks (e.g. save logs, save best model)"
      ]
    },
    {
      "cell_type": "code",
      "metadata": {
        "id": "TQSHae8qj2RS",
        "colab_type": "code",
        "colab": {}
      },
      "source": [
        "#Save UNet model on smallest validation loss\n",
        "model_checkpoint = ModelCheckpoint('unet_prostate.h5', monitor='val_loss', verbose=1, save_best_only=True, mode='min')\n",
        "\n",
        "reducer = ReduceLROnPlateau(monitor='val_loss', factor=.2, patience=50, verbose=1, mode='auto', epsilon=0.0001, cooldown=0, min_lr=0)\n",
        "\n",
        "#Save logs to file\n",
        "logger = CSVLogger('unet_prostatelatest.txt', separator=',', append=False)\n",
        "\n",
        "#Put the 2 callbacks together\n",
        "callbacks = [model_checkpoint,reducer,logger]\n"
      ],
      "execution_count": 0,
      "outputs": []
    },
    {
      "cell_type": "markdown",
      "metadata": {
        "id": "vtKRwqQ0j2RY",
        "colab_type": "text"
      },
      "source": [
        "## Training / Validation "
      ]
    },
    {
      "cell_type": "code",
      "metadata": {
        "scrolled": false,
        "id": "I3CTqknwj2RZ",
        "colab_type": "code",
        "colab": {}
      },
      "source": [
        "# from keras import backend as K\n",
        "# import tensorflow as tf\n",
        "# import time\n",
        "\n",
        "# smooth = 1.\n",
        "\n",
        "# train_steps_per_epoch = np.ceil(10000/ batch_size)\n",
        "# val_steps_per_epoch = np.ceil(2000/batch_size)\n",
        "\n",
        "# def dice_coef(y_true,y_pred):\n",
        "#   smooth = 1\n",
        "#   y_true_f = K.flatten(y_true)\n",
        "#   y_pred_f = K.flatten(y_pred)\n",
        "#   intersection = K.sum(y_true_f * y_pred_f)\n",
        "#   return (2. * intersection + smooth)/(K.sum(K.square(y_true_f)) + K.sum(K.square(y_pred_f)) + smooth)\n",
        "\n",
        "\n",
        "# # loss\n",
        "# def mean_iou(y_true, y_pred):\n",
        "#     prec = []\n",
        "#     for t in np.arange(0.5, 1.0, 0.05):\n",
        "#         y_pred_ = tf.to_int32(y_pred > t)\n",
        "#         score, up_opt = tf.metrics.mean_iou(y_true, y_pred_, 2)\n",
        "#         K.get_session().run(tf.local_variables_initializer())\n",
        "#         with tf.control_dependencies([up_opt]):\n",
        "#             score = tf.identity(score)\n",
        "#         prec.append(score)\n",
        "#     return K.mean(K.stack(prec), axis=0)\n",
        "\n",
        "# def dice_coef_loss (y_true,y_pred):\n",
        "#     return 1. - dice_coef(y_true,y_pred)\n",
        "\n",
        "# start_time = time.time()\n",
        "\n",
        "# optmzr = SGD(lr=0.01,momentum=0.9,nesterov=True)\n",
        "\n",
        "# model.compile(optimizer=optmzr, \n",
        "#               loss= [dice_coef_loss], \n",
        "#               metrics=[\"accuracy\", mean_iou, dice_coef])\n",
        "\n",
        "# history = model.fit_generator(train_generator, steps_per_epoch=train_steps_per_epoch, epochs=250,validation_data=val_generator, validation_steps=val_steps_per_epoch, callbacks=callbacks, verbose=1, workers=10, use_multiprocessing=True)\n",
        "\n",
        "# end_time = time.time()\n",
        "# hours, rem = divmod(end_time - start_time,3600)\n",
        "# minutes, seconds = divmod(rem,60)\n",
        "# print('Execution Time:')\n",
        "# print(\"{:0>2}:{:0>2}:{:05.2f}\".format(int(hours),int(minutes),seconds))"
      ],
      "execution_count": 0,
      "outputs": []
    },
    {
      "cell_type": "code",
      "metadata": {
        "id": "DDkg-qfDj2Rd",
        "colab_type": "code",
        "colab": {},
        "outputId": "47e2b78d-dc77-439d-f643-0bcd098937db"
      },
      "source": [
        "print(history.history.keys())"
      ],
      "execution_count": 0,
      "outputs": [
        {
          "output_type": "stream",
          "text": [
            "dict_keys(['val_loss', 'val_acc', 'val_mean_iou', 'val_dice_coef', 'loss', 'acc', 'mean_iou', 'dice_coef', 'lr'])\n"
          ],
          "name": "stdout"
        }
      ]
    },
    {
      "cell_type": "markdown",
      "metadata": {
        "id": "27fdeaW4wMKF",
        "colab_type": "text"
      },
      "source": [
        "##**Plot Learning Curve**"
      ]
    },
    {
      "cell_type": "code",
      "metadata": {
        "scrolled": false,
        "id": "zqxETOIHj2Rh",
        "colab_type": "code",
        "colab": {},
        "outputId": "5a4c7285-dc38-48a5-c1dd-47034da51b73"
      },
      "source": [
        "import matplotlib.pyplot as plt\n",
        "from skimage.io import imread\n",
        "from matplotlib import gridspec\n",
        "\n",
        "# summarize history for accuracy\n",
        "plt.plot(history.history['acc'])\n",
        "plt.plot(history.history['val_acc'])\n",
        "plt.title('model accuracy')\n",
        "plt.ylabel('accuracy')\n",
        "plt.xlabel('epoch')\n",
        "plt.legend(['train', 'test'], loc='lower right')\n",
        "plt.show()\n",
        "\n",
        "\n",
        "# summarize history for loss\n",
        "plt.plot(history.history['loss'])\n",
        "plt.plot(history.history['val_loss'])\n",
        "plt.title('model loss')\n",
        "plt.ylabel('loss')\n",
        "plt.xlabel('epoch')\n",
        "plt.legend(['train', 'test'], loc='upper right')\n",
        "plt.show()\n",
        "\n",
        "\n",
        "# summarize history for loss\n",
        "plt.plot(history.history['mean_iou'])\n",
        "plt.plot(history.history['val_mean_iou'])\n",
        "plt.title('mean_iou performance')\n",
        "plt.ylabel('mean_iou')\n",
        "plt.xlabel('epoch')\n",
        "plt.legend(['train', 'test'], loc='lower right')\n",
        "plt.show()\n",
        "\n",
        "    "
      ],
      "execution_count": 0,
      "outputs": [
        {
          "output_type": "display_data",
          "data": {
            "image/png": "[encoded data removed]",
            "text/plain": [
              "<Figure size 432x288 with 1 Axes>"
            ]
          },
          "metadata": {
            "tags": [],
            "needs_background": "light"
          }
        },
        {
          "output_type": "display_data",
          "data": {
            "image/png": "[encoded data removed]",
            "text/plain": [
              "<Figure size 432x288 with 1 Axes>"
            ]
          },
          "metadata": {
            "tags": [],
            "needs_background": "light"
          }
        },
        {
          "output_type": "display_data",
          "data": {
            "image/png": "[encoded data removed]",
            "text/plain": [
              "<Figure size 432x288 with 1 Axes>"
            ]
          },
          "metadata": {
            "tags": [],
            "needs_background": "light"
          }
        }
      ]
    },
    {
      "cell_type": "markdown",
      "metadata": {
        "id": "okED5pkCj2Rl",
        "colab_type": "text"
      },
      "source": [
        "# Evaluate Model"
      ]
    },
    {
      "cell_type": "code",
      "metadata": {
        "scrolled": true,
        "id": "CRpXPjkmj2RN",
        "colab_type": "code",
        "colab": {
          "base_uri": "https://localhost:8080/",
          "height": 1000
        },
        "outputId": "8707a20a-ad4b-42d0-9a16-590781911f45"
      },
      "source": [
        "#Generate UNet with base number of filters and number of labels for segmntation\n",
        "# model = generate_batch_norm_unet(base_num_filters=32, num_classes=3, kernel_size=(3,3))\n",
        "\n",
        "\n",
        "def dice_coef(y_true,y_pred):\n",
        "  smooth = 1\n",
        "  y_true_f = K.flatten(y_true)\n",
        "  y_pred_f = K.flatten(y_pred)\n",
        "  intersection = K.sum(y_true_f * y_pred_f)\n",
        "  return (2. * intersection + smooth)/(K.sum(K.square(y_true_f)) + K.sum(K.square(y_pred_f)) + smooth)\n",
        "\n",
        "\n",
        "# loss\n",
        "def mean_iou(y_true, y_pred):\n",
        "    prec = []\n",
        "    for t in np.arange(0.5, 1.0, 0.05):\n",
        "        y_pred_ = tf.to_int32(y_pred > t)\n",
        "        score, up_opt = tf.metrics.mean_iou(y_true, y_pred_, 2)\n",
        "        K.get_session().run(tf.local_variables_initializer())\n",
        "        with tf.control_dependencies([up_opt]):\n",
        "            score = tf.identity(score)\n",
        "        prec.append(score)\n",
        "    return K.mean(K.stack(prec), axis=0)\n",
        "\n",
        "def dice_coef_loss (y_true,y_pred):\n",
        "    return 1. - dice_coef(y_true,y_pred)\n",
        "\n",
        "#load trained moded:\n",
        "model = keras.models.load_model('./drive/My Drive/data/unet_prostate.h5',custom_objects={'dice_coef_loss':dice_coef_loss,'dice_coef':dice_coef, 'mean_iou':mean_iou})\n",
        "\n",
        "print (model.summary())"
      ],
      "execution_count": 11,
      "outputs": [
        {
          "output_type": "stream",
          "text": [
            "WARNING: Logging before flag parsing goes to stderr.\n",
            "W0817 13:32:22.927003 140303827814272 deprecation_wrapper.py:119] From /usr/local/lib/python3.6/dist-packages/keras/backend/tensorflow_backend.py:517: The name tf.placeholder is deprecated. Please use tf.compat.v1.placeholder instead.\n",
            "\n",
            "W0817 13:32:22.954926 140303827814272 deprecation_wrapper.py:119] From /usr/local/lib/python3.6/dist-packages/keras/backend/tensorflow_backend.py:4138: The name tf.random_uniform is deprecated. Please use tf.random.uniform instead.\n",
            "\n",
            "W0817 13:32:22.988593 140303827814272 deprecation_wrapper.py:119] From /usr/local/lib/python3.6/dist-packages/keras/backend/tensorflow_backend.py:245: The name tf.get_default_graph is deprecated. Please use tf.compat.v1.get_default_graph instead.\n",
            "\n",
            "W0817 13:32:22.989915 140303827814272 deprecation_wrapper.py:119] From /usr/local/lib/python3.6/dist-packages/keras/backend/tensorflow_backend.py:174: The name tf.get_default_session is deprecated. Please use tf.compat.v1.get_default_session instead.\n",
            "\n",
            "W0817 13:32:22.991694 140303827814272 deprecation_wrapper.py:119] From /usr/local/lib/python3.6/dist-packages/keras/backend/tensorflow_backend.py:181: The name tf.ConfigProto is deprecated. Please use tf.compat.v1.ConfigProto instead.\n",
            "\n",
            "W0817 13:32:23.532695 140303827814272 deprecation_wrapper.py:119] From /usr/local/lib/python3.6/dist-packages/keras/backend/tensorflow_backend.py:1834: The name tf.nn.fused_batch_norm is deprecated. Please use tf.compat.v1.nn.fused_batch_norm instead.\n",
            "\n",
            "W0817 13:32:23.708224 140303827814272 deprecation_wrapper.py:119] From /usr/local/lib/python3.6/dist-packages/keras/backend/tensorflow_backend.py:3976: The name tf.nn.max_pool is deprecated. Please use tf.nn.max_pool2d instead.\n",
            "\n",
            "W0817 13:32:24.581112 140303827814272 deprecation.py:506] From /usr/local/lib/python3.6/dist-packages/keras/backend/tensorflow_backend.py:3445: calling dropout (from tensorflow.python.ops.nn_ops) with keep_prob is deprecated and will be removed in a future version.\n",
            "Instructions for updating:\n",
            "Please use `rate` instead of `keep_prob`. Rate should be set to `rate = 1 - keep_prob`.\n",
            "W0817 13:32:26.847619 140303827814272 deprecation_wrapper.py:119] From /usr/local/lib/python3.6/dist-packages/keras/optimizers.py:790: The name tf.train.Optimizer is deprecated. Please use tf.compat.v1.train.Optimizer instead.\n",
            "\n",
            "W0817 13:32:26.894621 140303827814272 deprecation.py:323] From <ipython-input-11-1d8bc640ea7b>:15: to_int32 (from tensorflow.python.ops.math_ops) is deprecated and will be removed in a future version.\n",
            "Instructions for updating:\n",
            "Use `tf.cast` instead.\n",
            "W0817 13:32:27.003613 140303827814272 deprecation.py:323] From /usr/local/lib/python3.6/dist-packages/tensorflow/python/ops/metrics_impl.py:1178: add_dispatch_support.<locals>.wrapper (from tensorflow.python.ops.array_ops) is deprecated and will be removed in a future version.\n",
            "Instructions for updating:\n",
            "Use tf.where in 2.0, which has the same broadcast rule as np.where\n",
            "W0817 13:32:27.006027 140303827814272 deprecation.py:323] From /usr/local/lib/python3.6/dist-packages/tensorflow/python/ops/metrics_impl.py:1179: div (from tensorflow.python.ops.math_ops) is deprecated and will be removed in a future version.\n",
            "Instructions for updating:\n",
            "Deprecated in favor of operator or tf.math.divide.\n"
          ],
          "name": "stderr"
        },
        {
          "output_type": "stream",
          "text": [
            "__________________________________________________________________________________________________\n",
            "Layer (type)                    Output Shape         Param #     Connected to                     \n",
            "==================================================================================================\n",
            "input_1 (InputLayer)            (None, 320, 320, 1)  0                                            \n",
            "__________________________________________________________________________________________________\n",
            "conv2d_1 (Conv2D)               (None, 320, 320, 32) 320         input_1[0][0]                    \n",
            "__________________________________________________________________________________________________\n",
            "batch_normalization_1 (BatchNor (None, 320, 320, 32) 128         conv2d_1[0][0]                   \n",
            "__________________________________________________________________________________________________\n",
            "conv2d_2 (Conv2D)               (None, 320, 320, 32) 9248        batch_normalization_1[0][0]      \n",
            "__________________________________________________________________________________________________\n",
            "batch_normalization_2 (BatchNor (None, 320, 320, 32) 128         conv2d_2[0][0]                   \n",
            "__________________________________________________________________________________________________\n",
            "max_pooling2d_1 (MaxPooling2D)  (None, 160, 160, 32) 0           batch_normalization_2[0][0]      \n",
            "__________________________________________________________________________________________________\n",
            "conv2d_3 (Conv2D)               (None, 160, 160, 64) 18496       max_pooling2d_1[0][0]            \n",
            "__________________________________________________________________________________________________\n",
            "batch_normalization_3 (BatchNor (None, 160, 160, 64) 256         conv2d_3[0][0]                   \n",
            "__________________________________________________________________________________________________\n",
            "conv2d_4 (Conv2D)               (None, 160, 160, 64) 36928       batch_normalization_3[0][0]      \n",
            "__________________________________________________________________________________________________\n",
            "batch_normalization_4 (BatchNor (None, 160, 160, 64) 256         conv2d_4[0][0]                   \n",
            "__________________________________________________________________________________________________\n",
            "max_pooling2d_2 (MaxPooling2D)  (None, 80, 80, 64)   0           batch_normalization_4[0][0]      \n",
            "__________________________________________________________________________________________________\n",
            "conv2d_5 (Conv2D)               (None, 80, 80, 128)  73856       max_pooling2d_2[0][0]            \n",
            "__________________________________________________________________________________________________\n",
            "batch_normalization_5 (BatchNor (None, 80, 80, 128)  512         conv2d_5[0][0]                   \n",
            "__________________________________________________________________________________________________\n",
            "conv2d_6 (Conv2D)               (None, 80, 80, 128)  147584      batch_normalization_5[0][0]      \n",
            "__________________________________________________________________________________________________\n",
            "batch_normalization_6 (BatchNor (None, 80, 80, 128)  512         conv2d_6[0][0]                   \n",
            "__________________________________________________________________________________________________\n",
            "max_pooling2d_3 (MaxPooling2D)  (None, 40, 40, 128)  0           batch_normalization_6[0][0]      \n",
            "__________________________________________________________________________________________________\n",
            "conv2d_7 (Conv2D)               (None, 40, 40, 256)  295168      max_pooling2d_3[0][0]            \n",
            "__________________________________________________________________________________________________\n",
            "batch_normalization_7 (BatchNor (None, 40, 40, 256)  1024        conv2d_7[0][0]                   \n",
            "__________________________________________________________________________________________________\n",
            "conv2d_8 (Conv2D)               (None, 40, 40, 256)  590080      batch_normalization_7[0][0]      \n",
            "__________________________________________________________________________________________________\n",
            "batch_normalization_8 (BatchNor (None, 40, 40, 256)  1024        conv2d_8[0][0]                   \n",
            "__________________________________________________________________________________________________\n",
            "max_pooling2d_4 (MaxPooling2D)  (None, 20, 20, 256)  0           batch_normalization_8[0][0]      \n",
            "__________________________________________________________________________________________________\n",
            "conv2d_9 (Conv2D)               (None, 20, 20, 512)  1180160     max_pooling2d_4[0][0]            \n",
            "__________________________________________________________________________________________________\n",
            "batch_normalization_9 (BatchNor (None, 20, 20, 512)  2048        conv2d_9[0][0]                   \n",
            "__________________________________________________________________________________________________\n",
            "conv2d_10 (Conv2D)              (None, 20, 20, 512)  2359808     batch_normalization_9[0][0]      \n",
            "__________________________________________________________________________________________________\n",
            "batch_normalization_10 (BatchNo (None, 20, 20, 512)  2048        conv2d_10[0][0]                  \n",
            "__________________________________________________________________________________________________\n",
            "dropout_1 (Dropout)             (None, 20, 20, 512)  0           batch_normalization_10[0][0]     \n",
            "__________________________________________________________________________________________________\n",
            "conv2d_transpose_1 (Conv2DTrans (None, 40, 40, 256)  1179904     dropout_1[0][0]                  \n",
            "__________________________________________________________________________________________________\n",
            "concatenate_1 (Concatenate)     (None, 40, 40, 512)  0           conv2d_transpose_1[0][0]         \n",
            "                                                                 conv2d_8[0][0]                   \n",
            "__________________________________________________________________________________________________\n",
            "conv2d_11 (Conv2D)              (None, 40, 40, 256)  1179904     concatenate_1[0][0]              \n",
            "__________________________________________________________________________________________________\n",
            "batch_normalization_11 (BatchNo (None, 40, 40, 256)  1024        conv2d_11[0][0]                  \n",
            "__________________________________________________________________________________________________\n",
            "conv2d_12 (Conv2D)              (None, 40, 40, 256)  590080      batch_normalization_11[0][0]     \n",
            "__________________________________________________________________________________________________\n",
            "batch_normalization_12 (BatchNo (None, 40, 40, 256)  1024        conv2d_12[0][0]                  \n",
            "__________________________________________________________________________________________________\n",
            "conv2d_transpose_2 (Conv2DTrans (None, 80, 80, 128)  295040      batch_normalization_12[0][0]     \n",
            "__________________________________________________________________________________________________\n",
            "concatenate_2 (Concatenate)     (None, 80, 80, 256)  0           conv2d_transpose_2[0][0]         \n",
            "                                                                 conv2d_6[0][0]                   \n",
            "__________________________________________________________________________________________________\n",
            "conv2d_13 (Conv2D)              (None, 80, 80, 128)  295040      concatenate_2[0][0]              \n",
            "__________________________________________________________________________________________________\n",
            "batch_normalization_13 (BatchNo (None, 80, 80, 128)  512         conv2d_13[0][0]                  \n",
            "__________________________________________________________________________________________________\n",
            "conv2d_14 (Conv2D)              (None, 80, 80, 128)  147584      batch_normalization_13[0][0]     \n",
            "__________________________________________________________________________________________________\n",
            "batch_normalization_14 (BatchNo (None, 80, 80, 128)  512         conv2d_14[0][0]                  \n",
            "__________________________________________________________________________________________________\n",
            "conv2d_transpose_3 (Conv2DTrans (None, 160, 160, 64) 73792       batch_normalization_14[0][0]     \n",
            "__________________________________________________________________________________________________\n",
            "concatenate_3 (Concatenate)     (None, 160, 160, 128 0           conv2d_transpose_3[0][0]         \n",
            "                                                                 conv2d_4[0][0]                   \n",
            "__________________________________________________________________________________________________\n",
            "conv2d_15 (Conv2D)              (None, 160, 160, 64) 73792       concatenate_3[0][0]              \n",
            "__________________________________________________________________________________________________\n",
            "batch_normalization_15 (BatchNo (None, 160, 160, 64) 256         conv2d_15[0][0]                  \n",
            "__________________________________________________________________________________________________\n",
            "conv2d_16 (Conv2D)              (None, 160, 160, 64) 36928       batch_normalization_15[0][0]     \n",
            "__________________________________________________________________________________________________\n",
            "batch_normalization_16 (BatchNo (None, 160, 160, 64) 256         conv2d_16[0][0]                  \n",
            "__________________________________________________________________________________________________\n",
            "conv2d_transpose_4 (Conv2DTrans (None, 320, 320, 32) 18464       batch_normalization_16[0][0]     \n",
            "__________________________________________________________________________________________________\n",
            "concatenate_4 (Concatenate)     (None, 320, 320, 64) 0           conv2d_transpose_4[0][0]         \n",
            "                                                                 conv2d_2[0][0]                   \n",
            "__________________________________________________________________________________________________\n",
            "conv2d_17 (Conv2D)              (None, 320, 320, 32) 18464       concatenate_4[0][0]              \n",
            "__________________________________________________________________________________________________\n",
            "batch_normalization_17 (BatchNo (None, 320, 320, 32) 128         conv2d_17[0][0]                  \n",
            "__________________________________________________________________________________________________\n",
            "conv2d_18 (Conv2D)              (None, 320, 320, 32) 9248        batch_normalization_17[0][0]     \n",
            "__________________________________________________________________________________________________\n",
            "batch_normalization_18 (BatchNo (None, 320, 320, 32) 128         conv2d_18[0][0]                  \n",
            "__________________________________________________________________________________________________\n",
            "conv2d_19 (Conv2D)              (None, 320, 320, 3)  99          batch_normalization_18[0][0]     \n",
            "==================================================================================================\n",
            "Total params: 8,641,763\n",
            "Trainable params: 8,635,875\n",
            "Non-trainable params: 5,888\n",
            "__________________________________________________________________________________________________\n",
            "None\n"
          ],
          "name": "stdout"
        }
      ]
    },
    {
      "cell_type": "code",
      "metadata": {
        "scrolled": false,
        "id": "Y52-NUaxj2Rn",
        "colab_type": "code",
        "colab": {},
        "outputId": "c2d87dfb-1649-42e8-e53a-c014812c13ff"
      },
      "source": [
        "# model = keras.models.load_model('unet_prostatelatest.h5',custom_objects={'dice_coef_loss':dice_coef_loss,'dice_coef':dice_coef, 'mean_iou':mean_iou})\n",
        "\n",
        "# val_steps_per_epoch = 2000/batch_size\n",
        "\n",
        "# print(\"\\n\\n==================  Evaluate the results ====================\")\n",
        "\n",
        "# score = model.evaluate_generator(val_generator,steps=val_steps_per_epoch,workers=10, use_multiprocessing=True, verbose=1)\n",
        "# print ('\\nValidation loss:',score[0])\n",
        "# print('Accuracy:',score[1])\n",
        "# print('Dice score:',score[2])"
      ],
      "execution_count": 0,
      "outputs": [
        {
          "output_type": "stream",
          "text": [
            "\n",
            "\n",
            "==================  Evaluate the results ====================\n",
            "Found 2000 images belonging to 1 classes.\n",
            "Found 2000 images belonging to 1 classes.\n",
            "Found 2000 images belonging to 1 classes.\n",
            "Found 2000 images belonging to 1 classes.\n",
            "Found 2000 images belonging to 1 classes.\n",
            "Found 2000 images belonging to 1 classes.\n",
            "Found 2000 images belonging to 1 classes.\n",
            "Found 2000 images belonging to 1 classes.\n",
            "Found 2000 images belonging to 1 classes.\n",
            "Found 2000 images belonging to 1 classes.\n",
            "Found 2000 images belonging to 1 classes.\n",
            "Found 2000 images belonging to 1 classes.\n",
            "Found 2000 images belonging to 1 classes.\n",
            "Found 2000 images belonging to 1 classes.\n",
            "Found 2000 images belonging to 1 classes.\n",
            "Found 2000 images belonging to 1 classes.\n",
            "Found 2000 images belonging to 1 classes.\n",
            "Found 2000 images belonging to 1 classes.\n",
            "Found 2000 images belonging to 1 classes.\n",
            "Found 2000 images belonging to 1 classes.\n",
            "125/125 [==============================] - 37s 297ms/step\n",
            "\n",
            "Validation loss: 0.020859003543853758\n",
            "Accuracy: 0.9756014943122864\n",
            "Dice score: 0.9568996119499207\n"
          ],
          "name": "stdout"
        }
      ]
    },
    {
      "cell_type": "markdown",
      "metadata": {
        "id": "y3lV5VZyj2Rr",
        "colab_type": "text"
      },
      "source": [
        "## Visualization"
      ]
    },
    {
      "cell_type": "code",
      "metadata": {
        "scrolled": false,
        "id": "4mGzNQs7j2Rs",
        "colab_type": "code",
        "colab": {}
      },
      "source": [
        "import keras\n",
        "import matplotlib.pyplot as plt\n",
        "from skimage.io import imread\n",
        "from matplotlib import gridspec\n",
        "from skimage import io, color, img_as_float\n",
        "from skimage.exposure import adjust_gamma\n",
        "from skimage.segmentation import mark_boundaries\n",
        "import cv2\n",
        "import warnings\n",
        "warnings.filterwarnings('ignore')\n",
        "\n",
        "img_h =320\n",
        "img_w=320\n",
        "n_labels =3\n",
        "\n",
        "\n",
        "image = X_test # evaluate on 1st 16 images\n",
        "mask = Y_test\n",
        "\n",
        "segmentation = model.predict(image).argmax(axis=3)\n",
        "mask = mask.argmax(axis=3)\n",
        "\n",
        "\n",
        "print(\"\\n\\n==================  Result visualization ====================\")\n",
        "\n",
        "for img, sgm, msk in zip(image, segmentation, mask):\n",
        "    \n",
        "    \n",
        "    ones = np.argwhere(sgm == 1)\n",
        "    twos = np.argwhere(sgm == 2)\n",
        "    \n",
        "\n",
        "    # adjust gamma of image\n",
        "\n",
        "    img = adjust_gamma(img, 0.75)\n",
        "    sliced_image = img.copy()\n",
        "    sliced_image = sliced_image[...,0]\n",
        "    overlay_seg = np.stack((sliced_image,)*3, axis=-1)\n",
        "    \n",
        "    # define color for each ROI \n",
        "    cz_color = [209/255,14/255, 47/255]\n",
        "    pz_color = [255/255, 255/255, 255/255]\n",
        "   \n",
        "  \n",
        "    # change colors of segmented classes\n",
        "    for i in range(len(ones)):\n",
        "        overlay_seg[ones[i][0]][ones[i][1]] = cz_color\n",
        "    for i in range(len(twos)):\n",
        "        overlay_seg[twos[i][0]][twos[i][1]] = pz_color\n",
        "    \n",
        " \n",
        "    plt.figure(figsize=(20, 4))\n",
        "    grid_spec = gridspec.GridSpec(1, 5, width_ratios=[6, 6, 6, 6, 1])\n",
        "\n",
        "    plt.subplot(grid_spec[0])\n",
        "    plt.imshow(img[...,0],cmap=cm.Greys_r, interpolation='none')\n",
        "    plt.axis('off')\n",
        "    plt.title('input image')\n",
        "\n",
        "    plt.subplot(grid_spec[1])\n",
        "    seg_msk = label_to_color_image(msk).astype(np.uint8)\n",
        "    plt.imshow(seg_msk)\n",
        "    plt.axis('off')\n",
        "    plt.title('ground truth')\n",
        "    \n",
        "    plt.subplot(grid_spec[2])\n",
        "    seg_image = label_to_color_image(sgm).astype(np.uint8)\n",
        "    plt.imshow(seg_image)\n",
        "    plt.axis('off')\n",
        "    plt.title('prediction')\n",
        "    \n",
        "    plt.subplot(grid_spec[3])\n",
        "    plt.imshow(overlay_seg)\n",
        "    plt.axis('off')\n",
        "    plt.title('segmentation overlay')\n",
        "\n",
        "    unique_labels = np.unique(seg_map)\n",
        "    ax = plt.subplot(grid_spec[4])\n",
        "    plt.imshow(FULL_COLOR_MAP[unique_labels].astype(np.uint8), interpolation='nearest')\n",
        "    ax.yaxis.tick_right()\n",
        "    plt.yticks(range(len(unique_labels)), LABEL_NAMES[unique_labels])\n",
        "    plt.xticks([], [])\n",
        "    ax.tick_params(width=0.0)\n",
        "    plt.grid('off')\n",
        "    plt.show()"
      ],
      "execution_count": 0,
      "outputs": []
    },
    {
      "cell_type": "markdown",
      "metadata": {
        "id": "8gi7RXPZj2Rz",
        "colab_type": "text"
      },
      "source": [
        "# Performance\n",
        "### Evaluate on the sample image\n",
        "There are many ways to measure the performance of a segmentation model. The most straight forward one is pixel accuracy, which calculates how many pixels are correctly predicted. Another commonly used one is the standard Jaccard Index (intersection-over-union) as IoU = TP ⁄ (TP+FP+FN), where TP, FP, and FN are the numbers of true positive, false positive, and false negative pixels, respectively."
      ]
    },
    {
      "cell_type": "code",
      "metadata": {
        "scrolled": true,
        "id": "NZVyE0dbj2R1",
        "colab_type": "code",
        "colab": {}
      },
      "source": [
        "import warnings\n",
        "warnings.filterwarnings('ignore')\n",
        "import time\n",
        "from tqdm import tqdm_notebook as tqdm\n",
        "\n",
        "\n",
        "\n",
        "def evaluate_image(seg, ground_truth):\n",
        "    smooth =1\n",
        "\n",
        "    # calculate accuracy on valid area\n",
        "    acc = (np.sum(seg[ground_truth!=3]==ground_truth[ground_truth!=3])/np.sum(ground_truth!=3))\n",
        "    \n",
        "    # select valid labels for evaluation\n",
        "    cm = confusion_matrix(ground_truth[ground_truth!=3], seg[ground_truth!=3],\n",
        "                          labels=np.array([0,1,2]))\n",
        "    \n",
        "    intersection = np.diag(cm) # true positive\n",
        "    union = np.sum(cm, 0) + np.sum(cm, 1) - np.diag(cm)  \n",
        "    TP = np.diag(cm)\n",
        "    FP = np.sum(cm,1) - np.diag(cm)\n",
        "    FN = np.sum(cm,0) - np.diag(cm)\n",
        "    precision = (TP + smooth)/ (TP + FP + smooth)\n",
        "    recall = (TP + smooth)/(TP + FN + smooth)\n",
        "    f1 = 2* ((precision*recall)/(precision + recall))\n",
        "    iou = (intersection + smooth)/(union + smooth)\n",
        "\n",
        "    return acc, intersection, union,precision, recall,iou, f1\n",
        "\n",
        "\n",
        "def dice_scores(pred, gts, empty_score=[1.,1.]):\n",
        "    dice = []\n",
        "    smooth = 1.\n",
        "    \n",
        "    if pred.shape != gts.shape:\n",
        "        raise ValueError(\"Shape mismatch: pred and gts must have the same shape.\")\n",
        "\n",
        "    im_sum = np.sum(pred) + np.sum(gts)\n",
        "    if im_sum == 0:\n",
        "        return empty_score\n",
        "\n",
        "    for i in range(2):\n",
        "        intersect = np.sum((pred == i+1)*(gts == i+1))\n",
        "        denom = np.sum((pred == i+1)) + np.sum((gts == i+1))\n",
        "        dice.append((2*intersect + smooth)/(denom + smooth))\n",
        "        \n",
        "    return dice\n",
        "\n",
        "accuracy =[]\n",
        "IoU = []\n",
        "prec = []\n",
        "rec = []\n",
        "dice_Score = []\n",
        "F1 =[]\n",
        "\n",
        "print('\\n\\n==================  Evaluation of test dataset ====================')\n",
        "# print('\\nclass dice score:')\n",
        "\n",
        "batch_size = 10\n",
        "index = np.ceil(70/batch_size).astype(np.int64)\n",
        "\n",
        "start_time = time.time()\n",
        "\n",
        "for count in tqdm(range(index), desc ='Progress'):\n",
        "\n",
        "#     image, mask = next(test_generator)\n",
        "\n",
        "    image = X_test # evaluate on 1st 16 images\n",
        "    mask = Y_test\n",
        "    \n",
        "    segmentation = model.predict(image).argmax(axis=3)\n",
        "    mask = mask.argmax(axis=3)\n",
        "\n",
        "    for img, sgm, msk in zip(image, segmentation, mask):\n",
        "        \n",
        "\n",
        "        acc,intersection, union,precision,recall,iou, f1= evaluate_image(sgm,msk)\n",
        "        \n",
        "        mean_square_err,struc_similarity = compare_image(sgm,msk)\n",
        "        dice = dice_scores(sgm,msk)\n",
        "        dice_Score.append(dice)\n",
        "    \n",
        "        accuracy.append(np.round(acc,3))\n",
        "        prec.append(np.round(precision,3))\n",
        "        rec.append(np.round(recall,3))\n",
        "        F1.append(np.round(f1,3))\n",
        "        IoU.append(np.round(iou,3))\n",
        "        \n",
        "        \n",
        "\n",
        "\n",
        "np.set_printoptions(precision=2)\n",
        "\n",
        "IoU = np.array(IoU)\n",
        "prec = np.array(prec)\n",
        "rec = np.array(rec)\n",
        "dice_Score = np.array(dice_Score)\n",
        "F1 = np.array(F1)\n",
        "\n",
        "end_time = time.time()\n",
        "hours, rem = divmod(end_time - start_time,3600)\n",
        "minutes, seconds = divmod(rem,60)\n",
        "print('Execution Time:')\n",
        "print(\"{:0>2}:{:0>2}:{:05.2f}\".format(int(hours),int(minutes),seconds))"
      ],
      "execution_count": 0,
      "outputs": []
    },
    {
      "cell_type": "code",
      "metadata": {
        "id": "TuNObRcvj2R5",
        "colab_type": "code",
        "colab": {}
      },
      "source": [
        "print('\\n================== global performance ====================\\n')\n",
        "\n",
        "print(\"mean pixel accuracy:\",np.mean(accuracy, axis=0))\n",
        "\n",
        "print('\\n***** IoU *****:')\n",
        "print('mean  :', np.mean(IoU[:,1:],0))\n",
        "print('median:', np.median(IoU[:,1:],0))\n",
        "\n",
        "print('\\n***** Precision *****:')\n",
        "print('mean  :', np.mean(prec[:,1:],0))\n",
        "print('median:', np.median(prec[:,1:],0))\n",
        "\n",
        "print('\\n***** F1 Score *****:')\n",
        "print('mean  :', np.mean(F1[:,1:],0))\n",
        "print('median:', np.median(F1[:,1:],0))\n",
        "\n",
        "print('\\n***** Recall *****:')\n",
        "print('mean  :', np.mean(rec[:,1:],0))\n",
        "print('median:', np.median(rec[:,1:],0))\n",
        "\n",
        "\n",
        "print('\\n***** Dice Score *****:')\n",
        "print('mean  :',np.mean(dice_Score, 0))\n",
        "print('median:',np.median(dice_Score,0))\n",
        "\n",
        "\n",
        "print(\"\\nExec time: {} minutes\".format((np.round(time.time() - start_time, 2))/60))"
      ],
      "execution_count": 0,
      "outputs": []
    },
    {
      "cell_type": "code",
      "metadata": {
        "id": "X769dFSsj2R9",
        "colab_type": "code",
        "colab": {}
      },
      "source": [
        "import pylab\n",
        "\n",
        "df1 = np.array(dice_Score)\n",
        "\n",
        "\n",
        "fig, ax1 = plt.subplots(figsize=(8, 4))\n",
        "bp = ax1.boxplot(df1,0,'', patch_artist=True, autorange=True, showmeans=True)\n",
        "\n",
        "\n",
        "## change outline color, fill color and linewidth of the boxes\n",
        "for box in bp['boxes']:\n",
        "    # change outline color\n",
        "    box.set( color='#7570b3', linewidth=1)\n",
        "    # change fill color\n",
        "    box.set( facecolor = '#0053a0' )\n",
        "    \n",
        "## change color and linewidth of the medians\n",
        "for median in bp['medians']:\n",
        "    median.set(color='#ede800', linewidth=2)\n",
        "\n",
        "\n",
        "ax1.set_title('Dice score for all regions',fontsize=14)\n",
        "ax1.set_xlabel('Region',fontsize=14)\n",
        "ax1.set_ylabel('Dice ',fontsize=14)\n",
        "ax1.set_xticklabels(('PZ', 'CZ'),fontsize=12)\n",
        "ax1.tick_params(axis='y', labelsize=12)\n",
        "plt.show()"
      ],
      "execution_count": 0,
      "outputs": []
    },
    {
      "cell_type": "code",
      "metadata": {
        "id": "vbsOYZXqj2SA",
        "colab_type": "code",
        "colab": {}
      },
      "source": [
        "import seaborn as sns\n",
        "from scipy.stats import norm\n",
        "\n",
        "df = np.array(dice_Score)\n",
        "df.shape\n",
        "x1 = df[:,0]\n",
        "x2 = df[:,1]\n",
        "\n",
        "sns.distplot(x1,color = \"deeppink\",kde=False)\n",
        "plt.title('Histogram of PZ Dice Score')\n",
        "plt.ylabel('Frequency')\n",
        "plt.xlabel('Dice Score')\n",
        "plt.show()\n",
        "\n",
        "sns.distplot(x2,color = \"darkgreen\",kde=False)\n",
        "plt.title('Histogram of CZ Dice Score')\n",
        "plt.ylabel('Frequency')\n",
        "plt.xlabel('Dice Score')\n",
        "plt.show()\n"
      ],
      "execution_count": 0,
      "outputs": []
    }
  ]
}

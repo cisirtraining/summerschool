{
  "nbformat": 4,
  "nbformat_minor": 0,
  "metadata": {
    "colab": {
      "name": "Day1_Introduction_to_DL_framework2.ipynb",
      "provenance": [],
      "collapsed_sections": [],
      "authorship_tag": "ABX9TyO8iYfwzmBfS3P0yQlFLOWv",
      "include_colab_link": true
    },
    "kernelspec": {
      "name": "python3",
      "display_name": "Python 3"
    },
    "accelerator": "GPU"
  },
  "cells": [
    {
      "cell_type": "markdown",
      "metadata": {
        "id": "view-in-github",
        "colab_type": "text"
      },
      "source": [
        "<a href=\"https://colab.research.google.com/github/cisirtraining/summerschool/blob/master/Day1_Introduction_to_DL_framework2.ipynb\" target=\"_parent\"><img src=\"https://colab.research.google.com/assets/colab-badge.svg\" alt=\"Open In Colab\"/></a>"
      ]
    },
    {
      "cell_type": "markdown",
      "metadata": {
        "id": "_5K2I6ihm8u2",
        "colab_type": "text"
      },
      "source": [
        "**Image classification**"
      ]
    },
    {
      "cell_type": "markdown",
      "metadata": {
        "id": "EknAIfdjPBrP",
        "colab_type": "text"
      },
      "source": [
        "**Load data & pre-process**"
      ]
    },
    {
      "cell_type": "code",
      "metadata": {
        "id": "-UmB77VTCCRo",
        "colab_type": "code",
        "colab": {
          "base_uri": "https://localhost:8080/",
          "height": 51
        },
        "outputId": "3be2fce3-9e7a-49cf-afc6-c069bdc601cd"
      },
      "source": [
        "from keras.datasets import mnist\n",
        "from keras.utils import np_utils\n",
        "\n",
        "# Load pre-shuffled MNIST data into train and test sets\n",
        "(X_train, y_train), (X_test, y_test) = mnist.load_data()\n",
        "\n",
        "# Data pre-processing\n",
        "X_train = X_train.reshape(X_train.shape[0], 28, 28, 1).astype('float32') / 255\n",
        "X_test = X_test.reshape(X_test.shape[0], 28, 28, 1).astype('float32') / 255\n",
        "Y_train = np_utils.to_categorical(y_train, 10) \n",
        "Y_test = np_utils.to_categorical(y_test, 10)\n",
        "\n",
        "print(\"Data shape: \", X_train.shape)\n",
        "print(\"Label shape: \", Y_train.shape)"
      ],
      "execution_count": 2,
      "outputs": [
        {
          "output_type": "stream",
          "text": [
            "Data shape:  (60000, 28, 28, 1)\n",
            "Label shape:  (60000, 10)\n"
          ],
          "name": "stdout"
        }
      ]
    },
    {
      "cell_type": "markdown",
      "metadata": {
        "id": "p5Ii88KJPYLX",
        "colab_type": "text"
      },
      "source": [
        "**Show some random sample**"
      ]
    },
    {
      "cell_type": "code",
      "metadata": {
        "id": "zunzzkBaCzLo",
        "colab_type": "code",
        "colab": {
          "base_uri": "https://localhost:8080/",
          "height": 282
        },
        "outputId": "e24287ad-3612-449f-cdc2-f72e9aed28f5"
      },
      "source": [
        "import numpy as np\n",
        "from matplotlib import pyplot as plt\n",
        "\n",
        "rnd_int = np.random.randint(X_train.shape[0], size=1)[0]\n",
        "plt.imshow(X_train.reshape(X_train.shape[0], 28, 28)[rnd_int])"
      ],
      "execution_count": 8,
      "outputs": [
        {
          "output_type": "execute_result",
          "data": {
            "text/plain": [
              "<matplotlib.image.AxesImage at 0x7f9b8ffe8710>"
            ]
          },
          "metadata": {
            "tags": []
          },
          "execution_count": 8
        },
        {
          "output_type": "display_data",
          "data": {
            "image/png": "[encoded data removed]",
            "text/plain": [
              "<Figure size 432x288 with 1 Axes>"
            ]
          },
          "metadata": {
            "tags": [],
            "needs_background": "light"
          }
        }
      ]
    },
    {
      "cell_type": "markdown",
      "metadata": {
        "id": "fh3w9-38P1av",
        "colab_type": "text"
      },
      "source": [
        "**Define CNN model**"
      ]
    },
    {
      "cell_type": "code",
      "metadata": {
        "id": "1mffXUt2DlTp",
        "colab_type": "code",
        "colab": {
          "base_uri": "https://localhost:8080/",
          "height": 822
        },
        "outputId": "719d8e93-ebec-4f0b-baad-f539722bdc67"
      },
      "source": [
        "from keras.models import Sequential\n",
        "from keras.layers import Dense, Dropout, Flatten\n",
        "from keras.layers import Convolution2D, MaxPooling2D\n",
        "from keras.utils.vis_utils import plot_model\n",
        "\n",
        "def build_model():\n",
        "  num_filters = 8\n",
        "  filter_size = 3\n",
        "  pool_size = 2\n",
        "\n",
        "  model = Sequential([\n",
        "  Convolution2D(num_filters, filter_size, input_shape=(28, 28, 1)),\n",
        "  MaxPooling2D(pool_size=pool_size),\n",
        "  Flatten(),\n",
        "  Dense(10, activation='softmax'),\n",
        "  ])\n",
        "  print(\"Model build.\")\n",
        "  return model\n",
        "\n",
        "# def build_model2():\n",
        "#   input_shape = (28, 28, 1)\n",
        "#   no_classes = 10\n",
        "\n",
        "#   model = Sequential()\n",
        "#   model.add(Convolution2D(32, kernel_size=(3, 3), activation='relu', input_shape=input_shape))\n",
        "#   model.add(MaxPooling2D(pool_size=(2, 2)))\n",
        "#   model.add(Dropout(0.25))\n",
        "#   model.add(Convolution2D(64, kernel_size=(3, 3), activation='relu'))\n",
        "#   model.add(MaxPooling2D(pool_size=(2, 2)))\n",
        "#   model.add(Dropout(0.25))\n",
        "#   model.add(Flatten())\n",
        "#   model.add(Dense(256, activation='relu'))\n",
        "#   model.add(Dense(no_classes, activation='softmax'))\n",
        "#   return model\n",
        "  \n",
        "# Define our CNN model\n",
        "myCNN = build_model()\n",
        "\n",
        "# Show myCNN\n",
        "print(myCNN.summary())\n",
        "plot_model(myCNN, to_file='myCNN_plot.png', show_shapes=True, show_layer_names=True)"
      ],
      "execution_count": null,
      "outputs": [
        {
          "output_type": "stream",
          "text": [
            "Model: \"sequential_3\"\n",
            "_________________________________________________________________\n",
            "Layer (type)                 Output Shape              Param #   \n",
            "=================================================================\n",
            "conv2d_3 (Conv2D)            (None, 26, 26, 8)         80        \n",
            "_________________________________________________________________\n",
            "max_pooling2d_3 (MaxPooling2 (None, 13, 13, 8)         0         \n",
            "_________________________________________________________________\n",
            "flatten_3 (Flatten)          (None, 1352)              0         \n",
            "_________________________________________________________________\n",
            "dense_3 (Dense)              (None, 10)                13530     \n",
            "=================================================================\n",
            "Total params: 13,610\n",
            "Trainable params: 13,610\n",
            "Non-trainable params: 0\n",
            "_________________________________________________________________\n",
            "None\n"
          ],
          "name": "stdout"
        },
        {
          "output_type": "execute_result",
          "data": {
            "image/png": "[encoded data removed]",
            "text/plain": [
              "<IPython.core.display.Image object>"
            ]
          },
          "metadata": {
            "tags": []
          },
          "execution_count": 29
        }
      ]
    },
    {
      "cell_type": "markdown",
      "metadata": {
        "id": "5FV_JqB4QPBF",
        "colab_type": "text"
      },
      "source": [
        "**Compile myCNN**"
      ]
    },
    {
      "cell_type": "code",
      "metadata": {
        "id": "jdocKxgCEu_A",
        "colab_type": "code",
        "colab": {}
      },
      "source": [
        "myCNN.compile(\n",
        "  'adam',\n",
        "  loss='categorical_crossentropy',\n",
        "  metrics=['accuracy'],\n",
        ")"
      ],
      "execution_count": null,
      "outputs": []
    },
    {
      "cell_type": "markdown",
      "metadata": {
        "id": "sHzWtisuQRar",
        "colab_type": "text"
      },
      "source": [
        "**Fit myCNN**"
      ]
    },
    {
      "cell_type": "code",
      "metadata": {
        "id": "KRV8C-AkE2PV",
        "colab_type": "code",
        "colab": {
          "base_uri": "https://localhost:8080/",
          "height": 119
        },
        "outputId": "c456f038-89d8-4d8f-d680-9f18874edb8e"
      },
      "source": [
        "history = myCNN.fit(\n",
        "    X_train,\n",
        "    Y_train,\n",
        "    epochs=3,\n",
        "    validation_data=(X_test, Y_test),\n",
        "    batch_size=10, verbose=2\n",
        "    )\n",
        "\n",
        "# Saving myCNN weight\n",
        "myCNN.save_weights('myCNN_mnist_cnn.h5')\n",
        "print(\"myCNN weight is saved.\")"
      ],
      "execution_count": null,
      "outputs": [
        {
          "output_type": "stream",
          "text": [
            "Epoch 1/3\n",
            "6000/6000 - 13s - loss: 0.2874 - accuracy: 0.9181 - val_loss: 0.1876 - val_accuracy: 0.9462\n",
            "Epoch 2/3\n",
            "6000/6000 - 13s - loss: 0.1504 - accuracy: 0.9571 - val_loss: 0.1157 - val_accuracy: 0.9650\n",
            "Epoch 3/3\n",
            "6000/6000 - 13s - loss: 0.1088 - accuracy: 0.9688 - val_loss: 0.0970 - val_accuracy: 0.9694\n"
          ],
          "name": "stdout"
        }
      ]
    },
    {
      "cell_type": "markdown",
      "metadata": {
        "id": "HHfpnIc9QtJh",
        "colab_type": "text"
      },
      "source": [
        "**Prediction with trained myCNN**"
      ]
    },
    {
      "cell_type": "code",
      "metadata": {
        "id": "9tAvVmRqGbzs",
        "colab_type": "code",
        "colab": {
          "base_uri": "https://localhost:8080/",
          "height": 51
        },
        "outputId": "ee40bfee-2500-47b9-da36-b14a02aff97e"
      },
      "source": [
        "from tensorflow.keras.models import Sequential\n",
        "from tensorflow.keras.layers import Conv2D, MaxPooling2D, Dense, Flatten\n",
        "\n",
        "# Build the myCNN.\n",
        "myCNN = build_model()\n",
        "\n",
        "# Load the myCNN's saved weights.\n",
        "myCNN.load_weights('myCNN_mnist_cnn.h5')"
      ],
      "execution_count": null,
      "outputs": [
        {
          "output_type": "stream",
          "text": [
            "Build model.\n",
            "Load the model's saved weights.\n"
          ],
          "name": "stdout"
        }
      ]
    },
    {
      "cell_type": "code",
      "metadata": {
        "id": "pVlm4c-FHwzk",
        "colab_type": "code",
        "colab": {}
      },
      "source": [
        "import matplotlib.pyplot as plt\n",
        "import numpy as np\n",
        "\n",
        "# A few random samples\n",
        "use_samples = np.random.randint(X_train.shape[0], size=4) # [5, 38, 3939, 27389]\n",
        "samples_to_predict = []\n",
        "img_width, img_height = 28, 28\n",
        "\n",
        "# Generate plots for samples\n",
        "for sample in use_samples:\n",
        "  # Generate a plot\n",
        "  reshaped_image = X_train[sample].reshape((img_width, img_height))\n",
        "  plt.imshow(reshaped_image)\n",
        "  plt.show()\n",
        "  # Add sample to array for prediction\n",
        "  samples_to_predict.append(X_train[sample])"
      ],
      "execution_count": null,
      "outputs": []
    },
    {
      "cell_type": "code",
      "metadata": {
        "id": "ySu0ZkftIYfI",
        "colab_type": "code",
        "colab": {}
      },
      "source": [
        "# Convert into Numpy array\n",
        "samples_to_predict = np.array(samples_to_predict)\n",
        "# print(samples_to_predict.shape)\n",
        "\n",
        "# Generate predictions for samples\n",
        "predictions = myCNN.predict(samples_to_predict)\n",
        "print(\"predictions: \", predictions)\n",
        "\n",
        "# Generate arg maxes for predictions\n",
        "classes = np.argmax(predictions, axis = 1)\n",
        "print(\"classes: \", classes)"
      ],
      "execution_count": null,
      "outputs": []
    }
  ]
}
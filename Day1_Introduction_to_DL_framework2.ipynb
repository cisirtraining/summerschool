{
  "nbformat": 4,
  "nbformat_minor": 0,
  "metadata": {
    "colab": {
      "name": "Day1_Introduction_to_DL_framework2.ipynb",
      "provenance": [],
      "collapsed_sections": [],
      "authorship_tag": "ABX9TyNYCImrNGcM6C0aDIakOGa8",
      "include_colab_link": true
    },
    "kernelspec": {
      "name": "python3",
      "display_name": "Python 3"
    },
    "accelerator": "GPU"
  },
  "cells": [
    {
      "cell_type": "markdown",
      "metadata": {
        "id": "view-in-github",
        "colab_type": "text"
      },
      "source": [
        "<a href=\"https://colab.research.google.com/github/cisirtraining/summerschool/blob/master/Day1_Introduction_to_DL_framework2.ipynb\" target=\"_parent\"><img src=\"https://colab.research.google.com/assets/colab-badge.svg\" alt=\"Open In Colab\"/></a>"
      ]
    },
    {
      "cell_type": "markdown",
      "metadata": {
        "id": "EknAIfdjPBrP",
        "colab_type": "text"
      },
      "source": [
        "**Load data & pre-process**"
      ]
    },
    {
      "cell_type": "code",
      "metadata": {
        "id": "-UmB77VTCCRo",
        "colab_type": "code",
        "colab": {
          "base_uri": "https://localhost:8080/",
          "height": 51
        },
        "outputId": "d29f84e6-2147-4fd4-8473-f14f80d5d482"
      },
      "source": [
        "from keras.datasets import mnist\n",
        "from keras.utils import np_utils\n",
        "\n",
        "# Load pre-shuffled MNIST data into train and test sets\n",
        "(X_train, y_train), (X_test, y_test) = mnist.load_data()\n",
        "print(\"Original dimension: \", X_train.shape)\n",
        "\n",
        "X_train = X_train.reshape(X_train.shape[0], 28, 28, 1)\n",
        "X_test = X_test.reshape(X_test.shape[0], 28, 28, 1)\n",
        "print(\"After reshape: \", X_train.shape)\n",
        "\n",
        "X_train = X_train.astype('float32')\n",
        "X_test = X_test.astype('float32')\n",
        "X_train /= 255\n",
        "X_test /= 255\n",
        "\n",
        "# Convert 1-dimensional class arrays to 10-dimensional class matrices\n",
        "Y_train = np_utils.to_categorical(y_train, 10)\n",
        "Y_test = np_utils.to_categorical(y_test, 10)"
      ],
      "execution_count": 10,
      "outputs": [
        {
          "output_type": "stream",
          "text": [
            "Original dimension:  (60000, 28, 28)\n",
            "After reshape:  (60000, 28, 28, 1)\n"
          ],
          "name": "stdout"
        }
      ]
    },
    {
      "cell_type": "markdown",
      "metadata": {
        "id": "p5Ii88KJPYLX",
        "colab_type": "text"
      },
      "source": [
        "**Show some random sample**"
      ]
    },
    {
      "cell_type": "code",
      "metadata": {
        "id": "zunzzkBaCzLo",
        "colab_type": "code",
        "colab": {
          "base_uri": "https://localhost:8080/",
          "height": 282
        },
        "outputId": "a1d9f0b5-eda4-4fdb-97ff-4921941f7e41"
      },
      "source": [
        "from matplotlib import pyplot as plt\n",
        "import numpy as np\n",
        "\n",
        "rnd_int = np.random.randint(X_train.shape[0], size=1)[0]\n",
        "# plt.imshow(X_train[rnd_int])\n",
        "plt.imshow(X_train.reshape(X_train.shape[0], 28, 28)[rnd_int])"
      ],
      "execution_count": 11,
      "outputs": [
        {
          "output_type": "execute_result",
          "data": {
            "text/plain": [
              "<matplotlib.image.AxesImage at 0x7f4f90c48a58>"
            ]
          },
          "metadata": {
            "tags": []
          },
          "execution_count": 11
        },
        {
          "output_type": "display_data",
          "data": {
            "image/png": "[encoded data removed]",
            "text/plain": [
              "<Figure size 432x288 with 1 Axes>"
            ]
          },
          "metadata": {
            "tags": [],
            "needs_background": "light"
          }
        }
      ]
    },
    {
      "cell_type": "markdown",
      "metadata": {
        "id": "fh3w9-38P1av",
        "colab_type": "text"
      },
      "source": [
        "**Define CNN model**"
      ]
    },
    {
      "cell_type": "code",
      "metadata": {
        "id": "1mffXUt2DlTp",
        "colab_type": "code",
        "colab": {
          "base_uri": "https://localhost:8080/",
          "height": 822
        },
        "outputId": "719d8e93-ebec-4f0b-baad-f539722bdc67"
      },
      "source": [
        "from keras.models import Sequential\n",
        "from keras.layers import Dense, Dropout, Activation, Flatten\n",
        "from keras.layers import Convolution2D, MaxPooling2D\n",
        "from keras.utils.vis_utils import plot_model\n",
        "\n",
        "num_filters = 8\n",
        "filter_size = 3\n",
        "pool_size = 2\n",
        "\n",
        "def build_model():\n",
        "  model = Sequential([\n",
        "  Convolution2D(num_filters, filter_size, input_shape=(28, 28, 1)),\n",
        "  MaxPooling2D(pool_size=pool_size),\n",
        "  Flatten(),\n",
        "  Dense(10, activation='softmax'),\n",
        "  ])\n",
        "  return model\n",
        "  \n",
        "model = build_model()\n",
        "print(model.summary())\n",
        "\n",
        "plot_model(model, to_file='my_model_plot.png', show_shapes=True, show_layer_names=True)"
      ],
      "execution_count": 29,
      "outputs": [
        {
          "output_type": "stream",
          "text": [
            "Model: \"sequential_3\"\n",
            "_________________________________________________________________\n",
            "Layer (type)                 Output Shape              Param #   \n",
            "=================================================================\n",
            "conv2d_3 (Conv2D)            (None, 26, 26, 8)         80        \n",
            "_________________________________________________________________\n",
            "max_pooling2d_3 (MaxPooling2 (None, 13, 13, 8)         0         \n",
            "_________________________________________________________________\n",
            "flatten_3 (Flatten)          (None, 1352)              0         \n",
            "_________________________________________________________________\n",
            "dense_3 (Dense)              (None, 10)                13530     \n",
            "=================================================================\n",
            "Total params: 13,610\n",
            "Trainable params: 13,610\n",
            "Non-trainable params: 0\n",
            "_________________________________________________________________\n",
            "None\n"
          ],
          "name": "stdout"
        },
        {
          "output_type": "execute_result",
          "data": {
            "image/png": "[encoded data removed]",
            "text/plain": [
              "<IPython.core.display.Image object>"
            ]
          },
          "metadata": {
            "tags": []
          },
          "execution_count": 29
        }
      ]
    },
    {
      "cell_type": "markdown",
      "metadata": {
        "id": "5FV_JqB4QPBF",
        "colab_type": "text"
      },
      "source": [
        "**Compile model**"
      ]
    },
    {
      "cell_type": "code",
      "metadata": {
        "id": "jdocKxgCEu_A",
        "colab_type": "code",
        "colab": {}
      },
      "source": [
        "model.compile(\n",
        "  'adam',\n",
        "  loss='categorical_crossentropy',\n",
        "  metrics=['accuracy'],\n",
        ")"
      ],
      "execution_count": 13,
      "outputs": []
    },
    {
      "cell_type": "markdown",
      "metadata": {
        "id": "sHzWtisuQRar",
        "colab_type": "text"
      },
      "source": [
        "**Fit model**"
      ]
    },
    {
      "cell_type": "code",
      "metadata": {
        "id": "KRV8C-AkE2PV",
        "colab_type": "code",
        "colab": {
          "base_uri": "https://localhost:8080/",
          "height": 119
        },
        "outputId": "c456f038-89d8-4d8f-d680-9f18874edb8e"
      },
      "source": [
        "history = model.fit(\n",
        "    X_train,\n",
        "    Y_train,\n",
        "    epochs=3,\n",
        "    validation_data=(X_test, Y_test),\n",
        "    batch_size=10, verbose=2\n",
        "    )\n",
        "\n",
        "# Saving model weight\n",
        "model.save_weights('my_mnist_cnn.h5')\n",
        "print(\"Model weight is saved.\")"
      ],
      "execution_count": 14,
      "outputs": [
        {
          "output_type": "stream",
          "text": [
            "Epoch 1/3\n",
            "6000/6000 - 13s - loss: 0.2874 - accuracy: 0.9181 - val_loss: 0.1876 - val_accuracy: 0.9462\n",
            "Epoch 2/3\n",
            "6000/6000 - 13s - loss: 0.1504 - accuracy: 0.9571 - val_loss: 0.1157 - val_accuracy: 0.9650\n",
            "Epoch 3/3\n",
            "6000/6000 - 13s - loss: 0.1088 - accuracy: 0.9688 - val_loss: 0.0970 - val_accuracy: 0.9694\n"
          ],
          "name": "stdout"
        }
      ]
    },
    {
      "cell_type": "markdown",
      "metadata": {
        "id": "HHfpnIc9QtJh",
        "colab_type": "text"
      },
      "source": [
        "**Prediction with trained model**"
      ]
    },
    {
      "cell_type": "code",
      "metadata": {
        "id": "9tAvVmRqGbzs",
        "colab_type": "code",
        "colab": {
          "base_uri": "https://localhost:8080/",
          "height": 51
        },
        "outputId": "ee40bfee-2500-47b9-da36-b14a02aff97e"
      },
      "source": [
        "from tensorflow.keras.models import Sequential\n",
        "from tensorflow.keras.layers import Conv2D, MaxPooling2D, Dense, Flatten\n",
        "\n",
        "num_filters = 8\n",
        "filter_size = 3\n",
        "pool_size = 2\n",
        "\n",
        "# Build the model.\n",
        "model = build_model()\n",
        "\n",
        "# Load the model's saved weights.\n",
        "model.load_weights('my_mnist_cnn.h5')"
      ],
      "execution_count": 15,
      "outputs": [
        {
          "output_type": "stream",
          "text": [
            "Build model.\n",
            "Load the model's saved weights.\n"
          ],
          "name": "stdout"
        }
      ]
    },
    {
      "cell_type": "code",
      "metadata": {
        "id": "JySLKTW_RvkQ",
        "colab_type": "code",
        "colab": {
          "base_uri": "https://localhost:8080/",
          "height": 34
        },
        "outputId": "7be96118-f41b-4999-a689-1cb6e64e61b4"
      },
      "source": [
        ""
      ],
      "execution_count": 20,
      "outputs": [
        {
          "output_type": "execute_result",
          "data": {
            "text/plain": [
              "array([42329, 28637, 39822, 46176])"
            ]
          },
          "metadata": {
            "tags": []
          },
          "execution_count": 20
        }
      ]
    },
    {
      "cell_type": "code",
      "metadata": {
        "id": "pVlm4c-FHwzk",
        "colab_type": "code",
        "colab": {
          "base_uri": "https://localhost:8080/",
          "height": 1000
        },
        "outputId": "77366648-b9fa-4b1d-9d52-d5d49ba0f545"
      },
      "source": [
        "import matplotlib.pyplot as plt\n",
        "import numpy as np\n",
        "\n",
        "# A few random samples\n",
        "use_samples = np.random.randint(X_train.shape[0], size=4) # [5, 38, 3939, 27389]\n",
        "samples_to_predict = []\n",
        "img_width, img_height = 28, 28\n",
        "\n",
        "# Generate plots for samples\n",
        "for sample in use_samples:\n",
        "  # Generate a plot\n",
        "  reshaped_image = X_train[sample].reshape((img_width, img_height))\n",
        "  plt.imshow(reshaped_image)\n",
        "  plt.show()\n",
        "  # Add sample to array for prediction\n",
        "  samples_to_predict.append(X_train[sample])"
      ],
      "execution_count": 26,
      "outputs": [
        {
          "output_type": "display_data",
          "data": {
            "image/png": "[encoded data removed]",
            "text/plain": [
              "<Figure size 432x288 with 1 Axes>"
            ]
          },
          "metadata": {
            "tags": [],
            "needs_background": "light"
          }
        },
        {
          "output_type": "display_data",
          "data": {
            "image/png": "[encoded data removed]",
            "text/plain": [
              "<Figure size 432x288 with 1 Axes>"
            ]
          },
          "metadata": {
            "tags": [],
            "needs_background": "light"
          }
        },
        {
          "output_type": "display_data",
          "data": {
            "image/png": "[encoded data removed]",
            "text/plain": [
              "<Figure size 432x288 with 1 Axes>"
            ]
          },
          "metadata": {
            "tags": [],
            "needs_background": "light"
          }
        },
        {
          "output_type": "display_data",
          "data": {
            "image/png": "[encoded data removed]",
            "text/plain": [
              "<Figure size 432x288 with 1 Axes>"
            ]
          },
          "metadata": {
            "tags": [],
            "needs_background": "light"
          }
        }
      ]
    },
    {
      "cell_type": "code",
      "metadata": {
        "id": "ySu0ZkftIYfI",
        "colab_type": "code",
        "colab": {
          "base_uri": "https://localhost:8080/",
          "height": 170
        },
        "outputId": "38a2b6b1-5cd1-4120-b1c1-52e1f15ba0e7"
      },
      "source": [
        "# Convert into Numpy array\n",
        "samples_to_predict = np.array(samples_to_predict)\n",
        "# print(samples_to_predict.shape)\n",
        "\n",
        "# Generate predictions for samples\n",
        "predictions = model.predict(samples_to_predict)\n",
        "print(\"predictions: \", predictions)\n",
        "\n",
        "# Generate arg maxes for predictions\n",
        "classes = np.argmax(predictions, axis = 1)\n",
        "print(\"classes: \", classes)"
      ],
      "execution_count": 27,
      "outputs": [
        {
          "output_type": "stream",
          "text": [
            "predictions:  [[1.2334020e-07 1.0378815e-06 4.3359332e-06 9.1752983e-05 1.0309937e-04\n",
            "  1.3260783e-05 2.3317973e-08 2.8180078e-02 7.8718830e-03 9.6373439e-01]\n",
            " [9.9810576e-01 4.7838160e-08 3.3045799e-06 3.0420404e-06 8.0873148e-09\n",
            "  6.2489824e-05 6.1026361e-04 1.9073463e-09 4.6318368e-04 7.5195683e-04]\n",
            " [9.2600640e-05 9.4165691e-05 3.2158702e-04 3.0292770e-02 9.3788922e-01\n",
            "  4.4500539e-03 4.3443330e-03 4.0575910e-06 2.1812381e-02 6.9882534e-04]\n",
            " [2.4184533e-08 5.2599873e-08 3.7414097e-04 9.9749810e-01 3.0181205e-08\n",
            "  1.5506271e-03 1.5056970e-10 1.1248312e-06 2.9411801e-04 2.8175637e-04]]\n",
            "classes:  [9 0 4 3]\n"
          ],
          "name": "stdout"
        }
      ]
    }
  ]
}
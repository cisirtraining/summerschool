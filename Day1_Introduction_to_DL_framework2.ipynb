{
  "nbformat": 4,
  "nbformat_minor": 0,
  "metadata": {
    "colab": {
      "name": "Day1_Introduction_to_DL_framework2.ipynb",
      "provenance": [],
      "collapsed_sections": [],
      "authorship_tag": "ABX9TyPxuIn83XIvYE5s+J26k8cx",
      "include_colab_link": true
    },
    "kernelspec": {
      "name": "python3",
      "display_name": "Python 3"
    },
    "accelerator": "GPU"
  },
  "cells": [
    {
      "cell_type": "markdown",
      "metadata": {
        "id": "view-in-github",
        "colab_type": "text"
      },
      "source": [
        "<a href=\"https://colab.research.google.com/github/cisirtraining/summerschool/blob/master/Day1_Introduction_to_DL_framework2.ipynb\" target=\"_parent\"><img src=\"https://colab.research.google.com/assets/colab-badge.svg\" alt=\"Open In Colab\"/></a>"
      ]
    },
    {
      "cell_type": "markdown",
      "metadata": {
        "id": "_5K2I6ihm8u2",
        "colab_type": "text"
      },
      "source": [
        "**Image classification**"
      ]
    },
    {
      "cell_type": "markdown",
      "metadata": {
        "id": "EknAIfdjPBrP",
        "colab_type": "text"
      },
      "source": [
        "**Load data & pre-process**"
      ]
    },
    {
      "cell_type": "code",
      "metadata": {
        "id": "-UmB77VTCCRo",
        "colab_type": "code",
        "colab": {
          "base_uri": "https://localhost:8080/",
          "height": 51
        },
        "outputId": "3be2fce3-9e7a-49cf-afc6-c069bdc601cd"
      },
      "source": [
        "from keras.datasets import mnist\n",
        "from keras.utils import np_utils\n",
        "\n",
        "# Load pre-shuffled MNIST data into train and test sets\n",
        "(X_train, y_train), (X_test, y_test) = mnist.load_data()\n",
        "\n",
        "# Data pre-processing\n",
        "X_train = X_train.reshape(X_train.shape[0], 28, 28, 1).astype('float32') / 255\n",
        "X_test = X_test.reshape(X_test.shape[0], 28, 28, 1).astype('float32') / 255\n",
        "Y_train = np_utils.to_categorical(y_train, 10) \n",
        "Y_test = np_utils.to_categorical(y_test, 10)\n",
        "\n",
        "print(\"Data shape: \", X_train.shape)\n",
        "print(\"Label shape: \", Y_train.shape)"
      ],
      "execution_count": null,
      "outputs": [
        {
          "output_type": "stream",
          "text": [
            "Data shape:  (60000, 28, 28, 1)\n",
            "Label shape:  (60000, 10)\n"
          ],
          "name": "stdout"
        }
      ]
    },
    {
      "cell_type": "markdown",
      "metadata": {
        "id": "p5Ii88KJPYLX",
        "colab_type": "text"
      },
      "source": [
        "**Show some random sample**"
      ]
    },
    {
      "cell_type": "code",
      "metadata": {
        "id": "zunzzkBaCzLo",
        "colab_type": "code",
        "colab": {
          "base_uri": "https://localhost:8080/",
          "height": 282
        },
        "outputId": "e24287ad-3612-449f-cdc2-f72e9aed28f5"
      },
      "source": [
        "import numpy as np\n",
        "from matplotlib import pyplot as plt\n",
        "\n",
        "rnd_int = np.random.randint(X_train.shape[0], size=1)[0]\n",
        "plt.imshow(X_train.reshape(X_train.shape[0], 28, 28)[rnd_int])"
      ],
      "execution_count": null,
      "outputs": [
        {
          "output_type": "execute_result",
          "data": {
            "text/plain": [
              "<matplotlib.image.AxesImage at 0x7f9b8ffe8710>"
            ]
          },
          "metadata": {
            "tags": []
          },
          "execution_count": 8
        },
        {
          "output_type": "display_data",
          "data": {
            "image/png": "[encoded data removed]",
            "text/plain": [
              "<Figure size 432x288 with 1 Axes>"
            ]
          },
          "metadata": {
            "tags": [],
            "needs_background": "light"
          }
        }
      ]
    },
    {
      "cell_type": "markdown",
      "metadata": {
        "id": "fh3w9-38P1av",
        "colab_type": "text"
      },
      "source": [
        "**Define CNN model**"
      ]
    },
    {
      "cell_type": "code",
      "metadata": {
        "id": "1mffXUt2DlTp",
        "colab_type": "code",
        "colab": {}
      },
      "source": [
        "from keras.utils.vis_utils import plot_model\n",
        "\n",
        "def build_model():\n",
        "  from tensorflow.keras.models import Sequential\n",
        "  from tensorflow.keras.layers import Convolution2D, MaxPooling2D, Dense, Flatten\n",
        "  # Model's parameter initialization\n",
        "  num_filters = 8\n",
        "  filter_size = 3\n",
        "  pool_size = 2\n",
        "  input_shape = (28, 28, 1)\n",
        "  no_classes = 10\n",
        "\n",
        "  # Model's architecture initializtion/inception\n",
        "  model = Sequential([\n",
        "                      Convolution2D(num_filters, filter_size, \n",
        "                                    activation='relu', input_shape=input_shape),\n",
        "                      MaxPooling2D(pool_size=pool_size),\n",
        "                      # Dropout(0.25),\n",
        "                      # Convolution2D(num_filters*2, filter_size, activation='relu'),\n",
        "                      # MaxPooling2D(pool_size=pool_size),\n",
        "                      # Dropout(0.25),\n",
        "                      Flatten(),\n",
        "                      # Dense(num_filters*8, activation='relu'),\n",
        "                      Dense(no_classes, activation='softmax'),\n",
        "                      ])\n",
        "  print(\"Model build.\")\n",
        "  return model\n",
        "\n",
        "  \n",
        "# Define our CNN model\n",
        "myCNN = build_model()\n",
        "\n",
        "# Show myCNN\n",
        "print(myCNN.summary())\n",
        "plot_model(myCNN, to_file='myCNN_plot.png', show_shapes=True, show_layer_names=True)"
      ],
      "execution_count": null,
      "outputs": []
    },
    {
      "cell_type": "markdown",
      "metadata": {
        "id": "5FV_JqB4QPBF",
        "colab_type": "text"
      },
      "source": [
        "**Compile myCNN**"
      ]
    },
    {
      "cell_type": "code",
      "metadata": {
        "id": "jdocKxgCEu_A",
        "colab_type": "code",
        "colab": {}
      },
      "source": [
        "myCNN.compile(\n",
        "  'adam',\n",
        "  loss='categorical_crossentropy',\n",
        "  metrics=['accuracy'],\n",
        ")"
      ],
      "execution_count": null,
      "outputs": []
    },
    {
      "cell_type": "markdown",
      "metadata": {
        "id": "sHzWtisuQRar",
        "colab_type": "text"
      },
      "source": [
        "**Fit myCNN**"
      ]
    },
    {
      "cell_type": "code",
      "metadata": {
        "id": "KRV8C-AkE2PV",
        "colab_type": "code",
        "colab": {}
      },
      "source": [
        "history = myCNN.fit(\n",
        "    X_train,\n",
        "    Y_train,\n",
        "    epochs=3,\n",
        "    validation_data=(X_test, Y_test),\n",
        "    batch_size=10, verbose=2\n",
        "    )\n",
        "\n",
        "# Saving myCNN weight\n",
        "myCNN.save_weights('myCNN_mnist.h5')\n",
        "print(\"myCNN weight is saved.\")"
      ],
      "execution_count": null,
      "outputs": []
    },
    {
      "cell_type": "code",
      "metadata": {
        "id": "pMGeWPfBIxsd",
        "colab_type": "code",
        "colab": {}
      },
      "source": [
        "plt.figure(figsize=(5, 5))\n",
        "plt.title(\"Learning curve\")\n",
        "plt.plot(results.history[\"loss\"], label=\"loss\")\n",
        "plt.plot(results.history[\"val_loss\"], label=\"val_loss\")\n",
        "plt.plot( np.argmin(results.history[\"val_loss\"]), np.min(results.history[\"val_loss\"]), marker=\"x\", color=\"r\", label=\"best model\")\n",
        "plt.xlabel(\"Epochs\")\n",
        "plt.ylabel(\"log_loss\")\n",
        "plt.legend();"
      ],
      "execution_count": null,
      "outputs": []
    },
    {
      "cell_type": "markdown",
      "metadata": {
        "id": "HHfpnIc9QtJh",
        "colab_type": "text"
      },
      "source": [
        "**Prediction with trained myCNN**"
      ]
    },
    {
      "cell_type": "code",
      "metadata": {
        "id": "9tAvVmRqGbzs",
        "colab_type": "code",
        "colab": {
          "base_uri": "https://localhost:8080/",
          "height": 34
        },
        "outputId": "11c62453-b24a-4d30-8726-527e41231c49"
      },
      "source": [
        "# Build the myCNN.\n",
        "myCNN = build_model()\n",
        "\n",
        "# Load the myCNN's saved weights.\n",
        "myCNN.load_weights('myCNN_mnist.h5')\n",
        "print(\"Weight loaded.\")"
      ],
      "execution_count": null,
      "outputs": [
        {
          "output_type": "stream",
          "text": [
            "Model build.\n"
          ],
          "name": "stdout"
        }
      ]
    },
    {
      "cell_type": "code",
      "metadata": {
        "id": "ySu0ZkftIYfI",
        "colab_type": "code",
        "colab": {
          "base_uri": "https://localhost:8080/",
          "height": 282
        },
        "outputId": "442155b5-568b-4dd1-8ccf-ba1918c5944c"
      },
      "source": [
        "import numpy as np\n",
        "from matplotlib import pyplot as plt\n",
        "\n",
        "rnd_int = np.random.randint(X_train.shape[0], size=1)[0]\n",
        "sample = X_train[rnd_int]\n",
        "true_label = Y_train[rnd_int]\n",
        "\n",
        "# Generate predictions for samples\n",
        "plt.imshow(np.squeeze(sample, 2))\n",
        "predictions = myCNN.predict_classes(np.expand_dims(sample, axis=0))\n",
        "print(\"myCNN predictions: \", predictions)\n",
        "print(\"True label: \", true_label)\n"
      ],
      "execution_count": null,
      "outputs": [
        {
          "output_type": "stream",
          "text": [
            "predictions:  [8]\n"
          ],
          "name": "stdout"
        },
        {
          "output_type": "display_data",
          "data": {
            "image/png": "[encoded data removed]",
            "text/plain": [
              "<Figure size 432x288 with 1 Axes>"
            ]
          },
          "metadata": {
            "tags": [],
            "needs_background": "light"
          }
        }
      ]
    }
  ]
}
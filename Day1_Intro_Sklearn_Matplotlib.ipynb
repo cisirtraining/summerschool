{
  "nbformat": 4,
  "nbformat_minor": 0,
  "metadata": {
    "colab": {
      "name": "Day1_Intro_Sklearn_Matplotlib.ipynb",
      "provenance": [],
      "collapsed_sections": [],
      "authorship_tag": "ABX9TyMsmF4tA0R9lRHQvC+9fN9G",
      "include_colab_link": true
    },
    "kernelspec": {
      "name": "python3",
      "display_name": "Python 3"
    }
  },
  "cells": [
    {
      "cell_type": "markdown",
      "metadata": {
        "id": "view-in-github",
        "colab_type": "text"
      },
      "source": [
        "<a href=\"https://colab.research.google.com/github/cisirtraining/summerschool/blob/master/Day1_Intro_Sklearn_Matplotlib.ipynb\" target=\"_parent\"><img src=\"https://colab.research.google.com/assets/colab-badge.svg\" alt=\"Open In Colab\"/></a>"
      ]
    },
    {
      "cell_type": "markdown",
      "metadata": {
        "id": "piqVSSgf2Mxk",
        "colab_type": "text"
      },
      "source": [
        "###**An Introduction to Machine Learning with Scikit-learn (sklearn) (20 minute)**\n",
        "\n",
        "Here, we will cover the followings:\n",
        "\n",
        "\n",
        "1.   Machine learning terminology\n",
        "2.   Load and prepare data (iris-data)\n",
        "3.   Data transformation/standardization (scalers/normalizer)\n",
        "4.   Classification (supervised/unsupervised)\n",
        "6.   Performance metrics (confusion matrix, accuracy, precision, recall)\n",
        "7.   Hyper-parameter search (GridSearch)\n",
        "8.   Pipelines\n",
        "\n",
        "Tutorial on Matplotlib: \n",
        "\n",
        "[SciPy video](https://www.youtube.com/watch?v=Tr4DYo4v5AY)\n",
        "\n",
        "[Github](https://github.com/story645/mpl_tutorial)\n",
        "\n"
      ]
    },
    {
      "cell_type": "markdown",
      "metadata": {
        "id": "dgcs0PwJB20I",
        "colab_type": "text"
      },
      "source": [
        "###**Machine Learning Terminology**\n",
        "\n",
        "*   **Training set:** set of data used to train the model\n",
        "*   **Test set:** set of data used to test model performance\n",
        "*   **Feature:** a variable (continuous, discrete, categorical etc) represented in column-wise\n",
        "*   **Target:** label associated with dependent variable (ground-truth)\n",
        "\n",
        "*   **Predict:** give label to unseen data\n",
        "*   **Accuracy:** % of correct prediction (TP+TN)/(TP+TN+FP+FN)\n",
        "*   **Precision @ Positive Predictive Value:** % of correct positive prediction (TP/(FP+TP))\n",
        "*   **Recall @ Sensitivity @ True Positive Rate:** % of positive cases predicted as positive (TP/(FN+TP))\n",
        "\n",
        "\n",
        "\n",
        "\n",
        "\n",
        "\n",
        "\n",
        "\n",
        "\n"
      ]
    },
    {
      "cell_type": "markdown",
      "metadata": {
        "id": "ETEOhkXSEkIL",
        "colab_type": "text"
      },
      "source": [
        "###**Load and prepare data: Iris-dataset**\n",
        "\n",
        "Iris flower dataset: Popularly known as Fisher's Iris dataset - a multivariate data introduce by Ronald Fisher (statistician, eugenicist, biologist) in 1936.\n",
        "<figure>\n",
        "<left>\n",
        "<img src='https://drive.google.com/uc?export=view&id=1xfbtCib4B_bu2n--2Ab4tFjxprOiseKG' width=\"400\" height=\"400\" />\n",
        "</left>\n",
        "</figure>\n",
        "\n"
      ]
    },
    {
      "cell_type": "markdown",
      "metadata": {
        "id": "l3uBNBUOGvvj",
        "colab_type": "text"
      },
      "source": [
        "A dataset is a dictionary-like object that holds all the data and some metadata about the data. This data is stored in the **`.data`** member, which is a **n_samples, n_features array**. In the case of supervised problem, one or more response variables are stored in the **`.target`** member. \n",
        "\n",
        "All included datasets in ***sklearn*** have at least feature_names and sometimes target_names"
      ]
    },
    {
      "cell_type": "code",
      "metadata": {
        "id": "xZmw6wWJy4F2",
        "colab_type": "code",
        "colab": {
          "base_uri": "https://localhost:8080/",
          "height": 69
        },
        "outputId": "e249fd1f-ce53-40de-a721-eaad790a4bc8"
      },
      "source": [
        "from sklearn import datasets\n",
        "\n",
        "iris = datasets.load_iris()\n",
        "print(\"data:\",iris.data.shape)\n",
        "print('label:',iris.target.shape)\n",
        "print('species:', iris.target_names)"
      ],
      "execution_count": 1,
      "outputs": [
        {
          "output_type": "stream",
          "text": [
            "data: (150, 4)\n",
            "label: (150,)\n",
            "species: ['setosa' 'versicolor' 'virginica']\n"
          ],
          "name": "stdout"
        }
      ]
    },
    {
      "cell_type": "code",
      "metadata": {
        "id": "_I7BSkrbHnTh",
        "colab_type": "code",
        "colab": {
          "base_uri": "https://localhost:8080/",
          "height": 363
        },
        "outputId": "8690d4b1-1526-4a01-fd2b-145dc8f44de5"
      },
      "source": [
        "%matplotlib inline\n",
        "import pandas as pd\n",
        "import numpy as np\n",
        "import matplotlib.pyplot as plt\n",
        "\n",
        "# features @ columns in data (4 features)\n",
        "iris_df = pd.DataFrame(iris.data, columns = iris.feature_names)\n",
        "iris_df['target'] = iris.target\n",
        "\n",
        "# create new column \"species\" by using target and target_names info\n",
        "iris_df['species'] = iris_df['target'].map({0:iris.target_names[0],1:iris.target_names[1],2:iris.target_names[2]})\n",
        "iris_df.sample(10)"
      ],
      "execution_count": 2,
      "outputs": [
        {
          "output_type": "execute_result",
          "data": {
            "text/html": [
              "<div>\n",
              "<style scoped>\n",
              "    .dataframe tbody tr th:only-of-type {\n",
              "        vertical-align: middle;\n",
              "    }\n",
              "\n",
              "    .dataframe tbody tr th {\n",
              "        vertical-align: top;\n",
              "    }\n",
              "\n",
              "    .dataframe thead th {\n",
              "        text-align: right;\n",
              "    }\n",
              "</style>\n",
              "<table border=\"1\" class=\"dataframe\">\n",
              "  <thead>\n",
              "    <tr style=\"text-align: right;\">\n",
              "      <th></th>\n",
              "      <th>sepal length (cm)</th>\n",
              "      <th>sepal width (cm)</th>\n",
              "      <th>petal length (cm)</th>\n",
              "      <th>petal width (cm)</th>\n",
              "      <th>target</th>\n",
              "      <th>species</th>\n",
              "    </tr>\n",
              "  </thead>\n",
              "  <tbody>\n",
              "    <tr>\n",
              "      <th>92</th>\n",
              "      <td>5.8</td>\n",
              "      <td>2.6</td>\n",
              "      <td>4.0</td>\n",
              "      <td>1.2</td>\n",
              "      <td>1</td>\n",
              "      <td>versicolor</td>\n",
              "    </tr>\n",
              "    <tr>\n",
              "      <th>2</th>\n",
              "      <td>4.7</td>\n",
              "      <td>3.2</td>\n",
              "      <td>1.3</td>\n",
              "      <td>0.2</td>\n",
              "      <td>0</td>\n",
              "      <td>setosa</td>\n",
              "    </tr>\n",
              "    <tr>\n",
              "      <th>87</th>\n",
              "      <td>6.3</td>\n",
              "      <td>2.3</td>\n",
              "      <td>4.4</td>\n",
              "      <td>1.3</td>\n",
              "      <td>1</td>\n",
              "      <td>versicolor</td>\n",
              "    </tr>\n",
              "    <tr>\n",
              "      <th>57</th>\n",
              "      <td>4.9</td>\n",
              "      <td>2.4</td>\n",
              "      <td>3.3</td>\n",
              "      <td>1.0</td>\n",
              "      <td>1</td>\n",
              "      <td>versicolor</td>\n",
              "    </tr>\n",
              "    <tr>\n",
              "      <th>94</th>\n",
              "      <td>5.6</td>\n",
              "      <td>2.7</td>\n",
              "      <td>4.2</td>\n",
              "      <td>1.3</td>\n",
              "      <td>1</td>\n",
              "      <td>versicolor</td>\n",
              "    </tr>\n",
              "    <tr>\n",
              "      <th>41</th>\n",
              "      <td>4.5</td>\n",
              "      <td>2.3</td>\n",
              "      <td>1.3</td>\n",
              "      <td>0.3</td>\n",
              "      <td>0</td>\n",
              "      <td>setosa</td>\n",
              "    </tr>\n",
              "    <tr>\n",
              "      <th>26</th>\n",
              "      <td>5.0</td>\n",
              "      <td>3.4</td>\n",
              "      <td>1.6</td>\n",
              "      <td>0.4</td>\n",
              "      <td>0</td>\n",
              "      <td>setosa</td>\n",
              "    </tr>\n",
              "    <tr>\n",
              "      <th>124</th>\n",
              "      <td>6.7</td>\n",
              "      <td>3.3</td>\n",
              "      <td>5.7</td>\n",
              "      <td>2.1</td>\n",
              "      <td>2</td>\n",
              "      <td>virginica</td>\n",
              "    </tr>\n",
              "    <tr>\n",
              "      <th>106</th>\n",
              "      <td>4.9</td>\n",
              "      <td>2.5</td>\n",
              "      <td>4.5</td>\n",
              "      <td>1.7</td>\n",
              "      <td>2</td>\n",
              "      <td>virginica</td>\n",
              "    </tr>\n",
              "    <tr>\n",
              "      <th>96</th>\n",
              "      <td>5.7</td>\n",
              "      <td>2.9</td>\n",
              "      <td>4.2</td>\n",
              "      <td>1.3</td>\n",
              "      <td>1</td>\n",
              "      <td>versicolor</td>\n",
              "    </tr>\n",
              "  </tbody>\n",
              "</table>\n",
              "</div>"
            ],
            "text/plain": [
              "     sepal length (cm)  sepal width (cm)  ...  target     species\n",
              "92                 5.8               2.6  ...       1  versicolor\n",
              "2                  4.7               3.2  ...       0      setosa\n",
              "87                 6.3               2.3  ...       1  versicolor\n",
              "57                 4.9               2.4  ...       1  versicolor\n",
              "94                 5.6               2.7  ...       1  versicolor\n",
              "41                 4.5               2.3  ...       0      setosa\n",
              "26                 5.0               3.4  ...       0      setosa\n",
              "124                6.7               3.3  ...       2   virginica\n",
              "106                4.9               2.5  ...       2   virginica\n",
              "96                 5.7               2.9  ...       1  versicolor\n",
              "\n",
              "[10 rows x 6 columns]"
            ]
          },
          "metadata": {
            "tags": []
          },
          "execution_count": 2
        }
      ]
    },
    {
      "cell_type": "code",
      "metadata": {
        "id": "l4XX-4nTNeEY",
        "colab_type": "code",
        "colab": {
          "base_uri": "https://localhost:8080/",
          "height": 86
        },
        "outputId": "3aefdc95-5058-44e7-e822-5d73404dc7cf"
      },
      "source": [
        "# how many sample per species:\n",
        "iris_df['species'].value_counts()"
      ],
      "execution_count": 3,
      "outputs": [
        {
          "output_type": "execute_result",
          "data": {
            "text/plain": [
              "versicolor    50\n",
              "setosa        50\n",
              "virginica     50\n",
              "Name: species, dtype: int64"
            ]
          },
          "metadata": {
            "tags": []
          },
          "execution_count": 3
        }
      ]
    },
    {
      "cell_type": "code",
      "metadata": {
        "id": "sxzqrz1eHnWV",
        "colab_type": "code",
        "colab": {
          "base_uri": "https://localhost:8080/",
          "height": 459
        },
        "outputId": "e720fc35-1eca-4279-fceb-738e5061cafe"
      },
      "source": [
        "# visualize dataset distribution:\n",
        "import seaborn as sns\n",
        "\n",
        "# switch target column with species\n",
        "iris_df = iris_df.iloc[:,[0,1,2,3,5,4]]\n",
        "iris_df"
      ],
      "execution_count": 4,
      "outputs": [
        {
          "output_type": "stream",
          "text": [
            "/usr/local/lib/python3.6/dist-packages/statsmodels/tools/_testing.py:19: FutureWarning: pandas.util.testing is deprecated. Use the functions in the public API at pandas.testing instead.\n",
            "  import pandas.util.testing as tm\n"
          ],
          "name": "stderr"
        },
        {
          "output_type": "execute_result",
          "data": {
            "text/html": [
              "<div>\n",
              "<style scoped>\n",
              "    .dataframe tbody tr th:only-of-type {\n",
              "        vertical-align: middle;\n",
              "    }\n",
              "\n",
              "    .dataframe tbody tr th {\n",
              "        vertical-align: top;\n",
              "    }\n",
              "\n",
              "    .dataframe thead th {\n",
              "        text-align: right;\n",
              "    }\n",
              "</style>\n",
              "<table border=\"1\" class=\"dataframe\">\n",
              "  <thead>\n",
              "    <tr style=\"text-align: right;\">\n",
              "      <th></th>\n",
              "      <th>sepal length (cm)</th>\n",
              "      <th>sepal width (cm)</th>\n",
              "      <th>petal length (cm)</th>\n",
              "      <th>petal width (cm)</th>\n",
              "      <th>species</th>\n",
              "      <th>target</th>\n",
              "    </tr>\n",
              "  </thead>\n",
              "  <tbody>\n",
              "    <tr>\n",
              "      <th>0</th>\n",
              "      <td>5.1</td>\n",
              "      <td>3.5</td>\n",
              "      <td>1.4</td>\n",
              "      <td>0.2</td>\n",
              "      <td>setosa</td>\n",
              "      <td>0</td>\n",
              "    </tr>\n",
              "    <tr>\n",
              "      <th>1</th>\n",
              "      <td>4.9</td>\n",
              "      <td>3.0</td>\n",
              "      <td>1.4</td>\n",
              "      <td>0.2</td>\n",
              "      <td>setosa</td>\n",
              "      <td>0</td>\n",
              "    </tr>\n",
              "    <tr>\n",
              "      <th>2</th>\n",
              "      <td>4.7</td>\n",
              "      <td>3.2</td>\n",
              "      <td>1.3</td>\n",
              "      <td>0.2</td>\n",
              "      <td>setosa</td>\n",
              "      <td>0</td>\n",
              "    </tr>\n",
              "    <tr>\n",
              "      <th>3</th>\n",
              "      <td>4.6</td>\n",
              "      <td>3.1</td>\n",
              "      <td>1.5</td>\n",
              "      <td>0.2</td>\n",
              "      <td>setosa</td>\n",
              "      <td>0</td>\n",
              "    </tr>\n",
              "    <tr>\n",
              "      <th>4</th>\n",
              "      <td>5.0</td>\n",
              "      <td>3.6</td>\n",
              "      <td>1.4</td>\n",
              "      <td>0.2</td>\n",
              "      <td>setosa</td>\n",
              "      <td>0</td>\n",
              "    </tr>\n",
              "    <tr>\n",
              "      <th>...</th>\n",
              "      <td>...</td>\n",
              "      <td>...</td>\n",
              "      <td>...</td>\n",
              "      <td>...</td>\n",
              "      <td>...</td>\n",
              "      <td>...</td>\n",
              "    </tr>\n",
              "    <tr>\n",
              "      <th>145</th>\n",
              "      <td>6.7</td>\n",
              "      <td>3.0</td>\n",
              "      <td>5.2</td>\n",
              "      <td>2.3</td>\n",
              "      <td>virginica</td>\n",
              "      <td>2</td>\n",
              "    </tr>\n",
              "    <tr>\n",
              "      <th>146</th>\n",
              "      <td>6.3</td>\n",
              "      <td>2.5</td>\n",
              "      <td>5.0</td>\n",
              "      <td>1.9</td>\n",
              "      <td>virginica</td>\n",
              "      <td>2</td>\n",
              "    </tr>\n",
              "    <tr>\n",
              "      <th>147</th>\n",
              "      <td>6.5</td>\n",
              "      <td>3.0</td>\n",
              "      <td>5.2</td>\n",
              "      <td>2.0</td>\n",
              "      <td>virginica</td>\n",
              "      <td>2</td>\n",
              "    </tr>\n",
              "    <tr>\n",
              "      <th>148</th>\n",
              "      <td>6.2</td>\n",
              "      <td>3.4</td>\n",
              "      <td>5.4</td>\n",
              "      <td>2.3</td>\n",
              "      <td>virginica</td>\n",
              "      <td>2</td>\n",
              "    </tr>\n",
              "    <tr>\n",
              "      <th>149</th>\n",
              "      <td>5.9</td>\n",
              "      <td>3.0</td>\n",
              "      <td>5.1</td>\n",
              "      <td>1.8</td>\n",
              "      <td>virginica</td>\n",
              "      <td>2</td>\n",
              "    </tr>\n",
              "  </tbody>\n",
              "</table>\n",
              "<p>150 rows × 6 columns</p>\n",
              "</div>"
            ],
            "text/plain": [
              "     sepal length (cm)  sepal width (cm)  ...    species  target\n",
              "0                  5.1               3.5  ...     setosa       0\n",
              "1                  4.9               3.0  ...     setosa       0\n",
              "2                  4.7               3.2  ...     setosa       0\n",
              "3                  4.6               3.1  ...     setosa       0\n",
              "4                  5.0               3.6  ...     setosa       0\n",
              "..                 ...               ...  ...        ...     ...\n",
              "145                6.7               3.0  ...  virginica       2\n",
              "146                6.3               2.5  ...  virginica       2\n",
              "147                6.5               3.0  ...  virginica       2\n",
              "148                6.2               3.4  ...  virginica       2\n",
              "149                5.9               3.0  ...  virginica       2\n",
              "\n",
              "[150 rows x 6 columns]"
            ]
          },
          "metadata": {
            "tags": []
          },
          "execution_count": 4
        }
      ]
    },
    {
      "cell_type": "code",
      "metadata": {
        "id": "lRiqRZWTUCqo",
        "colab_type": "code",
        "colab": {
          "base_uri": "https://localhost:8080/",
          "height": 765
        },
        "outputId": "de8ae281-5881-40e4-d00c-17e3f8392baf"
      },
      "source": [
        "#plot pairplot\n",
        "sns.pairplot(iris_df.drop('target',axis=1), hue=\"species\")"
      ],
      "execution_count": 5,
      "outputs": [
        {
          "output_type": "execute_result",
          "data": {
            "text/plain": [
              "<seaborn.axisgrid.PairGrid at 0x7f48a38739b0>"
            ]
          },
          "metadata": {
            "tags": []
          },
          "execution_count": 5
        },
        {
          "output_type": "display_data",
          "data": {
            "image/png": "[encoded data removed]",
            "text/plain": [
              "<Figure size 804.75x720 with 20 Axes>"
            ]
          },
          "metadata": {
            "tags": [],
            "needs_background": "light"
          }
        }
      ]
    },
    {
      "cell_type": "code",
      "metadata": {
        "id": "fGpqLBoWHnYv",
        "colab_type": "code",
        "colab": {
          "base_uri": "https://localhost:8080/",
          "height": 627
        },
        "outputId": "d67d7f01-4e16-445a-8198-9b5261e80a2d"
      },
      "source": [
        "# boxplot using pandas built-in visualization:\n",
        "\n",
        "boxprops = dict(linestyle='-', linewidth=2, color='k')\n",
        "medianprops = dict(linestyle='-', linewidth=2, color='k')\n",
        "\n",
        "iris_df.drop(\"target\", axis=1).boxplot(by=\"species\", figsize=(12, 8),showfliers=True, showmeans=True,\n",
        "                boxprops=boxprops,medianprops=medianprops)"
      ],
      "execution_count": 6,
      "outputs": [
        {
          "output_type": "execute_result",
          "data": {
            "text/plain": [
              "array([[<matplotlib.axes._subplots.AxesSubplot object at 0x7f489fc97208>,\n",
              "        <matplotlib.axes._subplots.AxesSubplot object at 0x7f489df49b00>],\n",
              "       [<matplotlib.axes._subplots.AxesSubplot object at 0x7f489def5898>,\n",
              "        <matplotlib.axes._subplots.AxesSubplot object at 0x7f489dea9630>]],\n",
              "      dtype=object)"
            ]
          },
          "metadata": {
            "tags": []
          },
          "execution_count": 6
        },
        {
          "output_type": "display_data",
          "data": {
            "image/png": "[encoded data removed]",
            "text/plain": [
              "<Figure size 864x576 with 4 Axes>"
            ]
          },
          "metadata": {
            "tags": [],
            "needs_background": "light"
          }
        }
      ]
    },
    {
      "cell_type": "markdown",
      "metadata": {
        "id": "PvZB0hd3dsFf",
        "colab_type": "text"
      },
      "source": [
        "###**Data Transformation/Standardization**\n",
        "\n",
        "*   Transform non-numeric to numeric data\n",
        "*   Fill in missing value\n",
        "*   Standardization or scaling (make data follow standard Gaussian distribution)\n",
        "*   Normalization [read more](https://www.freetext.org/Introduction_to_Linear_Algebra/Basic_Vector_Operations/Normalization/)\n",
        "*   Categorical features encoding (one-hot encoding)\n",
        "\n",
        "\n",
        "\n",
        "\n",
        "\n",
        "\n"
      ]
    },
    {
      "cell_type": "markdown",
      "metadata": {
        "id": "TkPcedxOjdPa",
        "colab_type": "text"
      },
      "source": [
        "#####**Standardization and Normalization**"
      ]
    },
    {
      "cell_type": "code",
      "metadata": {
        "id": "YCh1ymp8Yt-6",
        "colab_type": "code",
        "colab": {
          "base_uri": "https://localhost:8080/",
          "height": 173
        },
        "outputId": "3c723663-026f-41e1-b9e2-d66560f6a52c"
      },
      "source": [
        "# Standardization aka scaling\n",
        "# Normalization\n",
        "from sklearn import preprocessing, datasets\n",
        "\n",
        "# make sure we have iris loaded\n",
        "iris = datasets.load_iris()\n",
        "\n",
        "X, y = iris.data, iris.target\n",
        "\n",
        "# scale it to a gaussian distribution\n",
        "X_scaled = preprocessing.scale(X)\n",
        "\n",
        "# normalization using L1-norm\n",
        "X_norm = preprocessing.normalize(X,norm='l1')\n",
        "\n",
        "#validate zero mean and unit variance\n",
        "print('mean:',X_scaled.mean(axis = 0).round())\n",
        "print('standard dev:',X_scaled.std(axis = 0).round())\n",
        "\n",
        "#validate unit norm\n",
        "print('norm:', X_norm.sum(axis=1))"
      ],
      "execution_count": 7,
      "outputs": [
        {
          "output_type": "stream",
          "text": [
            "mean: [-0. -0. -0. -0.]\n",
            "standard dev: [1. 1. 1. 1.]\n",
            "norm: [1. 1. 1. 1. 1. 1. 1. 1. 1. 1. 1. 1. 1. 1. 1. 1. 1. 1. 1. 1. 1. 1. 1. 1.\n",
            " 1. 1. 1. 1. 1. 1. 1. 1. 1. 1. 1. 1. 1. 1. 1. 1. 1. 1. 1. 1. 1. 1. 1. 1.\n",
            " 1. 1. 1. 1. 1. 1. 1. 1. 1. 1. 1. 1. 1. 1. 1. 1. 1. 1. 1. 1. 1. 1. 1. 1.\n",
            " 1. 1. 1. 1. 1. 1. 1. 1. 1. 1. 1. 1. 1. 1. 1. 1. 1. 1. 1. 1. 1. 1. 1. 1.\n",
            " 1. 1. 1. 1. 1. 1. 1. 1. 1. 1. 1. 1. 1. 1. 1. 1. 1. 1. 1. 1. 1. 1. 1. 1.\n",
            " 1. 1. 1. 1. 1. 1. 1. 1. 1. 1. 1. 1. 1. 1. 1. 1. 1. 1. 1. 1. 1. 1. 1. 1.\n",
            " 1. 1. 1. 1. 1. 1.]\n"
          ],
          "name": "stdout"
        }
      ]
    },
    {
      "cell_type": "markdown",
      "metadata": {
        "id": "FHrBrsAwjpxE",
        "colab_type": "text"
      },
      "source": [
        "#####**Categorical Encoding (one-hot-encoding)**\n",
        "*   It's an operation on feature labels (categorical values or nominal value)\n",
        "*   Can be accomplish via pandas built-in method or sklearn one-hot-encoder\n",
        "\n",
        "This method produces a vector with length equal to the number of categories in the data set. \n",
        "\n",
        "One-hot encoded has exactly one position in its array that is labeled as a 1. For example, [0,0,0,1,0] would be a valid one-hot encoding that would tell you the classification in position 4 (or 3 in array indexing) is the classification of the object.\n",
        "\n",
        "<figure>\n",
        "<left>\n",
        "<img src='https://drive.google.com/uc?export=view&id=18q7Ezs82B4LIT5L6slg3qcFILZvWc247' width=\"450\" height=\"250\" />\n",
        "</left>\n",
        "</figure>\n",
        "\n"
      ]
    },
    {
      "cell_type": "code",
      "metadata": {
        "id": "0VHl7nr0hF-R",
        "colab_type": "code",
        "colab": {
          "base_uri": "https://localhost:8080/",
          "height": 424
        },
        "outputId": "82b0d6ad-fc91-4d49-9087-172e1864c81f"
      },
      "source": [
        "# Pandas approach:\n",
        "\n",
        "import pandas as pd\n",
        "from sklearn import datasets\n",
        "\n",
        "iris = datasets.load_iris()\n",
        "X, y = iris.data, iris.target\n",
        "\n",
        "# Convert to dataframe and add a column with actual iris species name\n",
        "data = pd.DataFrame(X, columns = iris.feature_names)\n",
        "data['target_name'] = iris.target_names[y]\n",
        "data\n"
      ],
      "execution_count": 17,
      "outputs": [
        {
          "output_type": "execute_result",
          "data": {
            "text/html": [
              "<div>\n",
              "<style scoped>\n",
              "    .dataframe tbody tr th:only-of-type {\n",
              "        vertical-align: middle;\n",
              "    }\n",
              "\n",
              "    .dataframe tbody tr th {\n",
              "        vertical-align: top;\n",
              "    }\n",
              "\n",
              "    .dataframe thead th {\n",
              "        text-align: right;\n",
              "    }\n",
              "</style>\n",
              "<table border=\"1\" class=\"dataframe\">\n",
              "  <thead>\n",
              "    <tr style=\"text-align: right;\">\n",
              "      <th></th>\n",
              "      <th>sepal length (cm)</th>\n",
              "      <th>sepal width (cm)</th>\n",
              "      <th>petal length (cm)</th>\n",
              "      <th>petal width (cm)</th>\n",
              "      <th>target_name</th>\n",
              "    </tr>\n",
              "  </thead>\n",
              "  <tbody>\n",
              "    <tr>\n",
              "      <th>0</th>\n",
              "      <td>5.1</td>\n",
              "      <td>3.5</td>\n",
              "      <td>1.4</td>\n",
              "      <td>0.2</td>\n",
              "      <td>setosa</td>\n",
              "    </tr>\n",
              "    <tr>\n",
              "      <th>1</th>\n",
              "      <td>4.9</td>\n",
              "      <td>3.0</td>\n",
              "      <td>1.4</td>\n",
              "      <td>0.2</td>\n",
              "      <td>setosa</td>\n",
              "    </tr>\n",
              "    <tr>\n",
              "      <th>2</th>\n",
              "      <td>4.7</td>\n",
              "      <td>3.2</td>\n",
              "      <td>1.3</td>\n",
              "      <td>0.2</td>\n",
              "      <td>setosa</td>\n",
              "    </tr>\n",
              "    <tr>\n",
              "      <th>3</th>\n",
              "      <td>4.6</td>\n",
              "      <td>3.1</td>\n",
              "      <td>1.5</td>\n",
              "      <td>0.2</td>\n",
              "      <td>setosa</td>\n",
              "    </tr>\n",
              "    <tr>\n",
              "      <th>4</th>\n",
              "      <td>5.0</td>\n",
              "      <td>3.6</td>\n",
              "      <td>1.4</td>\n",
              "      <td>0.2</td>\n",
              "      <td>setosa</td>\n",
              "    </tr>\n",
              "    <tr>\n",
              "      <th>...</th>\n",
              "      <td>...</td>\n",
              "      <td>...</td>\n",
              "      <td>...</td>\n",
              "      <td>...</td>\n",
              "      <td>...</td>\n",
              "    </tr>\n",
              "    <tr>\n",
              "      <th>145</th>\n",
              "      <td>6.7</td>\n",
              "      <td>3.0</td>\n",
              "      <td>5.2</td>\n",
              "      <td>2.3</td>\n",
              "      <td>virginica</td>\n",
              "    </tr>\n",
              "    <tr>\n",
              "      <th>146</th>\n",
              "      <td>6.3</td>\n",
              "      <td>2.5</td>\n",
              "      <td>5.0</td>\n",
              "      <td>1.9</td>\n",
              "      <td>virginica</td>\n",
              "    </tr>\n",
              "    <tr>\n",
              "      <th>147</th>\n",
              "      <td>6.5</td>\n",
              "      <td>3.0</td>\n",
              "      <td>5.2</td>\n",
              "      <td>2.0</td>\n",
              "      <td>virginica</td>\n",
              "    </tr>\n",
              "    <tr>\n",
              "      <th>148</th>\n",
              "      <td>6.2</td>\n",
              "      <td>3.4</td>\n",
              "      <td>5.4</td>\n",
              "      <td>2.3</td>\n",
              "      <td>virginica</td>\n",
              "    </tr>\n",
              "    <tr>\n",
              "      <th>149</th>\n",
              "      <td>5.9</td>\n",
              "      <td>3.0</td>\n",
              "      <td>5.1</td>\n",
              "      <td>1.8</td>\n",
              "      <td>virginica</td>\n",
              "    </tr>\n",
              "  </tbody>\n",
              "</table>\n",
              "<p>150 rows × 5 columns</p>\n",
              "</div>"
            ],
            "text/plain": [
              "     sepal length (cm)  sepal width (cm)  ...  petal width (cm)  target_name\n",
              "0                  5.1               3.5  ...               0.2       setosa\n",
              "1                  4.9               3.0  ...               0.2       setosa\n",
              "2                  4.7               3.2  ...               0.2       setosa\n",
              "3                  4.6               3.1  ...               0.2       setosa\n",
              "4                  5.0               3.6  ...               0.2       setosa\n",
              "..                 ...               ...  ...               ...          ...\n",
              "145                6.7               3.0  ...               2.3    virginica\n",
              "146                6.3               2.5  ...               1.9    virginica\n",
              "147                6.5               3.0  ...               2.0    virginica\n",
              "148                6.2               3.4  ...               2.3    virginica\n",
              "149                5.9               3.0  ...               1.8    virginica\n",
              "\n",
              "[150 rows x 5 columns]"
            ]
          },
          "metadata": {
            "tags": []
          },
          "execution_count": 17
        }
      ]
    },
    {
      "cell_type": "code",
      "metadata": {
        "id": "Bd_fnwgqwZ4P",
        "colab_type": "code",
        "colab": {
          "base_uri": "https://localhost:8080/",
          "height": 224
        },
        "outputId": "b2545cea-b9be-4b92-bbe9-97e2806c1daf"
      },
      "source": [
        "# pd.get_dummies - convert categorical variable into dummy/indicator variables.\n",
        "df = pd.get_dummies(data, prefix = ['target_name'])\n",
        "print('data shape:',df.shape)\n",
        "df.sample(5)"
      ],
      "execution_count": 9,
      "outputs": [
        {
          "output_type": "stream",
          "text": [
            "data shape: (150, 7)\n"
          ],
          "name": "stdout"
        },
        {
          "output_type": "execute_result",
          "data": {
            "text/html": [
              "<div>\n",
              "<style scoped>\n",
              "    .dataframe tbody tr th:only-of-type {\n",
              "        vertical-align: middle;\n",
              "    }\n",
              "\n",
              "    .dataframe tbody tr th {\n",
              "        vertical-align: top;\n",
              "    }\n",
              "\n",
              "    .dataframe thead th {\n",
              "        text-align: right;\n",
              "    }\n",
              "</style>\n",
              "<table border=\"1\" class=\"dataframe\">\n",
              "  <thead>\n",
              "    <tr style=\"text-align: right;\">\n",
              "      <th></th>\n",
              "      <th>sepal length (cm)</th>\n",
              "      <th>sepal width (cm)</th>\n",
              "      <th>petal length (cm)</th>\n",
              "      <th>petal width (cm)</th>\n",
              "      <th>target_name_setosa</th>\n",
              "      <th>target_name_versicolor</th>\n",
              "      <th>target_name_virginica</th>\n",
              "    </tr>\n",
              "  </thead>\n",
              "  <tbody>\n",
              "    <tr>\n",
              "      <th>72</th>\n",
              "      <td>6.3</td>\n",
              "      <td>2.5</td>\n",
              "      <td>4.9</td>\n",
              "      <td>1.5</td>\n",
              "      <td>0</td>\n",
              "      <td>1</td>\n",
              "      <td>0</td>\n",
              "    </tr>\n",
              "    <tr>\n",
              "      <th>76</th>\n",
              "      <td>6.8</td>\n",
              "      <td>2.8</td>\n",
              "      <td>4.8</td>\n",
              "      <td>1.4</td>\n",
              "      <td>0</td>\n",
              "      <td>1</td>\n",
              "      <td>0</td>\n",
              "    </tr>\n",
              "    <tr>\n",
              "      <th>26</th>\n",
              "      <td>5.0</td>\n",
              "      <td>3.4</td>\n",
              "      <td>1.6</td>\n",
              "      <td>0.4</td>\n",
              "      <td>1</td>\n",
              "      <td>0</td>\n",
              "      <td>0</td>\n",
              "    </tr>\n",
              "    <tr>\n",
              "      <th>114</th>\n",
              "      <td>5.8</td>\n",
              "      <td>2.8</td>\n",
              "      <td>5.1</td>\n",
              "      <td>2.4</td>\n",
              "      <td>0</td>\n",
              "      <td>0</td>\n",
              "      <td>1</td>\n",
              "    </tr>\n",
              "    <tr>\n",
              "      <th>53</th>\n",
              "      <td>5.5</td>\n",
              "      <td>2.3</td>\n",
              "      <td>4.0</td>\n",
              "      <td>1.3</td>\n",
              "      <td>0</td>\n",
              "      <td>1</td>\n",
              "      <td>0</td>\n",
              "    </tr>\n",
              "  </tbody>\n",
              "</table>\n",
              "</div>"
            ],
            "text/plain": [
              "     sepal length (cm)  ...  target_name_virginica\n",
              "72                 6.3  ...                      0\n",
              "76                 6.8  ...                      0\n",
              "26                 5.0  ...                      0\n",
              "114                5.8  ...                      1\n",
              "53                 5.5  ...                      0\n",
              "\n",
              "[5 rows x 7 columns]"
            ]
          },
          "metadata": {
            "tags": []
          },
          "execution_count": 9
        }
      ]
    },
    {
      "cell_type": "code",
      "metadata": {
        "id": "M30QxYB_hF5Z",
        "colab_type": "code",
        "colab": {}
      },
      "source": [
        "# Sklearn OneHotEncoder approach:\n",
        "\n",
        "from sklearn.preprocessing import OneHotEncoder, LabelEncoder\n",
        "from sklearn import datasets\n",
        "\n",
        "iris = datasets.load_iris()\n",
        "X, y = iris.data, iris.target\n",
        "\n",
        "# We encode both our categorical variable and it's labels\n",
        "enc = OneHotEncoder()\n",
        "label_enc = LabelEncoder() # remember the labels here"
      ],
      "execution_count": 21,
      "outputs": []
    },
    {
      "cell_type": "code",
      "metadata": {
        "id": "iLURiqL9xWK4",
        "colab_type": "code",
        "colab": {
          "base_uri": "https://localhost:8080/",
          "height": 156
        },
        "outputId": "8714c99f-b976-446c-de7a-8f1178eb018b"
      },
      "source": [
        "# Encode labels (can use for discrete numerical values as well)\n",
        "data_label_encoded = label_enc.fit_transform(y)\n",
        "print(data_label_encoded.shape)\n",
        "data_label_encoded"
      ],
      "execution_count": 39,
      "outputs": [
        {
          "output_type": "stream",
          "text": [
            "(150,)\n"
          ],
          "name": "stdout"
        },
        {
          "output_type": "execute_result",
          "data": {
            "text/plain": [
              "array([0, 0, 0, 0, 0, 0, 0, 0, 0, 0, 0, 0, 0, 0, 0, 0, 0, 0, 0, 0, 0, 0,\n",
              "       0, 0, 0, 0, 0, 0, 0, 0, 0, 0, 0, 0, 0, 0, 0, 0, 0, 0, 0, 0, 0, 0,\n",
              "       0, 0, 0, 0, 0, 0, 1, 1, 1, 1, 1, 1, 1, 1, 1, 1, 1, 1, 1, 1, 1, 1,\n",
              "       1, 1, 1, 1, 1, 1, 1, 1, 1, 1, 1, 1, 1, 1, 1, 1, 1, 1, 1, 1, 1, 1,\n",
              "       1, 1, 1, 1, 1, 1, 1, 1, 1, 1, 1, 1, 2, 2, 2, 2, 2, 2, 2, 2, 2, 2,\n",
              "       2, 2, 2, 2, 2, 2, 2, 2, 2, 2, 2, 2, 2, 2, 2, 2, 2, 2, 2, 2, 2, 2,\n",
              "       2, 2, 2, 2, 2, 2, 2, 2, 2, 2, 2, 2, 2, 2, 2, 2, 2, 2])"
            ]
          },
          "metadata": {
            "tags": []
          },
          "execution_count": 39
        }
      ]
    },
    {
      "cell_type": "code",
      "metadata": {
        "id": "ljmFazDXxWIn",
        "colab_type": "code",
        "colab": {
          "base_uri": "https://localhost:8080/",
          "height": 1000
        },
        "outputId": "8d47ded0-1966-4447-8527-ffef6ffa0f87"
      },
      "source": [
        "# Encode and \"dummy\" variables\n",
        "data_feature_one_hot_encoded = enc.fit_transform(y.reshape(-1, 1))\n",
        "print(data_feature_one_hot_encoded.shape)\n",
        "data_feature_one_hot_encoded.toarray()\n",
        "\n"
      ],
      "execution_count": 38,
      "outputs": [
        {
          "output_type": "stream",
          "text": [
            "(150, 3)\n"
          ],
          "name": "stdout"
        },
        {
          "output_type": "execute_result",
          "data": {
            "text/plain": [
              "array([[1., 0., 0.],\n",
              "       [1., 0., 0.],\n",
              "       [1., 0., 0.],\n",
              "       [1., 0., 0.],\n",
              "       [1., 0., 0.],\n",
              "       [1., 0., 0.],\n",
              "       [1., 0., 0.],\n",
              "       [1., 0., 0.],\n",
              "       [1., 0., 0.],\n",
              "       [1., 0., 0.],\n",
              "       [1., 0., 0.],\n",
              "       [1., 0., 0.],\n",
              "       [1., 0., 0.],\n",
              "       [1., 0., 0.],\n",
              "       [1., 0., 0.],\n",
              "       [1., 0., 0.],\n",
              "       [1., 0., 0.],\n",
              "       [1., 0., 0.],\n",
              "       [1., 0., 0.],\n",
              "       [1., 0., 0.],\n",
              "       [1., 0., 0.],\n",
              "       [1., 0., 0.],\n",
              "       [1., 0., 0.],\n",
              "       [1., 0., 0.],\n",
              "       [1., 0., 0.],\n",
              "       [1., 0., 0.],\n",
              "       [1., 0., 0.],\n",
              "       [1., 0., 0.],\n",
              "       [1., 0., 0.],\n",
              "       [1., 0., 0.],\n",
              "       [1., 0., 0.],\n",
              "       [1., 0., 0.],\n",
              "       [1., 0., 0.],\n",
              "       [1., 0., 0.],\n",
              "       [1., 0., 0.],\n",
              "       [1., 0., 0.],\n",
              "       [1., 0., 0.],\n",
              "       [1., 0., 0.],\n",
              "       [1., 0., 0.],\n",
              "       [1., 0., 0.],\n",
              "       [1., 0., 0.],\n",
              "       [1., 0., 0.],\n",
              "       [1., 0., 0.],\n",
              "       [1., 0., 0.],\n",
              "       [1., 0., 0.],\n",
              "       [1., 0., 0.],\n",
              "       [1., 0., 0.],\n",
              "       [1., 0., 0.],\n",
              "       [1., 0., 0.],\n",
              "       [1., 0., 0.],\n",
              "       [0., 1., 0.],\n",
              "       [0., 1., 0.],\n",
              "       [0., 1., 0.],\n",
              "       [0., 1., 0.],\n",
              "       [0., 1., 0.],\n",
              "       [0., 1., 0.],\n",
              "       [0., 1., 0.],\n",
              "       [0., 1., 0.],\n",
              "       [0., 1., 0.],\n",
              "       [0., 1., 0.],\n",
              "       [0., 1., 0.],\n",
              "       [0., 1., 0.],\n",
              "       [0., 1., 0.],\n",
              "       [0., 1., 0.],\n",
              "       [0., 1., 0.],\n",
              "       [0., 1., 0.],\n",
              "       [0., 1., 0.],\n",
              "       [0., 1., 0.],\n",
              "       [0., 1., 0.],\n",
              "       [0., 1., 0.],\n",
              "       [0., 1., 0.],\n",
              "       [0., 1., 0.],\n",
              "       [0., 1., 0.],\n",
              "       [0., 1., 0.],\n",
              "       [0., 1., 0.],\n",
              "       [0., 1., 0.],\n",
              "       [0., 1., 0.],\n",
              "       [0., 1., 0.],\n",
              "       [0., 1., 0.],\n",
              "       [0., 1., 0.],\n",
              "       [0., 1., 0.],\n",
              "       [0., 1., 0.],\n",
              "       [0., 1., 0.],\n",
              "       [0., 1., 0.],\n",
              "       [0., 1., 0.],\n",
              "       [0., 1., 0.],\n",
              "       [0., 1., 0.],\n",
              "       [0., 1., 0.],\n",
              "       [0., 1., 0.],\n",
              "       [0., 1., 0.],\n",
              "       [0., 1., 0.],\n",
              "       [0., 1., 0.],\n",
              "       [0., 1., 0.],\n",
              "       [0., 1., 0.],\n",
              "       [0., 1., 0.],\n",
              "       [0., 1., 0.],\n",
              "       [0., 1., 0.],\n",
              "       [0., 1., 0.],\n",
              "       [0., 1., 0.],\n",
              "       [0., 1., 0.],\n",
              "       [0., 0., 1.],\n",
              "       [0., 0., 1.],\n",
              "       [0., 0., 1.],\n",
              "       [0., 0., 1.],\n",
              "       [0., 0., 1.],\n",
              "       [0., 0., 1.],\n",
              "       [0., 0., 1.],\n",
              "       [0., 0., 1.],\n",
              "       [0., 0., 1.],\n",
              "       [0., 0., 1.],\n",
              "       [0., 0., 1.],\n",
              "       [0., 0., 1.],\n",
              "       [0., 0., 1.],\n",
              "       [0., 0., 1.],\n",
              "       [0., 0., 1.],\n",
              "       [0., 0., 1.],\n",
              "       [0., 0., 1.],\n",
              "       [0., 0., 1.],\n",
              "       [0., 0., 1.],\n",
              "       [0., 0., 1.],\n",
              "       [0., 0., 1.],\n",
              "       [0., 0., 1.],\n",
              "       [0., 0., 1.],\n",
              "       [0., 0., 1.],\n",
              "       [0., 0., 1.],\n",
              "       [0., 0., 1.],\n",
              "       [0., 0., 1.],\n",
              "       [0., 0., 1.],\n",
              "       [0., 0., 1.],\n",
              "       [0., 0., 1.],\n",
              "       [0., 0., 1.],\n",
              "       [0., 0., 1.],\n",
              "       [0., 0., 1.],\n",
              "       [0., 0., 1.],\n",
              "       [0., 0., 1.],\n",
              "       [0., 0., 1.],\n",
              "       [0., 0., 1.],\n",
              "       [0., 0., 1.],\n",
              "       [0., 0., 1.],\n",
              "       [0., 0., 1.],\n",
              "       [0., 0., 1.],\n",
              "       [0., 0., 1.],\n",
              "       [0., 0., 1.],\n",
              "       [0., 0., 1.],\n",
              "       [0., 0., 1.],\n",
              "       [0., 0., 1.],\n",
              "       [0., 0., 1.],\n",
              "       [0., 0., 1.],\n",
              "       [0., 0., 1.],\n",
              "       [0., 0., 1.]])"
            ]
          },
          "metadata": {
            "tags": []
          },
          "execution_count": 38
        }
      ]
    },
    {
      "cell_type": "markdown",
      "metadata": {
        "id": "V_OgKNMjo73P",
        "colab_type": "text"
      },
      "source": [
        "###**Classification: Supervised Learning**\n",
        "\n",
        "All supervised estimators in sklearn implement **`fit(X, y)`** method to fit the model and **`predict(X)`** method to assign label to unknown observations.\n",
        "\n",
        "    \"Often the hardest part of solving a machine learning problem can be finding the right estimator for the job.\"\n",
        "\n",
        "    \"Different estimators are better suited for different types of data and different problems.\"\n",
        "\n",
        "<figure>\n",
        "<left>\n",
        "<img src='https://drive.google.com/uc?export=view&id=1l8nDCQnRGgQH-DwALsmgu_qmllXZy5x0' width=\"800\" height=\"600\" />\n",
        "</left>\n",
        "</figure>\n",
        "\n",
        "[source](https://scikit-learn.org/stable/tutorial/machine_learning_map/index.html)"
      ]
    },
    {
      "cell_type": "code",
      "metadata": {
        "id": "46i7EfvWhF3m",
        "colab_type": "code",
        "colab": {
          "base_uri": "https://localhost:8080/",
          "height": 86
        },
        "outputId": "7f43c020-2f0e-4782-d7f5-f6ac2be0526b"
      },
      "source": [
        "from sklearn.datasets import load_iris\n",
        "from sklearn.model_selection import train_test_split\n",
        "\n",
        "# Let's load the iris dataset\n",
        "iris = load_iris()\n",
        "X, y = iris.data, iris.target\n",
        "\n",
        "# split data into training and test sets using the handy train_test_split func\n",
        "# in this split, we are \"holding out\" only one value and label (placed into X_test and y_test)\n",
        "X_train, X_test, y_train, y_test = train_test_split(X, y,train_size = 0.7, random_state=1002)\n",
        "\n",
        "print('X_train:', X_train.shape)\n",
        "print('y_train:', y_train.shape)\n",
        "print('X_test:', X_test.shape)\n",
        "print('y_train:', y_test.shape)"
      ],
      "execution_count": 11,
      "outputs": [
        {
          "output_type": "stream",
          "text": [
            "X_train: (105, 4)\n",
            "y_train: (105,)\n",
            "X_test: (45, 4)\n",
            "y_train: (45,)\n"
          ],
          "name": "stdout"
        }
      ]
    },
    {
      "cell_type": "markdown",
      "metadata": {
        "id": "yRZvGN0n5srO",
        "colab_type": "text"
      },
      "source": [
        "###**Decision Tree**"
      ]
    },
    {
      "cell_type": "code",
      "metadata": {
        "id": "GLQ7UfWqsD8G",
        "colab_type": "code",
        "colab": {
          "base_uri": "https://localhost:8080/",
          "height": 312
        },
        "outputId": "5558ac6c-becc-48a1-e255-c65e5c2fb548"
      },
      "source": [
        "# Let's try a decision tree classification method\n",
        "from sklearn import tree\n",
        "from sklearn.metrics import accuracy_score, classification_report, confusion_matrix\n",
        "\n",
        "clf = tree.DecisionTreeClassifier(max_depth = 4,\n",
        "                                  criterion = 'entropy', \n",
        "                                  class_weight = 'balanced',\n",
        "                                  random_state = 2)\n",
        "clf.fit(X_train, y_train)\n",
        "\n",
        "#prediction\n",
        "y_hat = clf.predict(X_test)\n",
        "print('Predicted label:', y_hat[:10])\n",
        "print('Probability:', clf.predict_proba(X_test)[:10,:]) # 100=0, 010=1, 001=2\n",
        "\n",
        "# and calculate the accuracy\n",
        "print(\"\\nAccuracy:\", accuracy_score(y_test, y_hat))\n",
        "\n",
        "# and the confusion matrix\n",
        "print(\"Confusion matrix:\")\n",
        "print(confusion_matrix(y_test, y_hat))\n"
      ],
      "execution_count": 12,
      "outputs": [
        {
          "output_type": "stream",
          "text": [
            "Predicted label: [1 1 2 0 1 0 0 2 0 0]\n",
            "Probability: [[0. 1. 0.]\n",
            " [0. 1. 0.]\n",
            " [0. 0. 1.]\n",
            " [1. 0. 0.]\n",
            " [0. 1. 0.]\n",
            " [1. 0. 0.]\n",
            " [1. 0. 0.]\n",
            " [0. 0. 1.]\n",
            " [1. 0. 0.]\n",
            " [1. 0. 0.]]\n",
            "\n",
            "Accuracy: 0.9555555555555556\n",
            "Confusion matrix:\n",
            "[[19  0  0]\n",
            " [ 0 15  1]\n",
            " [ 0  1  9]]\n"
          ],
          "name": "stdout"
        }
      ]
    },
    {
      "cell_type": "code",
      "metadata": {
        "id": "pILUhLujrvC_",
        "colab_type": "code",
        "colab": {
          "base_uri": "https://localhost:8080/",
          "height": 757
        },
        "outputId": "4cfaa117-c961-4e95-9e19-cf30ad070af0"
      },
      "source": [
        "# visualize decision tree: decision tree is capable of computing the label without converting it to onehotencode form\n",
        "\n",
        "from sklearn.tree import export_graphviz\n",
        "import graphviz\n",
        "\n",
        "# Let's rerun the decision tree classifier\n",
        "from sklearn import tree\n",
        "\n",
        "clf = tree.DecisionTreeClassifier(max_depth = 4,\n",
        "                                  criterion = 'entropy', \n",
        "                                  class_weight = 'balanced',\n",
        "                                  random_state = 2)\n",
        "clf.fit(X_train, y_train)\n",
        "\n",
        "export_graphviz(clf, out_file=\"mytree.dot\",  \n",
        "                         feature_names=iris.feature_names,  \n",
        "                         class_names=iris.target_names,  \n",
        "                         filled=True, rounded=True,  \n",
        "                         special_characters=True)\n",
        "\n",
        "with open(\"mytree.dot\") as f:\n",
        "    dot_graph = f.read()\n",
        "\n",
        "graphviz.Source(dot_graph, format = 'png')"
      ],
      "execution_count": 13,
      "outputs": [
        {
          "output_type": "execute_result",
          "data": {
            "text/plain": [
              "<graphviz.files.Source at 0x7f489ad09cf8>"
            ],
            "image/svg+xml": "<?xml version=\"1.0\" encoding=\"UTF-8\" standalone=\"no\"?>\n<!DOCTYPE svg PUBLIC \"-//W3C//DTD SVG 1.1//EN\"\n \"http://www.w3.org/Graphics/SVG/1.1/DTD/svg11.dtd\">\n<!-- Generated by graphviz version 2.40.1 (20161225.0304)\n -->\n<!-- Title: Tree Pages: 1 -->\n<svg width=\"776pt\" height=\"552pt\"\n viewBox=\"0.00 0.00 775.50 552.00\" xmlns=\"http://www.w3.org/2000/svg\" xmlns:xlink=\"http://www.w3.org/1999/xlink\">\n<g id=\"graph0\" class=\"graph\" transform=\"scale(1 1) rotate(0) translate(4 548)\">\n<title>Tree</title>\n<polygon fill=\"#ffffff\" stroke=\"transparent\" points=\"-4,4 -4,-548 771.5,-548 771.5,4 -4,4\"/>\n<!-- 0 -->\n<g id=\"node1\" class=\"node\">\n<title>0</title>\n<path fill=\"#ffffff\" stroke=\"#000000\" d=\"M372,-544C372,-544 220,-544 220,-544 214,-544 208,-538 208,-532 208,-532 208,-473 208,-473 208,-467 214,-461 220,-461 220,-461 372,-461 372,-461 378,-461 384,-467 384,-473 384,-473 384,-532 384,-532 384,-538 378,-544 372,-544\"/>\n<text text-anchor=\"start\" x=\"227.5\" y=\"-528.8\" font-family=\"Helvetica,sans-Serif\" font-size=\"14.00\" fill=\"#000000\">petal width (cm) ≤ 0.8</text>\n<text text-anchor=\"start\" x=\"245\" y=\"-513.8\" font-family=\"Helvetica,sans-Serif\" font-size=\"14.00\" fill=\"#000000\">entropy = 1.585</text>\n<text text-anchor=\"start\" x=\"248\" y=\"-498.8\" font-family=\"Helvetica,sans-Serif\" font-size=\"14.00\" fill=\"#000000\">samples = 105</text>\n<text text-anchor=\"start\" x=\"216\" y=\"-483.8\" font-family=\"Helvetica,sans-Serif\" font-size=\"14.00\" fill=\"#000000\">value = [35.0, 35.0, 35.0]</text>\n<text text-anchor=\"start\" x=\"240\" y=\"-468.8\" font-family=\"Helvetica,sans-Serif\" font-size=\"14.00\" fill=\"#000000\">class = versicolor</text>\n</g>\n<!-- 1 -->\n<g id=\"node2\" class=\"node\">\n<title>1</title>\n<path fill=\"#e58139\" stroke=\"#000000\" d=\"M273.5,-417.5C273.5,-417.5 138.5,-417.5 138.5,-417.5 132.5,-417.5 126.5,-411.5 126.5,-405.5 126.5,-405.5 126.5,-361.5 126.5,-361.5 126.5,-355.5 132.5,-349.5 138.5,-349.5 138.5,-349.5 273.5,-349.5 273.5,-349.5 279.5,-349.5 285.5,-355.5 285.5,-361.5 285.5,-361.5 285.5,-405.5 285.5,-405.5 285.5,-411.5 279.5,-417.5 273.5,-417.5\"/>\n<text text-anchor=\"start\" x=\"163.5\" y=\"-402.3\" font-family=\"Helvetica,sans-Serif\" font-size=\"14.00\" fill=\"#000000\">entropy = 0.0</text>\n<text text-anchor=\"start\" x=\"162\" y=\"-387.3\" font-family=\"Helvetica,sans-Serif\" font-size=\"14.00\" fill=\"#000000\">samples = 31</text>\n<text text-anchor=\"start\" x=\"134.5\" y=\"-372.3\" font-family=\"Helvetica,sans-Serif\" font-size=\"14.00\" fill=\"#000000\">value = [35.0, 0.0, 0.0]</text>\n<text text-anchor=\"start\" x=\"159\" y=\"-357.3\" font-family=\"Helvetica,sans-Serif\" font-size=\"14.00\" fill=\"#000000\">class = setosa</text>\n</g>\n<!-- 0&#45;&gt;1 -->\n<g id=\"edge1\" class=\"edge\">\n<title>0&#45;&gt;1</title>\n<path fill=\"none\" stroke=\"#000000\" d=\"M264.5224,-460.8796C255.9565,-449.5536 246.67,-437.2748 238.0717,-425.9058\"/>\n<polygon fill=\"#000000\" stroke=\"#000000\" points=\"240.7762,-423.6795 231.9525,-417.8149 235.1931,-427.902 240.7762,-423.6795\"/>\n<text text-anchor=\"middle\" x=\"228.5165\" y=\"-438.8777\" font-family=\"Helvetica,sans-Serif\" font-size=\"14.00\" fill=\"#000000\">True</text>\n</g>\n<!-- 2 -->\n<g id=\"node3\" class=\"node\">\n<title>2</title>\n<path fill=\"#ffffff\" stroke=\"#000000\" d=\"M458.5,-425C458.5,-425 315.5,-425 315.5,-425 309.5,-425 303.5,-419 303.5,-413 303.5,-413 303.5,-354 303.5,-354 303.5,-348 309.5,-342 315.5,-342 315.5,-342 458.5,-342 458.5,-342 464.5,-342 470.5,-348 470.5,-354 470.5,-354 470.5,-413 470.5,-413 470.5,-419 464.5,-425 458.5,-425\"/>\n<text text-anchor=\"start\" x=\"314.5\" y=\"-409.8\" font-family=\"Helvetica,sans-Serif\" font-size=\"14.00\" fill=\"#000000\">petal width (cm) ≤ 1.65</text>\n<text text-anchor=\"start\" x=\"344.5\" y=\"-394.8\" font-family=\"Helvetica,sans-Serif\" font-size=\"14.00\" fill=\"#000000\">entropy = 1.0</text>\n<text text-anchor=\"start\" x=\"343\" y=\"-379.8\" font-family=\"Helvetica,sans-Serif\" font-size=\"14.00\" fill=\"#000000\">samples = 74</text>\n<text text-anchor=\"start\" x=\"311.5\" y=\"-364.8\" font-family=\"Helvetica,sans-Serif\" font-size=\"14.00\" fill=\"#000000\">value = [0.0, 35.0, 35.0]</text>\n<text text-anchor=\"start\" x=\"331\" y=\"-349.8\" font-family=\"Helvetica,sans-Serif\" font-size=\"14.00\" fill=\"#000000\">class = versicolor</text>\n</g>\n<!-- 0&#45;&gt;2 -->\n<g id=\"edge2\" class=\"edge\">\n<title>0&#45;&gt;2</title>\n<path fill=\"none\" stroke=\"#000000\" d=\"M327.8274,-460.8796C334.6457,-451.9633 341.9156,-442.4565 348.9421,-433.268\"/>\n<polygon fill=\"#000000\" stroke=\"#000000\" points=\"351.7425,-435.3678 355.0368,-425.2981 346.182,-431.1156 351.7425,-435.3678\"/>\n<text text-anchor=\"middle\" x=\"358.3409\" y=\"-446.3788\" font-family=\"Helvetica,sans-Serif\" font-size=\"14.00\" fill=\"#000000\">False</text>\n</g>\n<!-- 3 -->\n<g id=\"node4\" class=\"node\">\n<title>3</title>\n<path fill=\"#48e78b\" stroke=\"#000000\" d=\"M366,-306C366,-306 198,-306 198,-306 192,-306 186,-300 186,-294 186,-294 186,-235 186,-235 186,-229 192,-223 198,-223 198,-223 366,-223 366,-223 372,-223 378,-229 378,-235 378,-235 378,-294 378,-294 378,-300 372,-306 366,-306\"/>\n<text text-anchor=\"start\" x=\"206.5\" y=\"-290.8\" font-family=\"Helvetica,sans-Serif\" font-size=\"14.00\" fill=\"#000000\">petal length (cm) ≤ 4.95</text>\n<text text-anchor=\"start\" x=\"231\" y=\"-275.8\" font-family=\"Helvetica,sans-Serif\" font-size=\"14.00\" fill=\"#000000\">entropy = 0.372</text>\n<text text-anchor=\"start\" x=\"238\" y=\"-260.8\" font-family=\"Helvetica,sans-Serif\" font-size=\"14.00\" fill=\"#000000\">samples = 36</text>\n<text text-anchor=\"start\" x=\"194\" y=\"-245.8\" font-family=\"Helvetica,sans-Serif\" font-size=\"14.00\" fill=\"#000000\">value = [0.0, 33.971, 2.625]</text>\n<text text-anchor=\"start\" x=\"226\" y=\"-230.8\" font-family=\"Helvetica,sans-Serif\" font-size=\"14.00\" fill=\"#000000\">class = versicolor</text>\n</g>\n<!-- 2&#45;&gt;3 -->\n<g id=\"edge3\" class=\"edge\">\n<title>2&#45;&gt;3</title>\n<path fill=\"none\" stroke=\"#000000\" d=\"M350.2761,-341.8796C342.3293,-332.8733 333.851,-323.2644 325.6674,-313.9897\"/>\n<polygon fill=\"#000000\" stroke=\"#000000\" points=\"328.1213,-311.4808 318.8807,-306.2981 322.8725,-316.1122 328.1213,-311.4808\"/>\n</g>\n<!-- 8 -->\n<g id=\"node9\" class=\"node\">\n<title>8</title>\n<path fill=\"#853fe6\" stroke=\"#000000\" d=\"M576,-306C576,-306 408,-306 408,-306 402,-306 396,-300 396,-294 396,-294 396,-235 396,-235 396,-229 402,-223 408,-223 408,-223 576,-223 576,-223 582,-223 588,-229 588,-235 588,-235 588,-294 588,-294 588,-300 582,-306 576,-306\"/>\n<text text-anchor=\"start\" x=\"416.5\" y=\"-290.8\" font-family=\"Helvetica,sans-Serif\" font-size=\"14.00\" fill=\"#000000\">petal length (cm) ≤ 4.85</text>\n<text text-anchor=\"start\" x=\"441\" y=\"-275.8\" font-family=\"Helvetica,sans-Serif\" font-size=\"14.00\" fill=\"#000000\">entropy = 0.198</text>\n<text text-anchor=\"start\" x=\"448\" y=\"-260.8\" font-family=\"Helvetica,sans-Serif\" font-size=\"14.00\" fill=\"#000000\">samples = 38</text>\n<text text-anchor=\"start\" x=\"404\" y=\"-245.8\" font-family=\"Helvetica,sans-Serif\" font-size=\"14.00\" fill=\"#000000\">value = [0.0, 1.029, 32.375]</text>\n<text text-anchor=\"start\" x=\"440.5\" y=\"-230.8\" font-family=\"Helvetica,sans-Serif\" font-size=\"14.00\" fill=\"#000000\">class = virginica</text>\n</g>\n<!-- 2&#45;&gt;8 -->\n<g id=\"edge8\" class=\"edge\">\n<title>2&#45;&gt;8</title>\n<path fill=\"none\" stroke=\"#000000\" d=\"M423.7239,-341.8796C431.6707,-332.8733 440.149,-323.2644 448.3326,-313.9897\"/>\n<polygon fill=\"#000000\" stroke=\"#000000\" points=\"451.1275,-316.1122 455.1193,-306.2981 445.8787,-311.4808 451.1275,-316.1122\"/>\n</g>\n<!-- 4 -->\n<g id=\"node5\" class=\"node\">\n<title>4</title>\n<path fill=\"#39e581\" stroke=\"#000000\" d=\"M164,-179.5C164,-179.5 12,-179.5 12,-179.5 6,-179.5 0,-173.5 0,-167.5 0,-167.5 0,-123.5 0,-123.5 0,-117.5 6,-111.5 12,-111.5 12,-111.5 164,-111.5 164,-111.5 170,-111.5 176,-117.5 176,-123.5 176,-123.5 176,-167.5 176,-167.5 176,-173.5 170,-179.5 164,-179.5\"/>\n<text text-anchor=\"start\" x=\"45.5\" y=\"-164.3\" font-family=\"Helvetica,sans-Serif\" font-size=\"14.00\" fill=\"#000000\">entropy = 0.0</text>\n<text text-anchor=\"start\" x=\"44\" y=\"-149.3\" font-family=\"Helvetica,sans-Serif\" font-size=\"14.00\" fill=\"#000000\">samples = 32</text>\n<text text-anchor=\"start\" x=\"8\" y=\"-134.3\" font-family=\"Helvetica,sans-Serif\" font-size=\"14.00\" fill=\"#000000\">value = [0.0, 32.941, 0.0]</text>\n<text text-anchor=\"start\" x=\"32\" y=\"-119.3\" font-family=\"Helvetica,sans-Serif\" font-size=\"14.00\" fill=\"#000000\">class = versicolor</text>\n</g>\n<!-- 3&#45;&gt;4 -->\n<g id=\"edge4\" class=\"edge\">\n<title>3&#45;&gt;4</title>\n<path fill=\"none\" stroke=\"#000000\" d=\"M214.1482,-222.8796C194.0651,-210.5606 172.1443,-197.1143 152.2933,-184.9376\"/>\n<polygon fill=\"#000000\" stroke=\"#000000\" points=\"153.9833,-181.8683 143.6291,-179.623 150.3232,-187.8352 153.9833,-181.8683\"/>\n</g>\n<!-- 5 -->\n<g id=\"node6\" class=\"node\">\n<title>5</title>\n<path fill=\"#b287ef\" stroke=\"#000000\" d=\"M366,-187C366,-187 206,-187 206,-187 200,-187 194,-181 194,-175 194,-175 194,-116 194,-116 194,-110 200,-104 206,-104 206,-104 366,-104 366,-104 372,-104 378,-110 378,-116 378,-116 378,-175 378,-175 378,-181 372,-187 366,-187\"/>\n<text text-anchor=\"start\" x=\"213.5\" y=\"-171.8\" font-family=\"Helvetica,sans-Serif\" font-size=\"14.00\" fill=\"#000000\">petal width (cm) ≤ 1.55</text>\n<text text-anchor=\"start\" x=\"235\" y=\"-156.8\" font-family=\"Helvetica,sans-Serif\" font-size=\"14.00\" fill=\"#000000\">entropy = 0.858</text>\n<text text-anchor=\"start\" x=\"246.5\" y=\"-141.8\" font-family=\"Helvetica,sans-Serif\" font-size=\"14.00\" fill=\"#000000\">samples = 4</text>\n<text text-anchor=\"start\" x=\"202\" y=\"-126.8\" font-family=\"Helvetica,sans-Serif\" font-size=\"14.00\" fill=\"#000000\">value = [0.0, 1.029, 2.625]</text>\n<text text-anchor=\"start\" x=\"234.5\" y=\"-111.8\" font-family=\"Helvetica,sans-Serif\" font-size=\"14.00\" fill=\"#000000\">class = virginica</text>\n</g>\n<!-- 3&#45;&gt;5 -->\n<g id=\"edge5\" class=\"edge\">\n<title>3&#45;&gt;5</title>\n<path fill=\"none\" stroke=\"#000000\" d=\"M283.399,-222.8796C283.6745,-214.6838 283.9668,-205.9891 284.2521,-197.5013\"/>\n<polygon fill=\"#000000\" stroke=\"#000000\" points=\"287.757,-197.41 284.595,-187.2981 280.761,-197.1748 287.757,-197.41\"/>\n</g>\n<!-- 6 -->\n<g id=\"node7\" class=\"node\">\n<title>6</title>\n<path fill=\"#8139e5\" stroke=\"#000000\" d=\"M176.5,-68C176.5,-68 33.5,-68 33.5,-68 27.5,-68 21.5,-62 21.5,-56 21.5,-56 21.5,-12 21.5,-12 21.5,-6 27.5,0 33.5,0 33.5,0 176.5,0 176.5,0 182.5,0 188.5,-6 188.5,-12 188.5,-12 188.5,-56 188.5,-56 188.5,-62 182.5,-68 176.5,-68\"/>\n<text text-anchor=\"start\" x=\"62.5\" y=\"-52.8\" font-family=\"Helvetica,sans-Serif\" font-size=\"14.00\" fill=\"#000000\">entropy = 0.0</text>\n<text text-anchor=\"start\" x=\"65.5\" y=\"-37.8\" font-family=\"Helvetica,sans-Serif\" font-size=\"14.00\" fill=\"#000000\">samples = 3</text>\n<text text-anchor=\"start\" x=\"29.5\" y=\"-22.8\" font-family=\"Helvetica,sans-Serif\" font-size=\"14.00\" fill=\"#000000\">value = [0.0, 0.0, 2.625]</text>\n<text text-anchor=\"start\" x=\"53.5\" y=\"-7.8\" font-family=\"Helvetica,sans-Serif\" font-size=\"14.00\" fill=\"#000000\">class = virginica</text>\n</g>\n<!-- 5&#45;&gt;6 -->\n<g id=\"edge6\" class=\"edge\">\n<title>5&#45;&gt;6</title>\n<path fill=\"none\" stroke=\"#000000\" d=\"M218.6023,-103.9815C202.4045,-94.0034 185.1487,-83.3733 169.1055,-73.4904\"/>\n<polygon fill=\"#000000\" stroke=\"#000000\" points=\"170.6817,-70.3506 160.3318,-68.0856 167.0103,-76.3105 170.6817,-70.3506\"/>\n</g>\n<!-- 7 -->\n<g id=\"node8\" class=\"node\">\n<title>7</title>\n<path fill=\"#39e581\" stroke=\"#000000\" d=\"M361.5,-68C361.5,-68 218.5,-68 218.5,-68 212.5,-68 206.5,-62 206.5,-56 206.5,-56 206.5,-12 206.5,-12 206.5,-6 212.5,0 218.5,0 218.5,0 361.5,0 361.5,0 367.5,0 373.5,-6 373.5,-12 373.5,-12 373.5,-56 373.5,-56 373.5,-62 367.5,-68 361.5,-68\"/>\n<text text-anchor=\"start\" x=\"247.5\" y=\"-52.8\" font-family=\"Helvetica,sans-Serif\" font-size=\"14.00\" fill=\"#000000\">entropy = 0.0</text>\n<text text-anchor=\"start\" x=\"250.5\" y=\"-37.8\" font-family=\"Helvetica,sans-Serif\" font-size=\"14.00\" fill=\"#000000\">samples = 1</text>\n<text text-anchor=\"start\" x=\"214.5\" y=\"-22.8\" font-family=\"Helvetica,sans-Serif\" font-size=\"14.00\" fill=\"#000000\">value = [0.0, 1.029, 0.0]</text>\n<text text-anchor=\"start\" x=\"234\" y=\"-7.8\" font-family=\"Helvetica,sans-Serif\" font-size=\"14.00\" fill=\"#000000\">class = versicolor</text>\n</g>\n<!-- 5&#45;&gt;7 -->\n<g id=\"edge7\" class=\"edge\">\n<title>5&#45;&gt;7</title>\n<path fill=\"none\" stroke=\"#000000\" d=\"M287.4895,-103.9815C287.7895,-95.618 288.106,-86.7965 288.4093,-78.3409\"/>\n<polygon fill=\"#000000\" stroke=\"#000000\" points=\"291.91,-78.3828 288.7708,-68.2637 284.9145,-78.1317 291.91,-78.3828\"/>\n</g>\n<!-- 9 -->\n<g id=\"node10\" class=\"node\">\n<title>9</title>\n<path fill=\"#b287ef\" stroke=\"#000000\" d=\"M570,-187C570,-187 410,-187 410,-187 404,-187 398,-181 398,-175 398,-175 398,-116 398,-116 398,-110 404,-104 410,-104 410,-104 570,-104 570,-104 576,-104 582,-110 582,-116 582,-116 582,-175 582,-175 582,-181 576,-187 570,-187\"/>\n<text text-anchor=\"start\" x=\"419.5\" y=\"-171.8\" font-family=\"Helvetica,sans-Serif\" font-size=\"14.00\" fill=\"#000000\">sepal width (cm) ≤ 3.1</text>\n<text text-anchor=\"start\" x=\"439\" y=\"-156.8\" font-family=\"Helvetica,sans-Serif\" font-size=\"14.00\" fill=\"#000000\">entropy = 0.858</text>\n<text text-anchor=\"start\" x=\"450.5\" y=\"-141.8\" font-family=\"Helvetica,sans-Serif\" font-size=\"14.00\" fill=\"#000000\">samples = 4</text>\n<text text-anchor=\"start\" x=\"406\" y=\"-126.8\" font-family=\"Helvetica,sans-Serif\" font-size=\"14.00\" fill=\"#000000\">value = [0.0, 1.029, 2.625]</text>\n<text text-anchor=\"start\" x=\"438.5\" y=\"-111.8\" font-family=\"Helvetica,sans-Serif\" font-size=\"14.00\" fill=\"#000000\">class = virginica</text>\n</g>\n<!-- 8&#45;&gt;9 -->\n<g id=\"edge9\" class=\"edge\">\n<title>8&#45;&gt;9</title>\n<path fill=\"none\" stroke=\"#000000\" d=\"M491.3005,-222.8796C491.1628,-214.6838 491.0166,-205.9891 490.874,-197.5013\"/>\n<polygon fill=\"#000000\" stroke=\"#000000\" points=\"494.3701,-197.2378 490.7025,-187.2981 487.3711,-197.3555 494.3701,-197.2378\"/>\n</g>\n<!-- 12 -->\n<g id=\"node13\" class=\"node\">\n<title>12</title>\n<path fill=\"#8139e5\" stroke=\"#000000\" d=\"M755.5,-179.5C755.5,-179.5 612.5,-179.5 612.5,-179.5 606.5,-179.5 600.5,-173.5 600.5,-167.5 600.5,-167.5 600.5,-123.5 600.5,-123.5 600.5,-117.5 606.5,-111.5 612.5,-111.5 612.5,-111.5 755.5,-111.5 755.5,-111.5 761.5,-111.5 767.5,-117.5 767.5,-123.5 767.5,-123.5 767.5,-167.5 767.5,-167.5 767.5,-173.5 761.5,-179.5 755.5,-179.5\"/>\n<text text-anchor=\"start\" x=\"641.5\" y=\"-164.3\" font-family=\"Helvetica,sans-Serif\" font-size=\"14.00\" fill=\"#000000\">entropy = 0.0</text>\n<text text-anchor=\"start\" x=\"640\" y=\"-149.3\" font-family=\"Helvetica,sans-Serif\" font-size=\"14.00\" fill=\"#000000\">samples = 34</text>\n<text text-anchor=\"start\" x=\"608.5\" y=\"-134.3\" font-family=\"Helvetica,sans-Serif\" font-size=\"14.00\" fill=\"#000000\">value = [0.0, 0.0, 29.75]</text>\n<text text-anchor=\"start\" x=\"632.5\" y=\"-119.3\" font-family=\"Helvetica,sans-Serif\" font-size=\"14.00\" fill=\"#000000\">class = virginica</text>\n</g>\n<!-- 8&#45;&gt;12 -->\n<g id=\"edge12\" class=\"edge\">\n<title>8&#45;&gt;12</title>\n<path fill=\"none\" stroke=\"#000000\" d=\"M559.1523,-222.8796C579.0283,-210.5606 600.7232,-197.1143 620.3695,-184.9376\"/>\n<polygon fill=\"#000000\" stroke=\"#000000\" points=\"622.2884,-187.8661 628.9443,-179.623 618.6007,-181.9163 622.2884,-187.8661\"/>\n</g>\n<!-- 10 -->\n<g id=\"node11\" class=\"node\">\n<title>10</title>\n<path fill=\"#8139e5\" stroke=\"#000000\" d=\"M558.5,-68C558.5,-68 415.5,-68 415.5,-68 409.5,-68 403.5,-62 403.5,-56 403.5,-56 403.5,-12 403.5,-12 403.5,-6 409.5,0 415.5,0 415.5,0 558.5,0 558.5,0 564.5,0 570.5,-6 570.5,-12 570.5,-12 570.5,-56 570.5,-56 570.5,-62 564.5,-68 558.5,-68\"/>\n<text text-anchor=\"start\" x=\"444.5\" y=\"-52.8\" font-family=\"Helvetica,sans-Serif\" font-size=\"14.00\" fill=\"#000000\">entropy = 0.0</text>\n<text text-anchor=\"start\" x=\"447.5\" y=\"-37.8\" font-family=\"Helvetica,sans-Serif\" font-size=\"14.00\" fill=\"#000000\">samples = 3</text>\n<text text-anchor=\"start\" x=\"411.5\" y=\"-22.8\" font-family=\"Helvetica,sans-Serif\" font-size=\"14.00\" fill=\"#000000\">value = [0.0, 0.0, 2.625]</text>\n<text text-anchor=\"start\" x=\"435.5\" y=\"-7.8\" font-family=\"Helvetica,sans-Serif\" font-size=\"14.00\" fill=\"#000000\">class = virginica</text>\n</g>\n<!-- 9&#45;&gt;10 -->\n<g id=\"edge10\" class=\"edge\">\n<title>9&#45;&gt;10</title>\n<path fill=\"none\" stroke=\"#000000\" d=\"M488.8829,-103.9815C488.6579,-95.618 488.4205,-86.7965 488.193,-78.3409\"/>\n<polygon fill=\"#000000\" stroke=\"#000000\" points=\"491.6897,-78.1659 487.9219,-68.2637 484.6922,-78.3542 491.6897,-78.1659\"/>\n</g>\n<!-- 11 -->\n<g id=\"node12\" class=\"node\">\n<title>11</title>\n<path fill=\"#39e581\" stroke=\"#000000\" d=\"M743.5,-68C743.5,-68 600.5,-68 600.5,-68 594.5,-68 588.5,-62 588.5,-56 588.5,-56 588.5,-12 588.5,-12 588.5,-6 594.5,0 600.5,0 600.5,0 743.5,0 743.5,0 749.5,0 755.5,-6 755.5,-12 755.5,-12 755.5,-56 755.5,-56 755.5,-62 749.5,-68 743.5,-68\"/>\n<text text-anchor=\"start\" x=\"629.5\" y=\"-52.8\" font-family=\"Helvetica,sans-Serif\" font-size=\"14.00\" fill=\"#000000\">entropy = 0.0</text>\n<text text-anchor=\"start\" x=\"632.5\" y=\"-37.8\" font-family=\"Helvetica,sans-Serif\" font-size=\"14.00\" fill=\"#000000\">samples = 1</text>\n<text text-anchor=\"start\" x=\"596.5\" y=\"-22.8\" font-family=\"Helvetica,sans-Serif\" font-size=\"14.00\" fill=\"#000000\">value = [0.0, 1.029, 0.0]</text>\n<text text-anchor=\"start\" x=\"616\" y=\"-7.8\" font-family=\"Helvetica,sans-Serif\" font-size=\"14.00\" fill=\"#000000\">class = versicolor</text>\n</g>\n<!-- 9&#45;&gt;11 -->\n<g id=\"edge11\" class=\"edge\">\n<title>9&#45;&gt;11</title>\n<path fill=\"none\" stroke=\"#000000\" d=\"M557.7701,-103.9815C574.0573,-94.0034 591.4085,-83.3733 607.5403,-73.4904\"/>\n<polygon fill=\"#000000\" stroke=\"#000000\" points=\"609.6638,-76.2941 616.3625,-68.0856 606.007,-70.3252 609.6638,-76.2941\"/>\n</g>\n</g>\n</svg>\n"
          },
          "metadata": {
            "tags": []
          },
          "execution_count": 13
        }
      ]
    },
    {
      "cell_type": "markdown",
      "metadata": {
        "id": "iEMldR7T7rf-",
        "colab_type": "text"
      },
      "source": [
        "###**Support Vector Machine (SVM)**"
      ]
    },
    {
      "cell_type": "code",
      "metadata": {
        "id": "1rmCxjvZ7rNh",
        "colab_type": "code",
        "colab": {
          "base_uri": "https://localhost:8080/",
          "height": 531
        },
        "outputId": "bef0d9e8-2bec-4009-d63b-1b1b2ee412c0"
      },
      "source": [
        "from sklearn import svm\n",
        "\n",
        "X, y = load_iris(return_X_y=True)\n",
        "X = X[:,:2] # select the first two features\n",
        "\n",
        "h = 0.02 # grid scale (minor tick)\n",
        "c = 1.0 # regularization term\n",
        "\n",
        "# fit model\n",
        "svc_lin = svm.SVC(kernel='linear', C=c).fit(X, y)\n",
        "svc_rbf = svm.SVC(kernel='rbf', C=c, gamma=0.7).fit(X, y)\n",
        "svc_poly = svm.SVC(kernel='poly', C=c, degree=3).fit(X, y)\n",
        "svc = svm.LinearSVC(C=c).fit(X, y)\n",
        "\n",
        "# create a mesh to plot in\n",
        "x_min, x_max = X[:, 0].min()-1, X[:, 0].max()+1\n",
        "y_min, y_max = X[:, 1].min()-1, X[:, 1].max()+1\n",
        "xx, yy = np.meshgrid(np.arange(x_min, x_max, h),\n",
        "                     np.arange(y_min, y_max, h))\n",
        "\n",
        "titles = ['SVC with linear model',\n",
        "          'SVC with rbf model',\n",
        "          'SVC with poly model',\n",
        "          'LinearSVC (linear model)']\n",
        "\n",
        "\n",
        "plt.figure(figsize=(10,8))\n",
        "for i, clf in enumerate((svc_lin, svc_rbf, svc_poly, svc)):\n",
        "    plt.subplot(2, 2, i+1)\n",
        "    plt.subplots_adjust(wspace=0.4, hspace=0.4)\n",
        "\n",
        "    #np.ravel() - flatten an array equivalent to reshape(-1, n)\n",
        "    #np.c_ - concatenate along second axis @ stack 1D array into 2D\n",
        "\n",
        "    Z = clf.predict(np.c_[xx.ravel(), yy.ravel()]) # predict each point\n",
        "    Z = Z.reshape(xx.shape)\n",
        "\n",
        "    plt.contourf(xx, yy, Z, cmap=plt.cm.Pastel1, alpha=0.8)\n",
        "\n",
        "    plt.scatter(X[:, 0], X[:, 1], c=[y*100], cmap=plt.cm.Set1)\n",
        "    plt.xlabel('Sepal length')\n",
        "    plt.ylabel('Sepal width')\n",
        "    plt.xlim(xx.min(), xx.max())\n",
        "    plt.ylim(yy.min(), yy.max())\n",
        "\n",
        "    plt.xticks(())\n",
        "    plt.yticks(())\n",
        "    plt.title(titles[i])"
      ],
      "execution_count": 14,
      "outputs": [
        {
          "output_type": "stream",
          "text": [
            "/usr/local/lib/python3.6/dist-packages/sklearn/svm/_base.py:947: ConvergenceWarning: Liblinear failed to converge, increase the number of iterations.\n",
            "  \"the number of iterations.\", ConvergenceWarning)\n"
          ],
          "name": "stderr"
        },
        {
          "output_type": "display_data",
          "data": {
            "image/png": "[encoded data removed]",
            "text/plain": [
              "<Figure size 720x576 with 4 Axes>"
            ]
          },
          "metadata": {
            "tags": []
          }
        }
      ]
    },
    {
      "cell_type": "markdown",
      "metadata": {
        "id": "wrrtvwMPG6j-",
        "colab_type": "text"
      },
      "source": [
        "####**GridSearch CV**\n",
        "\n",
        "`class sklearn.model_selection.GridSearchCV(estimator, param_grid, *, scoring=None, n_jobs=None, iid='deprecated', refit=True, cv=None, verbose=0, pre_dispatch='2*n_jobs', error_score=nan, return_train_score=False)`\n",
        "\n",
        "###k-folds CV\n",
        "<figure>\n",
        "<left>\n",
        "<img src='https://drive.google.com/uc?export=view&id=1ywsI34JqqbyNYAet21IoqhdStnUc3G-Z' width=\"500\" height=\"300\" />\n",
        "</left>\n",
        "</figure>\n",
        "\n"
      ]
    },
    {
      "cell_type": "code",
      "metadata": {
        "id": "qNC--uUiFaEM",
        "colab_type": "code",
        "colab": {
          "base_uri": "https://localhost:8080/",
          "height": 295
        },
        "outputId": "1e6b38d0-03fe-44df-8a22-b687dc457ea3"
      },
      "source": [
        "from sklearn.model_selection import GridSearchCV\n",
        "from sklearn.neighbors import KNeighborsClassifier \n",
        "\n",
        "# Let's load the iris dataset\n",
        "iris = load_iris()\n",
        "X, y = iris.data, iris.target\n",
        "\n",
        "grid = GridSearchCV(KNeighborsClassifier(),\n",
        "                    param_grid={\"n_neighbors\": list(range(1, 100))},\n",
        "                    scoring=\"accuracy\",\n",
        "                    cv=10, n_jobs=-1)\n",
        "\n",
        "grid.fit(X, y)  # Note that GridSearchCV is itself an estimator\n",
        "\n",
        "print('best parameter:',grid.best_params_)\n",
        "print('best estimator spec:',grid.best_estimator_)\n",
        "print('best score:',grid.best_score_)\n",
        "print('\\nprobability:',grid.best_estimator_.predict_proba(X_test)[:10,:])"
      ],
      "execution_count": 15,
      "outputs": [
        {
          "output_type": "stream",
          "text": [
            "best parameter: {'n_neighbors': 13}\n",
            "best estimator spec: KNeighborsClassifier(algorithm='auto', leaf_size=30, metric='minkowski',\n",
            "                     metric_params=None, n_jobs=None, n_neighbors=13, p=2,\n",
            "                     weights='uniform')\n",
            "best score: 0.9800000000000001\n",
            "\n",
            "probability: [[0.         1.         0.        ]\n",
            " [0.         0.92307692 0.07692308]\n",
            " [0.         0.         1.        ]\n",
            " [1.         0.         0.        ]\n",
            " [0.         1.         0.        ]\n",
            " [1.         0.         0.        ]\n",
            " [1.         0.         0.        ]\n",
            " [0.         0.         1.        ]\n",
            " [1.         0.         0.        ]\n",
            " [1.         0.         0.        ]]\n"
          ],
          "name": "stdout"
        }
      ]
    },
    {
      "cell_type": "markdown",
      "metadata": {
        "id": "Y9RLvaDNIQd4",
        "colab_type": "text"
      },
      "source": [
        "###**Searching Parameter Space with GridSearchCV + Pipeline**\n",
        "\n",
        "`class sklearn.model_selection.GridSearchCV(estimator, param_grid, *, scoring=None, n_jobs=None, iid='deprecated', refit=True, cv=None, verbose=0, pre_dispatch='2*n_jobs', error_score=nan, return_train_score=False)`\n",
        "\n",
        "`class sklearn.pipeline.Pipeline(steps, *, memory=None, verbose=False)`"
      ]
    },
    {
      "cell_type": "code",
      "metadata": {
        "id": "_0f_4VhPFR1V",
        "colab_type": "code",
        "colab": {
          "base_uri": "https://localhost:8080/",
          "height": 538
        },
        "outputId": "1e7f3f36-5b7c-4ab5-a9ce-08a12f4520a0"
      },
      "source": [
        "from sklearn.decomposition import PCA\n",
        "from sklearn.linear_model import LogisticRegression\n",
        "from sklearn.pipeline import Pipeline\n",
        "from sklearn.model_selection import GridSearchCV\n",
        "import numpy as np\n",
        "import matplotlib.pyplot as plt\n",
        "import pandas as pd\n",
        "from sklearn import datasets\n",
        "\n",
        "# Let's load the iris dataset\n",
        "iris = load_iris()\n",
        "X, y = iris.data, iris.target\n",
        "\n",
        "# Define a pipeline to search for the best combination of PCA truncation\n",
        "# and classifier regularization.\n",
        "pca = PCA()\n",
        "# set the tolerance to a large value to make the example faster\n",
        "logistic = LogisticRegression(max_iter=10000, tol=0.1)\n",
        "pipe = Pipeline(steps=[('pca', pca), ('logistic', logistic)])\n",
        "\n",
        "\n",
        "# Parameters of pipelines can be set using ‘__’ separated parameter names:\n",
        "param_grid = {\n",
        "    'pca__n_components': [1, 2, 3],\n",
        "    'logistic__C': np.arange(0, 100, 1),\n",
        "}\n",
        "\n",
        "search = GridSearchCV(pipe, param_grid, cv=10, n_jobs=-1)\n",
        "search.fit(X, y)\n",
        "\n",
        "print(\"Best parameter (CV score=%0.3f):\" % search.best_score_)\n",
        "print(search.best_params_)\n",
        "print('\\nbest estimator spec:',search.best_estimator_)\n",
        "print('\\nbest score:',search.best_score_)\n",
        "print('\\nprobability:',search.best_estimator_.predict_proba(X)[:10,:])"
      ],
      "execution_count": 16,
      "outputs": [
        {
          "output_type": "stream",
          "text": [
            "Best parameter (CV score=0.987):\n",
            "{'logistic__C': 9, 'pca__n_components': 3}\n",
            "\n",
            "best estimator spec: Pipeline(memory=None,\n",
            "         steps=[('pca',\n",
            "                 PCA(copy=True, iterated_power='auto', n_components=3,\n",
            "                     random_state=None, svd_solver='auto', tol=0.0,\n",
            "                     whiten=False)),\n",
            "                ('logistic',\n",
            "                 LogisticRegression(C=9, class_weight=None, dual=False,\n",
            "                                    fit_intercept=True, intercept_scaling=1,\n",
            "                                    l1_ratio=None, max_iter=10000,\n",
            "                                    multi_class='auto', n_jobs=None,\n",
            "                                    penalty='l2', random_state=None,\n",
            "                                    solver='lbfgs', tol=0.1, verbose=0,\n",
            "                                    warm_start=False))],\n",
            "         verbose=False)\n",
            "\n",
            "best score: 0.9866666666666667\n",
            "\n",
            "probability: [[9.96728721e-01 3.27127907e-03 4.57668385e-15]\n",
            " [9.93478935e-01 6.52106529e-03 2.37689316e-14]\n",
            " [9.97867251e-01 2.13274873e-03 5.30161827e-15]\n",
            " [9.95734627e-01 4.26537338e-03 5.32368217e-14]\n",
            " [9.97792636e-01 2.20736424e-03 3.51602290e-15]\n",
            " [9.92803798e-01 7.19620178e-03 5.87905999e-14]\n",
            " [9.98300036e-01 1.69996412e-03 1.31454115e-14]\n",
            " [9.95307919e-01 4.69208068e-03 1.73409941e-14]\n",
            " [9.96757349e-01 3.24265142e-03 4.11312999e-14]\n",
            " [9.92970239e-01 7.02976092e-03 2.77531861e-14]]\n"
          ],
          "name": "stdout"
        }
      ]
    },
    {
      "cell_type": "code",
      "metadata": {
        "id": "ZERCWbjAFSLM",
        "colab_type": "code",
        "colab": {}
      },
      "source": [
        ""
      ],
      "execution_count": 16,
      "outputs": []
    }
  ]
}
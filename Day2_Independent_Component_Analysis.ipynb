{
  "nbformat": 4,
  "nbformat_minor": 0,
  "metadata": {
    "colab": {
      "name": " Day2_Independent Component Analysis.ipynb",
      "version": "0.3.2",
      "provenance": [],
      "collapsed_sections": [],
      "include_colab_link": true
    },
    "kernelspec": {
      "name": "python3",
      "display_name": "Python 3"
    }
  },
  "cells": [
    {
      "cell_type": "markdown",
      "metadata": {
        "id": "view-in-github",
        "colab_type": "text"
      },
      "source": [
        "<a href=\"https://colab.research.google.com/github/cisirtraining/summerschool/blob/master/Day2_Independent_Component_Analysis.ipynb\" target=\"_parent\"><img src=\"https://colab.research.google.com/assets/colab-badge.svg\" alt=\"Open In Colab\"/></a>"
      ]
    },
    {
      "cell_type": "markdown",
      "metadata": {
        "id": "CPVnMRALyHLb",
        "colab_type": "text"
      },
      "source": [
        "## Independent Component Analysis\n",
        "\n",
        "First, let’s load the packages we’ll need. The main functionality we want is the FastICA method available from sklearn.decomposition. We’ll also load the skimage package, which we’ll use to read in a sample image, and pylab which will show the image to the screen"
      ]
    },
    {
      "cell_type": "code",
      "metadata": {
        "id": "5qWXMEF0wP3K",
        "colab_type": "code",
        "colab": {}
      },
      "source": [
        "# load packages\n",
        "from sklearn.decomposition import FastICA\n",
        "from pylab import *\n",
        "from skimage import data, io, color"
      ],
      "execution_count": 0,
      "outputs": []
    },
    {
      "cell_type": "markdown",
      "metadata": {
        "id": "NMqb4MF2yLXa",
        "colab_type": "text"
      },
      "source": [
        "Next, we read in the image. We will set the parameter, as_grey, equal to True. This will make every pixel in the image a value between 0 and 255, rather than a 3-dimensional RGB value."
      ]
    },
    {
      "cell_type": "code",
      "metadata": {
        "id": "RnubgGyZwV6R",
        "colab_type": "code",
        "colab": {
          "base_uri": "https://localhost:8080/",
          "height": 286
        },
        "outputId": "fd52e999-d812-4853-95f7-0db9df20dbfc"
      },
      "source": [
        "from sklearn.datasets import fetch_lfw_people\n",
        "faces = fetch_lfw_people(min_faces_per_person=60)\n",
        "\n",
        "import matplotlib.pyplot as plt\n",
        "plt.imshow(faces.images[2], cmap='gray')"
      ],
      "execution_count": 2,
      "outputs": [
        {
          "output_type": "execute_result",
          "data": {
            "text/plain": [
              "<matplotlib.image.AxesImage at 0x7f114b863ac8>"
            ]
          },
          "metadata": {
            "tags": []
          },
          "execution_count": 2
        },
        {
          "output_type": "display_data",
          "data": {
            "image/png": "[encoded data removed]",
            "text/plain": [
              "<Figure size 432x288 with 1 Axes>"
            ]
          },
          "metadata": {
            "tags": []
          }
        }
      ]
    },
    {
      "cell_type": "markdown",
      "metadata": {
        "id": "ABgbyVYKyP_1",
        "colab_type": "text"
      },
      "source": [
        "Now, we choose a number of components we want, and use that number to create a FastICA object. In the sample below, we’ll create a FastICA object with 10 components. This will allow us to run ICA on our image, resulting in 10 independent components."
      ]
    },
    {
      "cell_type": "code",
      "metadata": {
        "id": "j8XOUlQ8wZpw",
        "colab_type": "code",
        "colab": {}
      },
      "source": [
        "ica = FastICA(n_components = 5)"
      ],
      "execution_count": 0,
      "outputs": []
    },
    {
      "cell_type": "markdown",
      "metadata": {
        "id": "60RtmfICyXEc",
        "colab_type": "text"
      },
      "source": [
        "Then, we use our object, ica, to run the ICA algorithm on the image."
      ]
    },
    {
      "cell_type": "code",
      "metadata": {
        "id": "IwcOmPVWw0b6",
        "colab_type": "code",
        "colab": {
          "base_uri": "https://localhost:8080/",
          "height": 68
        },
        "outputId": "580b4855-3f90-4860-a8b3-6e1900b71733"
      },
      "source": [
        "# run ICA on image\n",
        "ica.fit(faces.images[2]) "
      ],
      "execution_count": 7,
      "outputs": [
        {
          "output_type": "execute_result",
          "data": {
            "text/plain": [
              "FastICA(algorithm='parallel', fun='logcosh', fun_args=None, max_iter=200,\n",
              "        n_components=5, random_state=None, tol=0.0001, w_init=None,\n",
              "        whiten=True)"
            ]
          },
          "metadata": {
            "tags": []
          },
          "execution_count": 7
        }
      ]
    },
    {
      "cell_type": "markdown",
      "metadata": {
        "id": "Y4PuzE1QycCc",
        "colab_type": "text"
      },
      "source": [
        "An important test when doing any type of dimensionality reduction to test how much information has been lost. In our example, we will reconstruct the image with the independent components — i.e. how does the image look if we only know the 10 independent components we’ve developed?"
      ]
    },
    {
      "cell_type": "code",
      "metadata": {
        "id": "nkjpZ7tMw2Lu",
        "colab_type": "code",
        "colab": {
          "base_uri": "https://localhost:8080/",
          "height": 351
        },
        "outputId": "2c3607b7-1119-41f6-dd51-44db37da8b83"
      },
      "source": [
        "# reconstruct image with independent components\n",
        "image_ica = ica.fit_transform(faces.images[2])\n",
        "restored = ica.inverse_transform(image_ica)\n",
        " \n",
        "# show image to screen\n",
        "io.imshow(restored, cmap='gray')\n",
        "show()"
      ],
      "execution_count": 8,
      "outputs": [
        {
          "output_type": "stream",
          "text": [
            "/usr/local/lib/python3.6/dist-packages/skimage/io/_plugins/matplotlib_plugin.py:78: UserWarning: Float image out of standard range; displaying image with stretched contrast.\n",
            "  warn(\"Float image out of standard range; displaying \"\n"
          ],
          "name": "stderr"
        },
        {
          "output_type": "display_data",
          "data": {
            "image/png": "[encoded data removed]",
            "text/plain": [
              "<Figure size 432x288 with 2 Axes>"
            ]
          },
          "metadata": {
            "tags": []
          }
        }
      ]
    },
    {
      "cell_type": "markdown",
      "metadata": {
        "id": "ExaOfGN2yfIE",
        "colab_type": "text"
      },
      "source": [
        "As you can see, using just 10 independent components still shows a very recognizable version of our original picture. What happens if we change the number of components?"
      ]
    },
    {
      "cell_type": "code",
      "metadata": {
        "id": "6kqauKhw0Uhy",
        "colab_type": "code",
        "colab": {}
      },
      "source": [
        ""
      ],
      "execution_count": 0,
      "outputs": []
    }
  ]
}
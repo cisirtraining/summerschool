{
  "nbformat": 4,
  "nbformat_minor": 0,
  "metadata": {
    "colab": {
      "name": "Day1_Intro_Numpy.ipynb",
      "provenance": [],
      "collapsed_sections": [],
      "mount_file_id": "11__ez_b1FTovoaO0yA5XVo8r8vfD1NaP",
      "authorship_tag": "ABX9TyMHSSieHdmxbmcEm0FU1zNc",
      "include_colab_link": true
    },
    "kernelspec": {
      "name": "python3",
      "display_name": "Python 3"
    },
    "accelerator": "TPU"
  },
  "cells": [
    {
      "cell_type": "markdown",
      "metadata": {
        "id": "view-in-github",
        "colab_type": "text"
      },
      "source": [
        "<a href=\"https://colab.research.google.com/github/cisirtraining/summerschool/blob/master/Day1_Intro_Numpy.ipynb\" target=\"_parent\"><img src=\"https://colab.research.google.com/assets/colab-badge.svg\" alt=\"Open In Colab\"/></a>"
      ]
    },
    {
      "cell_type": "markdown",
      "metadata": {
        "id": "JXRC-N99isBr",
        "colab_type": "text"
      },
      "source": [
        "##**Introduction to Numerical Computing with Numpy (20 minutes)**\n",
        "\n",
        "<figure>\n",
        "<center>\n",
        "<img src='https://drive.google.com/uc?export=view&id=1Bv6N-OnGfesnGW-CsigdA0KNeoE05xa9' />\n",
        "</center>\n",
        "</figure>\n",
        "\n",
        "\n",
        "[Source](https://numpy.org/)\n"
      ]
    },
    {
      "cell_type": "markdown",
      "metadata": {
        "id": "SdJa4gGe6fCf",
        "colab_type": "text"
      },
      "source": [
        "###**Mount Google Drive**\n",
        "\n"
      ]
    },
    {
      "cell_type": "code",
      "metadata": {
        "id": "a68GisnQ9Org",
        "colab_type": "code",
        "colab": {
          "base_uri": "https://localhost:8080/",
          "height": 34
        },
        "outputId": "75d0bf04-7b29-4295-f99f-a0ea822be70f"
      },
      "source": [
        "from google.colab import drive\n",
        "drive.mount('/content/drive')"
      ],
      "execution_count": null,
      "outputs": [
        {
          "output_type": "stream",
          "text": [
            "Drive already mounted at /content/drive; to attempt to forcibly remount, call drive.mount(\"/content/drive\", force_remount=True).\n"
          ],
          "name": "stdout"
        }
      ]
    },
    {
      "cell_type": "markdown",
      "metadata": {
        "id": "8JEWRlVbE4RU",
        "colab_type": "text"
      },
      "source": [
        "#### **Normal List/Array Operation Without Numpy**\n",
        "\n",
        "Python list does not supports direct calculation (addition, substraction, multiplication, division etc.)"
      ]
    },
    {
      "cell_type": "code",
      "metadata": {
        "id": "MN4ohRlnr78C",
        "colab_type": "code",
        "colab": {
          "base_uri": "https://localhost:8080/",
          "height": 69
        },
        "outputId": "16f9bf89-02b2-4ca7-97b5-9f04a6c1a74a"
      },
      "source": [
        "a = [1, 2, 3, 4, 5]\n",
        "b = [10, 11, 12, 13, 14]\n",
        "\n",
        "print(a + b)\n",
        "print('\\n{} is not equal to 11, 13, 15, 17, 19'.format(a+b)) \n"
      ],
      "execution_count": null,
      "outputs": [
        {
          "output_type": "stream",
          "text": [
            "[1, 2, 3, 4, 5, 10, 11, 12, 13, 14]\n",
            "\n",
            "[1, 2, 3, 4, 5, 10, 11, 12, 13, 14] is not equal to 11, 13, 15, 17, 19\n"
          ],
          "name": "stdout"
        }
      ]
    },
    {
      "cell_type": "code",
      "metadata": {
        "id": "fSXDnAnIr8R9",
        "colab_type": "code",
        "colab": {
          "base_uri": "https://localhost:8080/",
          "height": 34
        },
        "outputId": "0ef66967-fc3d-4591-bdce-4ef42c0cc087"
      },
      "source": [
        "# for loop approach\n",
        "\n",
        "result = []\n",
        "for x, y in zip(a,b):\n",
        "  result.append(x + y)\n",
        "\n",
        "print(result)\n"
      ],
      "execution_count": null,
      "outputs": [
        {
          "output_type": "stream",
          "text": [
            "[11, 13, 15, 17, 19]\n"
          ],
          "name": "stdout"
        }
      ]
    },
    {
      "cell_type": "code",
      "metadata": {
        "id": "uicC2F1SxdAp",
        "colab_type": "code",
        "colab": {
          "base_uri": "https://localhost:8080/",
          "height": 34
        },
        "outputId": "985ff579-efaf-4613-fc14-b66bcd4c708f"
      },
      "source": [
        "# list comprehension approach\n",
        "result = [x+y for (x,y) in zip(a,b)]\n",
        "\n",
        "print(result)"
      ],
      "execution_count": null,
      "outputs": [
        {
          "output_type": "stream",
          "text": [
            "[11, 13, 15, 17, 19]\n"
          ],
          "name": "stdout"
        }
      ]
    },
    {
      "cell_type": "markdown",
      "metadata": {
        "id": "PMMDsuUyFmYj",
        "colab_type": "text"
      },
      "source": [
        "#### **Numpy Style**"
      ]
    },
    {
      "cell_type": "code",
      "metadata": {
        "id": "bei_p5qAr8Yb",
        "colab_type": "code",
        "colab": {
          "base_uri": "https://localhost:8080/",
          "height": 69
        },
        "outputId": "855607fd-3b2a-4fa6-bc5d-70ec89e45afe"
      },
      "source": [
        "import numpy as np\n",
        "print('numpy version:',np.__version__)\n",
        "\n",
        "a = np.array([1,2,3,4,5])\n",
        "print('a:',a)\n",
        "print('type of a:',type(a))"
      ],
      "execution_count": null,
      "outputs": [
        {
          "output_type": "stream",
          "text": [
            "numpy version: 1.18.5\n",
            "a: [1 2 3 4 5]\n",
            "type of a: <class 'numpy.ndarray'>\n"
          ],
          "name": "stdout"
        }
      ]
    },
    {
      "cell_type": "code",
      "metadata": {
        "id": "oYocW2Wjr8cF",
        "colab_type": "code",
        "colab": {
          "base_uri": "https://localhost:8080/",
          "height": 34
        },
        "outputId": "741efc8b-0db9-4da8-dcf2-bff90e69f2a8"
      },
      "source": [
        "a.dtype"
      ],
      "execution_count": null,
      "outputs": [
        {
          "output_type": "execute_result",
          "data": {
            "text/plain": [
              "dtype('int64')"
            ]
          },
          "metadata": {
            "tags": []
          },
          "execution_count": 6
        }
      ]
    },
    {
      "cell_type": "code",
      "metadata": {
        "id": "P2PuyTPXmhIx",
        "colab_type": "code",
        "colab": {
          "base_uri": "https://localhost:8080/",
          "height": 34
        },
        "outputId": "0b8e1c39-8522-4c8a-eeaa-d86b721964a6"
      },
      "source": [
        "f = np.array([1.2,2.3,4.5,5.6, 7.2])\n",
        "f.dtype"
      ],
      "execution_count": null,
      "outputs": [
        {
          "output_type": "execute_result",
          "data": {
            "text/plain": [
              "dtype('float64')"
            ]
          },
          "metadata": {
            "tags": []
          },
          "execution_count": 7
        }
      ]
    },
    {
      "cell_type": "code",
      "metadata": {
        "id": "faAhuNTqmhLe",
        "colab_type": "code",
        "colab": {
          "base_uri": "https://localhost:8080/",
          "height": 69
        },
        "outputId": "79f1a0a2-17fb-4024-e596-2a6dff83a1b4"
      },
      "source": [
        "print('a = ',a)\n",
        "a[0] = 10\n",
        "print('a = ',a)\n",
        "a[2] = 13.6\n",
        "print('a =', a)"
      ],
      "execution_count": null,
      "outputs": [
        {
          "output_type": "stream",
          "text": [
            "a =  [1 2 3 4 5]\n",
            "a =  [10  2  3  4  5]\n",
            "a = [10  2 13  4  5]\n"
          ],
          "name": "stdout"
        }
      ]
    },
    {
      "cell_type": "code",
      "metadata": {
        "id": "ffAMK57smhVn",
        "colab_type": "code",
        "colab": {
          "base_uri": "https://localhost:8080/",
          "height": 34
        },
        "outputId": "06b8f8ba-27f1-463f-c6d6-2790d49dce26"
      },
      "source": [
        "# return tuple of elements along each dimension @ equivalent to size (MATLAB)\n",
        "a.shape"
      ],
      "execution_count": null,
      "outputs": [
        {
          "output_type": "execute_result",
          "data": {
            "text/plain": [
              "(5,)"
            ]
          },
          "metadata": {
            "tags": []
          },
          "execution_count": 9
        }
      ]
    },
    {
      "cell_type": "code",
      "metadata": {
        "id": "Eq5MO41-mhTM",
        "colab_type": "code",
        "colab": {
          "base_uri": "https://localhost:8080/",
          "height": 121
        },
        "outputId": "1318e746-7419-4309-f4ba-ed9c07dda3de"
      },
      "source": [
        "add = a + f\n",
        "multip = a * f\n",
        "divis = a / f\n",
        "pwr = f**a\n",
        "\n",
        "print('a:', a)\n",
        "print('f:',f)\n",
        "print('multiply:', multip)\n",
        "print ('division:',divis)\n",
        "print ('power:',pwr)"
      ],
      "execution_count": null,
      "outputs": [
        {
          "output_type": "stream",
          "text": [
            "a: [10  2 13  4  5]\n",
            "f: [1.2 2.3 4.5 5.6 7.2]\n",
            "multiply: [12.   4.6 58.5 22.4 36. ]\n",
            "division: [8.33333333 0.86956522 2.88888889 0.71428571 0.69444444]\n",
            "power: [6.19173642e+00 5.29000000e+00 3.10286356e+08 9.83449600e+02\n",
            " 1.93491763e+04]\n"
          ],
          "name": "stdout"
        }
      ]
    },
    {
      "cell_type": "markdown",
      "metadata": {
        "id": "GeLcVEyAEbno",
        "colab_type": "text"
      },
      "source": [
        "### **Universal Functions (ufuncs)**\n",
        "[More Info](https://numpy.org/doc/stable/reference/ufuncs.html)"
      ]
    },
    {
      "cell_type": "code",
      "metadata": {
        "id": "ZzfWEcCdpO-Y",
        "colab_type": "code",
        "colab": {
          "base_uri": "https://localhost:8080/",
          "height": 156
        },
        "outputId": "cdc8ebde-c494-4bb3-8ae5-76d309953b62"
      },
      "source": [
        "# Universal function (ufuncs) \n",
        "print('a =',a)\n",
        "print('f =',f)\n",
        "print('sin(f) =', np.sin(f))\n",
        "print('cos(f) =',np.cos(f))\n",
        "print('a + f =',np.add(a,f))\n",
        "print('a % f =',np.mod(a,f))\n",
        "print('a == f =',np.equal(a,f))\n",
        "print('f > a =',np.greater(f,a))"
      ],
      "execution_count": null,
      "outputs": [
        {
          "output_type": "stream",
          "text": [
            "a = [10  2 13  4  5]\n",
            "f = [1.2 2.3 4.5 5.6 7.2]\n",
            "sin(f) = [ 0.93203909  0.74570521 -0.97753012 -0.63126664  0.79366786]\n",
            "cos(f) = [ 0.36235775 -0.66627602 -0.2107958   0.77556588  0.60835131]\n",
            "a + f = [11.2  4.3 17.5  9.6 12.2]\n",
            "a % f = [0.4 2.  4.  4.  5. ]\n",
            "a == f = [False False False False False]\n",
            "f > a = [False  True False  True  True]\n"
          ],
          "name": "stdout"
        }
      ]
    },
    {
      "cell_type": "markdown",
      "metadata": {
        "id": "ehdSrlcjEg7u",
        "colab_type": "text"
      },
      "source": [
        "### **Multi-Dimensional Array (Indexing @ Slicing)**"
      ]
    },
    {
      "cell_type": "code",
      "metadata": {
        "id": "X_5Tk3ZTpPD5",
        "colab_type": "code",
        "colab": {
          "base_uri": "https://localhost:8080/",
          "height": 104
        },
        "outputId": "74dff873-38fe-4fe6-92a2-7ca64999ffc8"
      },
      "source": [
        "# Multi-Dimensional Array\n",
        "\n",
        "b = np.array([[0, 1, 3, 5, 7], [10, 11, 12, 13, 14], [20, 22, 24, 25, 27]])\n",
        "print(b)\n",
        "print('shape:',b.shape)\n",
        "print('size:',b.size)"
      ],
      "execution_count": null,
      "outputs": [
        {
          "output_type": "stream",
          "text": [
            "[[ 0  1  3  5  7]\n",
            " [10 11 12 13 14]\n",
            " [20 22 24 25 27]]\n",
            "shape: (3, 5)\n",
            "size: 15\n"
          ],
          "name": "stdout"
        }
      ]
    },
    {
      "cell_type": "code",
      "metadata": {
        "id": "RGkX_yTopPJU",
        "colab_type": "code",
        "colab": {
          "base_uri": "https://localhost:8080/",
          "height": 139
        },
        "outputId": "dd9cf090-36cb-45cd-cc2d-50328ab3a9b4"
      },
      "source": [
        "# var[lower:upper:step] @ [lower:upper:step)\n",
        "\n",
        "a = np.array([1,5,7,9,12])\n",
        "print('a = ',a)\n",
        "print('\\na[1:3] =',a[1:3])\n",
        "print('a[:3] =',a[:3])\n",
        "print('a[-2:] =',a[-2:])\n",
        "\n",
        "# select every other element\n",
        "print('a[::2] = ',a[::2])\n",
        "\n",
        "# negative indexing\n",
        "print('a[1:-2] =',a[1:-2])"
      ],
      "execution_count": null,
      "outputs": [
        {
          "output_type": "stream",
          "text": [
            "a =  [ 1  5  7  9 12]\n",
            "\n",
            "a[1:3] = [5 7]\n",
            "a[:3] = [1 5 7]\n",
            "a[-2:] = [ 9 12]\n",
            "a[::2] =  [ 1  7 12]\n",
            "a[1:-2] = [5 7]\n"
          ],
          "name": "stdout"
        }
      ]
    },
    {
      "cell_type": "markdown",
      "metadata": {
        "id": "XUxZGmrZI7iv",
        "colab_type": "text"
      },
      "source": [
        "<figure>\n",
        "<center>\n",
        "<img src='https://drive.google.com/uc?export=view&id=1iHlMBNgSAeaojqx-fsd7blK2qV0DcoxT' />\n",
        "</center>\n",
        "</figure>\n",
        "\n"
      ]
    },
    {
      "cell_type": "code",
      "metadata": {
        "id": "T-Bw1PkmpPOl",
        "colab_type": "code",
        "colab": {
          "base_uri": "https://localhost:8080/",
          "height": 173
        },
        "outputId": "3211964f-912f-46bd-8824-a8d618067e18"
      },
      "source": [
        "b = np.array([[0, 1, 3, 5, 7], [10, 11, 12, 13, 14], [20, 22, 24, 25, 27]])\n",
        "\n",
        "print('b =',b)\n",
        "print('\\nb[0,:-2] =',b[0,:-2])\n",
        "print('b[:,2] =',b[:,2])\n",
        "print('b[2:,2:] = ',b[2:,2:])\n",
        "print('b[::2,::2] = ',b[::2,::2])\n"
      ],
      "execution_count": null,
      "outputs": [
        {
          "output_type": "stream",
          "text": [
            "b = [[ 0  1  3  5  7]\n",
            " [10 11 12 13 14]\n",
            " [20 22 24 25 27]]\n",
            "\n",
            "b[0,:-2] = [0 1 3]\n",
            "b[:,2] = [ 3 12 24]\n",
            "b[2:,2:] =  [[24 25 27]]\n",
            "b[::2,::2] =  [[ 0  3  7]\n",
            " [20 24 27]]\n"
          ],
          "name": "stdout"
        }
      ]
    },
    {
      "cell_type": "markdown",
      "metadata": {
        "id": "O_WOY1TkBWF6",
        "colab_type": "text"
      },
      "source": [
        "### **Practice Questions**\n",
        "\n",
        " <figure>\n",
        "<center>\n",
        "<img src='https://drive.google.com/uc?export=view&id=1ez66CZ6nYUIbPE7GZ7a9HclgjaDTl2P_' />\n",
        "</center>\n",
        "</figure>\n",
        "\n",
        "\n",
        "\n",
        "1.   Select the red colored numbers\n",
        "2.   Select the yellow colored numbers\n",
        "3.   Select the blue colored numbers\n",
        "\n",
        "\n"
      ]
    },
    {
      "cell_type": "code",
      "metadata": {
        "id": "64ojKojp1feQ",
        "colab_type": "code",
        "colab": {
          "base_uri": "https://localhost:8080/",
          "height": 104
        },
        "outputId": "3c3dd26e-1c9d-4c85-bf85-6b47d9c4f47b"
      },
      "source": [
        "c = np.arange(25).reshape(5,5)\n",
        "c"
      ],
      "execution_count": null,
      "outputs": [
        {
          "output_type": "execute_result",
          "data": {
            "text/plain": [
              "array([[ 0,  1,  2,  3,  4],\n",
              "       [ 5,  6,  7,  8,  9],\n",
              "       [10, 11, 12, 13, 14],\n",
              "       [15, 16, 17, 18, 19],\n",
              "       [20, 21, 22, 23, 24]])"
            ]
          },
          "metadata": {
            "tags": []
          },
          "execution_count": 15
        }
      ]
    },
    {
      "cell_type": "code",
      "metadata": {
        "id": "T8Hk1BxBpPGm",
        "colab_type": "code",
        "colab": {}
      },
      "source": [
        "# solution for red color selections\n"
      ],
      "execution_count": null,
      "outputs": []
    },
    {
      "cell_type": "code",
      "metadata": {
        "id": "fnOLXkenpPBf",
        "colab_type": "code",
        "colab": {}
      },
      "source": [
        "# solution for yellow selections\n"
      ],
      "execution_count": null,
      "outputs": []
    },
    {
      "cell_type": "code",
      "metadata": {
        "id": "sZfs_Dbn4xak",
        "colab_type": "code",
        "colab": {}
      },
      "source": [
        "# solution for blue selections\n"
      ],
      "execution_count": null,
      "outputs": []
    },
    {
      "cell_type": "markdown",
      "metadata": {
        "id": "jKJ3DRHdNMAu",
        "colab_type": "text"
      },
      "source": [
        "#### **Memory Buffer in Numpy**"
      ]
    },
    {
      "cell_type": "code",
      "metadata": {
        "id": "gGAG_cZw4xdX",
        "colab_type": "code",
        "colab": {
          "base_uri": "https://localhost:8080/",
          "height": 52
        },
        "outputId": "4f313a80-e835-46f7-91eb-bac376817689"
      },
      "source": [
        "a = np.array([1,2,3,4,5])\n",
        "b = a[:2]    # new array object but not new number (memory buffer shared!)\n",
        "print('a:',a)\n",
        "print('b:',b)\n"
      ],
      "execution_count": null,
      "outputs": [
        {
          "output_type": "stream",
          "text": [
            "a: [1 2 3 4 5]\n",
            "b: [1 2]\n"
          ],
          "name": "stdout"
        }
      ]
    },
    {
      "cell_type": "code",
      "metadata": {
        "id": "5YzW64RRNP9V",
        "colab_type": "code",
        "colab": {
          "base_uri": "https://localhost:8080/",
          "height": 69
        },
        "outputId": "024809db-a014-472f-80c4-2adc1398241d"
      },
      "source": [
        "b[0] = -5\n",
        "print('b:',b)\n",
        "\n",
        "# check what happen to a?\n",
        "print('a:',a)\n",
        "print('what kind of sorcery is this? omg!')"
      ],
      "execution_count": null,
      "outputs": [
        {
          "output_type": "stream",
          "text": [
            "b: [-5  2]\n",
            "a: [-5  2  3  4  5]\n",
            "what kind of sorcery is this? omg!\n"
          ],
          "name": "stdout"
        }
      ]
    },
    {
      "cell_type": "code",
      "metadata": {
        "id": "Nii_ssdY4xgj",
        "colab_type": "code",
        "colab": {
          "base_uri": "https://localhost:8080/",
          "height": 52
        },
        "outputId": "123b7390-8ec7-456e-a0ad-8c31ca9f6ba9"
      },
      "source": [
        "# Solution\n",
        "a = np.array([1,2,3,4,5])\n",
        "b = a.copy()\n",
        "b[0] = -5\n",
        "\n",
        "print('b:',b)\n",
        "print('a:',a)\n"
      ],
      "execution_count": null,
      "outputs": [
        {
          "output_type": "stream",
          "text": [
            "b: [-5  2  3  4  5]\n",
            "a: [1 2 3 4 5]\n"
          ],
          "name": "stdout"
        }
      ]
    },
    {
      "cell_type": "markdown",
      "metadata": {
        "id": "SA9_A05URfBR",
        "colab_type": "text"
      },
      "source": [
        "#### **Fancy Indexing**"
      ]
    },
    {
      "cell_type": "code",
      "metadata": {
        "id": "AsNrOuJd4xjK",
        "colab_type": "code",
        "colab": {
          "base_uri": "https://localhost:8080/",
          "height": 52
        },
        "outputId": "b31bee5d-47b0-4224-d331-06b32cbf7439"
      },
      "source": [
        "# indexing with POSITION @ (COORDINATE)\n",
        "\n",
        "a = np.arange(0,50,5)\n",
        "\n",
        "idx = [1,2,-3]\n",
        "y = a[idx]\n",
        "print('a:',a)\n",
        "print('y:',y)"
      ],
      "execution_count": null,
      "outputs": [
        {
          "output_type": "stream",
          "text": [
            "a: [ 0  5 10 15 20 25 30 35 40 45]\n",
            "y: [ 5 10 35]\n"
          ],
          "name": "stdout"
        }
      ]
    },
    {
      "cell_type": "code",
      "metadata": {
        "id": "2Fd_dPL3SZly",
        "colab_type": "code",
        "colab": {
          "base_uri": "https://localhost:8080/",
          "height": 52
        },
        "outputId": "8c5a7b56-8568-4f85-e1b9-b7f3c378e212"
      },
      "source": [
        "# indexing with BOOLEANS\n",
        "mask = np.array([0,1,1,0,0,1,1,1,0,0], dtype= bool)\n",
        "\n",
        "y = a[mask]\n",
        "print('a:',a)\n",
        "print('y:',y)"
      ],
      "execution_count": null,
      "outputs": [
        {
          "output_type": "stream",
          "text": [
            "a: [ 0  5 10 15 20 25 30 35 40 45]\n",
            "y: [ 5 10 25 30 35]\n"
          ],
          "name": "stdout"
        }
      ]
    },
    {
      "cell_type": "markdown",
      "metadata": {
        "id": "Gl_K5OurWa8U",
        "colab_type": "text"
      },
      "source": [
        "\n",
        "<figure>\n",
        "<center>\n",
        "<img src='https://drive.google.com/uc?export=view&id=19qG0v2qCYw7NwB7ihqKvHjSh9JORQTnT' />\n",
        "</center>\n",
        "</figure>\n",
        "\n",
        "\n",
        "\n"
      ]
    },
    {
      "cell_type": "code",
      "metadata": {
        "id": "M0CRJ6LWVwCQ",
        "colab_type": "code",
        "colab": {
          "base_uri": "https://localhost:8080/",
          "height": 121
        },
        "outputId": "3812f7f9-87e5-46dd-f50a-c24eb376c328"
      },
      "source": [
        "d = np.array([[0,1,2,3,4,5],[10,11,12,13,14,15],[20,21,22,23,24,25],[30,31,32,33,34,35],[40,41,42,43,44,45],[50,51,52,53,54,55]])\n",
        "d"
      ],
      "execution_count": null,
      "outputs": [
        {
          "output_type": "execute_result",
          "data": {
            "text/plain": [
              "array([[ 0,  1,  2,  3,  4,  5],\n",
              "       [10, 11, 12, 13, 14, 15],\n",
              "       [20, 21, 22, 23, 24, 25],\n",
              "       [30, 31, 32, 33, 34, 35],\n",
              "       [40, 41, 42, 43, 44, 45],\n",
              "       [50, 51, 52, 53, 54, 55]])"
            ]
          },
          "metadata": {
            "tags": []
          },
          "execution_count": 24
        }
      ]
    },
    {
      "cell_type": "code",
      "metadata": {
        "id": "CcNbtLQ2VwHS",
        "colab_type": "code",
        "colab": {
          "base_uri": "https://localhost:8080/",
          "height": 104
        },
        "outputId": "514179ff-b27e-4bbc-a83c-dd6695351b40"
      },
      "source": [
        "# orange colored selection\n",
        "print('orange:',d[[0,1,2,3,4],[1,2,3,4,5]])\n",
        "\n",
        "# blue colored selection - slices not possible due to different step size (2 to 3)\n",
        "print('blue:', d[3:,[0,2,5]])\n",
        "\n",
        "# red colored selection\n",
        "idx = np.array([1,0,1,0,0,1], dtype=bool)\n",
        "print('red:', d[idx,2])"
      ],
      "execution_count": null,
      "outputs": [
        {
          "output_type": "stream",
          "text": [
            "orange: [ 1 12 23 34 45]\n",
            "blue: [[30 32 35]\n",
            " [40 42 45]\n",
            " [50 52 55]]\n",
            "red: [ 2 22 52]\n"
          ],
          "name": "stdout"
        }
      ]
    },
    {
      "cell_type": "markdown",
      "metadata": {
        "id": "szo9eYDuaief",
        "colab_type": "text"
      },
      "source": [
        "### **Practice Question**\n",
        "\n",
        "\n",
        "1.   Extract all numbers divisible by 3 using boolean mask (hint: use modulo (%))\n",
        "\n"
      ]
    },
    {
      "cell_type": "code",
      "metadata": {
        "id": "WUYYieGwVwKu",
        "colab_type": "code",
        "colab": {
          "base_uri": "https://localhost:8080/",
          "height": 104
        },
        "outputId": "d7fb0eca-97ee-4e44-f7f8-0eda973bcbdd"
      },
      "source": [
        "v = np.arange(25).reshape(5,5)\n",
        "v"
      ],
      "execution_count": null,
      "outputs": [
        {
          "output_type": "execute_result",
          "data": {
            "text/plain": [
              "array([[ 0,  1,  2,  3,  4],\n",
              "       [ 5,  6,  7,  8,  9],\n",
              "       [10, 11, 12, 13, 14],\n",
              "       [15, 16, 17, 18, 19],\n",
              "       [20, 21, 22, 23, 24]])"
            ]
          },
          "metadata": {
            "tags": []
          },
          "execution_count": 26
        }
      ]
    },
    {
      "cell_type": "code",
      "metadata": {
        "id": "tyUIRppabaS7",
        "colab_type": "code",
        "colab": {}
      },
      "source": [
        "# solution"
      ],
      "execution_count": null,
      "outputs": []
    },
    {
      "cell_type": "markdown",
      "metadata": {
        "id": "4sQtxS5HgYKW",
        "colab_type": "text"
      },
      "source": [
        "### **Visualizing ND-Arrays**\n",
        "\n",
        "<figure>\n",
        "<center>\n",
        "<img src='https://drive.google.com/uc?export=view&id=1JewIXqZXrx4FPc7UJenBdiVxHTYbRVkL' width=\"450\" height=\"350\" />\n",
        "</center>\n",
        "</figure>\n",
        "\n",
        "\n",
        "\n"
      ]
    },
    {
      "cell_type": "markdown",
      "metadata": {
        "id": "-jdr2D43hHmG",
        "colab_type": "text"
      },
      "source": [
        "### **Computations with Arrays:**\n",
        "\n",
        "1.   Operation between mutiple array objects are first checked for proper shape match\n",
        "2.   Mathematic operators (+ - * /,exp,log...) apply element by element, on the values\n",
        "3.   Reduction operation (mean, stdm sum, prod, skew) apply to the whole array, unless an axis is specified\n",
        "4.   Missing values propagate unless explicitly ignored (nanmean, nansum, etc.)\n",
        "\n"
      ]
    },
    {
      "cell_type": "markdown",
      "metadata": {
        "id": "dwCaWuESniEt",
        "colab_type": "text"
      },
      "source": [
        "### **Array Broadcasting**\n",
        "\n",
        "<figure>\n",
        "<center>\n",
        "<img src='https://drive.google.com/uc?export=view&id=1XXrB6VQIbqjuLPofaR03NhjOOOBtJ7U7' width=\"550\" height=\"350\" />\n",
        "</center>\n",
        "</figure>\n",
        "\n",
        "<figure>\n",
        "<center>\n",
        "<img src='https://drive.google.com/uc?export=view&id=1xAn52qy4CwB2R75ybFzXwA8VXrDTgafq' width=\"250\" height=\"350\" />\n",
        "</center>\n",
        "</figure>\n"
      ]
    },
    {
      "cell_type": "code",
      "metadata": {
        "id": "it90vK-0bacC",
        "colab_type": "code",
        "colab": {
          "base_uri": "https://localhost:8080/",
          "height": 156
        },
        "outputId": "94e11f25-b1c7-4ba6-a552-750c8b352209"
      },
      "source": [
        "# Sum method\n",
        "\n",
        "p = np.array([[1,2,3],[4,5,6]])\n",
        "\n",
        "print('p:',p)\n",
        "print('\\nshape of p:', p.shape)\n",
        "# .sum() default to adding up all values in an array, return single value\n",
        "print('\\nsum of p:',p.sum())\n",
        "\n",
        "# supply keyword axis to sum along intended axis\n",
        "# axis that we specified is the one that go away\n",
        "\n",
        "print('sum of p (column-wise)', p.sum(axis=0))\n",
        "print('sum of p (row-wise)', p.sum(axis=1))"
      ],
      "execution_count": null,
      "outputs": [
        {
          "output_type": "stream",
          "text": [
            "p: [[1 2 3]\n",
            " [4 5 6]]\n",
            "\n",
            "shape of p: (2, 3)\n",
            "\n",
            "sum of p: 21\n",
            "sum of p (column-wise) [5 7 9]\n",
            "sum of p (row-wise) [ 6 15]\n"
          ],
          "name": "stdout"
        }
      ]
    },
    {
      "cell_type": "code",
      "metadata": {
        "id": "g8X9Nhu_bafT",
        "colab_type": "code",
        "colab": {
          "base_uri": "https://localhost:8080/",
          "height": 104
        },
        "outputId": "4f410ccb-8af7-4d6c-f452-8db7b6eb8778"
      },
      "source": [
        " # argmax/argmin - return location index\n",
        "\n",
        " r = np.array([4,7,2,12,35,67,101,54,23])\n",
        " \n",
        " print('r:',r)\n",
        " print('max:',r.max())\n",
        " print('location max:',r.argmax())\n",
        " print('min:',r.min())\n",
        " print('location min:',r.argmin())"
      ],
      "execution_count": null,
      "outputs": [
        {
          "output_type": "stream",
          "text": [
            "r: [  4   7   2  12  35  67 101  54  23]\n",
            "max: 101\n",
            "location max: 6\n",
            "min: 2\n",
            "location min: 2\n"
          ],
          "name": "stdout"
        }
      ]
    },
    {
      "cell_type": "code",
      "metadata": {
        "id": "yn5IdDNKgKwI",
        "colab_type": "code",
        "colab": {
          "base_uri": "https://localhost:8080/",
          "height": 104
        },
        "outputId": "2c63790b-9981-4eea-86b9-0c7865a0ed2e"
      },
      "source": [
        "# argmax and argmin only return the first index encountered\n",
        "\n",
        "q = np.array([4,7,2,12,35,67,101,101,2,23])\n",
        "\n",
        "print('q:',q)\n",
        "print('max:',q.max())\n",
        "print('location max:',q.argmax())\n",
        "print('min:',q.min())\n",
        "print('location min:',q.argmin())"
      ],
      "execution_count": null,
      "outputs": [
        {
          "output_type": "stream",
          "text": [
            "q: [  4   7   2  12  35  67 101 101   2  23]\n",
            "max: 101\n",
            "location max: 6\n",
            "min: 2\n",
            "location min: 2\n"
          ],
          "name": "stdout"
        }
      ]
    },
    {
      "cell_type": "code",
      "metadata": {
        "id": "l72ocPZ1gK2E",
        "colab_type": "code",
        "colab": {
          "base_uri": "https://localhost:8080/",
          "height": 52
        },
        "outputId": "02939540-7901-454f-a9b4-52d7a451cec4"
      },
      "source": [
        "# solution\n",
        "print('location max:', np.where(q == q.max()))\n",
        "print('location min:', np.where(q == q.max()))"
      ],
      "execution_count": null,
      "outputs": [
        {
          "output_type": "stream",
          "text": [
            "location max: (array([6, 7]),)\n",
            "location min: (array([6, 7]),)\n"
          ],
          "name": "stdout"
        }
      ]
    },
    {
      "cell_type": "code",
      "metadata": {
        "id": "Dn0DGhch0nlG",
        "colab_type": "code",
        "colab": {
          "base_uri": "https://localhost:8080/",
          "height": 104
        },
        "outputId": "1918a2d2-f982-4f5d-b76b-3da955079a9d"
      },
      "source": [
        "# create random values of half-open interval [0.0,1.0)\n",
        "\n",
        "print('1D:',np.random.random(5))\n",
        "print('\\n2D:',np.random.random((3,3)))"
      ],
      "execution_count": null,
      "outputs": [
        {
          "output_type": "stream",
          "text": [
            "1D: [0.74573014 0.15171706 0.77250465 0.76131285 0.21534495]\n",
            "\n",
            "2D: [[0.47120351 0.47534834 0.61967507]\n",
            " [0.77187613 0.54519967 0.97132757]\n",
            " [0.49056011 0.73927013 0.1132405 ]]\n"
          ],
          "name": "stdout"
        }
      ]
    },
    {
      "cell_type": "code",
      "metadata": {
        "id": "bMNG8C620nuv",
        "colab_type": "code",
        "colab": {
          "base_uri": "https://localhost:8080/",
          "height": 139
        },
        "outputId": "0321fd66-7542-4a33-acfb-f96eb47368e0"
      },
      "source": [
        "# create random interger values np.random.randint(min, max, size)\n",
        "\n",
        "print('2D:', np.random.randint(0,40,(5,5)))\n",
        "print('\\n1D:', np.random.randint(-100, 80, 10).astype(\"float\"))"
      ],
      "execution_count": null,
      "outputs": [
        {
          "output_type": "stream",
          "text": [
            "2D: [[ 9  4  8 19 21]\n",
            " [ 2 20 15  1 11]\n",
            " [ 2 25 17 31  6]\n",
            " [19 29 11 20 23]\n",
            " [ 2 29 12  8 23]]\n",
            "\n",
            "1D: [-52. -61.  63. -17. -76. -12. -31. -41. -66. -88.]\n"
          ],
          "name": "stdout"
        }
      ]
    },
    {
      "cell_type": "code",
      "metadata": {
        "id": "Wgu_xFfS0nx2",
        "colab_type": "code",
        "colab": {
          "base_uri": "https://localhost:8080/",
          "height": 347
        },
        "outputId": "6b3b2e87-510e-45e6-dcfd-f33c42bc4c8d"
      },
      "source": [
        "w = np.random.randint(0,40,(5,5)).astype('float')\n",
        "\n",
        "print('w:',w)\n",
        "print('\\n',np.where(w > 25))\n",
        "\n",
        "# np.where(condition,x, y) if condition satisfied return x else return y:\n",
        "\n",
        "print('\\n',np.where(w > 25, 1, 10*w))\n",
        "\n",
        "print('\\n',np.where(w < 25, -1, w))"
      ],
      "execution_count": null,
      "outputs": [
        {
          "output_type": "stream",
          "text": [
            "w: [[10. 25. 16. 32. 23.]\n",
            " [ 3. 29. 16.  4. 31.]\n",
            " [23. 23. 19. 29. 13.]\n",
            " [15. 32. 30. 18. 31.]\n",
            " [10. 15.  9. 27. 16.]]\n",
            "\n",
            " (array([0, 1, 1, 2, 3, 3, 3, 4]), array([3, 1, 4, 3, 1, 2, 4, 3]))\n",
            "\n",
            " [[100. 250. 160.   1. 230.]\n",
            " [ 30.   1. 160.  40.   1.]\n",
            " [230. 230. 190.   1. 130.]\n",
            " [150.   1.   1. 180.   1.]\n",
            " [100. 150.  90.   1. 160.]]\n",
            "\n",
            " [[-1. 25. -1. 32. -1.]\n",
            " [-1. 29. -1. -1. 31.]\n",
            " [-1. -1. -1. 29. -1.]\n",
            " [-1. 32. 30. -1. 31.]\n",
            " [-1. -1. -1. 27. -1.]]\n"
          ],
          "name": "stdout"
        }
      ]
    },
    {
      "cell_type": "code",
      "metadata": {
        "id": "NgqdXBqA0n0W",
        "colab_type": "code",
        "colab": {
          "base_uri": "https://localhost:8080/",
          "height": 104
        },
        "outputId": "a3029645-1c72-4de7-8289-cb4bd3467272"
      },
      "source": [
        "s = np.random.randint(0,20,(5,6)).astype('float')\n",
        "s"
      ],
      "execution_count": null,
      "outputs": [
        {
          "output_type": "execute_result",
          "data": {
            "text/plain": [
              "array([[19.,  4., 14., 12., 15.,  7.],\n",
              "       [19., 17.,  3.,  2.,  4., 19.],\n",
              "       [ 9.,  6., 18., 17., 17., 14.],\n",
              "       [ 4., 18., 12.,  0., 17.,  3.],\n",
              "       [ 1., 19., 10., 15.,  1.,  4.]])"
            ]
          },
          "metadata": {
            "tags": []
          },
          "execution_count": 35
        }
      ]
    },
    {
      "cell_type": "code",
      "metadata": {
        "id": "75yQq_jP_fQO",
        "colab_type": "code",
        "colab": {
          "base_uri": "https://localhost:8080/",
          "height": 208
        },
        "outputId": "75c4601e-caac-4532-959d-8442ac586fef"
      },
      "source": [
        "# reshape s from 5x6 to 2x5x3\n",
        "print(s.reshape(2,5,3))"
      ],
      "execution_count": null,
      "outputs": [
        {
          "output_type": "stream",
          "text": [
            "[[[19.  4. 14.]\n",
            "  [12. 15.  7.]\n",
            "  [19. 17.  3.]\n",
            "  [ 2.  4. 19.]\n",
            "  [ 9.  6. 18.]]\n",
            "\n",
            " [[17. 17. 14.]\n",
            "  [ 4. 18. 12.]\n",
            "  [ 0. 17.  3.]\n",
            "  [ 1. 19. 10.]\n",
            "  [15.  1.  4.]]]\n"
          ],
          "name": "stdout"
        }
      ]
    },
    {
      "cell_type": "code",
      "metadata": {
        "id": "5gUvMmlo0n3V",
        "colab_type": "code",
        "colab": {
          "base_uri": "https://localhost:8080/",
          "height": 590
        },
        "outputId": "28dbb693-484f-4162-fda3-893e71b094e9"
      },
      "source": [
        "# create zeros matrix\n",
        "print('zeros:\\n',np.zeros((3,5)))\n",
        "\n",
        "# create ones matrix\n",
        "print('\\nones:\\n',np.ones((7,5)))\n",
        "\n",
        "# create full matrix\n",
        "print('\\nfull:\\n', np.full((4,5),-999))\n",
        "\n",
        "# create identity matrix\n",
        "print('\\nidentity:\\n',np.eye(5))\n",
        "\n",
        "print('\\nidentity shitfted:\\n',np.eye(5,4,k=1))"
      ],
      "execution_count": null,
      "outputs": [
        {
          "output_type": "stream",
          "text": [
            "zeros:\n",
            " [[0. 0. 0. 0. 0.]\n",
            " [0. 0. 0. 0. 0.]\n",
            " [0. 0. 0. 0. 0.]]\n",
            "\n",
            "ones:\n",
            " [[1. 1. 1. 1. 1.]\n",
            " [1. 1. 1. 1. 1.]\n",
            " [1. 1. 1. 1. 1.]\n",
            " [1. 1. 1. 1. 1.]\n",
            " [1. 1. 1. 1. 1.]\n",
            " [1. 1. 1. 1. 1.]\n",
            " [1. 1. 1. 1. 1.]]\n",
            "\n",
            "full:\n",
            " [[-999 -999 -999 -999 -999]\n",
            " [-999 -999 -999 -999 -999]\n",
            " [-999 -999 -999 -999 -999]\n",
            " [-999 -999 -999 -999 -999]]\n",
            "\n",
            "identity:\n",
            " [[1. 0. 0. 0. 0.]\n",
            " [0. 1. 0. 0. 0.]\n",
            " [0. 0. 1. 0. 0.]\n",
            " [0. 0. 0. 1. 0.]\n",
            " [0. 0. 0. 0. 1.]]\n",
            "\n",
            "identity shitfted:\n",
            " [[0. 1. 0. 0.]\n",
            " [0. 0. 1. 0.]\n",
            " [0. 0. 0. 1.]\n",
            " [0. 0. 0. 0.]\n",
            " [0. 0. 0. 0.]]\n"
          ],
          "name": "stdout"
        }
      ]
    },
    {
      "cell_type": "code",
      "metadata": {
        "id": "1zdefLZR0n7j",
        "colab_type": "code",
        "colab": {
          "base_uri": "https://localhost:8080/",
          "height": 52
        },
        "outputId": "8a697a77-bb6c-4913-b378-c5efb2b65bce"
      },
      "source": [
        "# joining multiple arrays to create single array\n",
        "x = np.array([1,2,3,4]) \n",
        "y = np.array([5,6,7,8])\n",
        "z = np.array([9,10,11,12])\n",
        "\n",
        "# method 1: concat axis=0\n",
        "xyz = np.concatenate((x,y,z))\n",
        "print(xyz)\n",
        "\n",
        "# method 2: horizontal stack\n",
        "abc = np.hstack((x,y,z))\n",
        "print(abc)\n"
      ],
      "execution_count": null,
      "outputs": [
        {
          "output_type": "stream",
          "text": [
            "[ 1  2  3  4  5  6  7  8  9 10 11 12]\n",
            "[ 1  2  3  4  5  6  7  8  9 10 11 12]\n"
          ],
          "name": "stdout"
        }
      ]
    }
  ]
}
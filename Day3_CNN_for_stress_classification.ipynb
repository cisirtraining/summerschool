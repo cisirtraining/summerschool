{
  "nbformat": 4,
  "nbformat_minor": 0,
  "metadata": {
    "colab": {
      "name": "Day3_CNN_for_stress_classification",
      "version": "0.3.2",
      "provenance": [],
      "collapsed_sections": [],
      "toc_visible": true,
      "include_colab_link": true
    },
    "kernelspec": {
      "name": "python3",
      "display_name": "Python 3"
    }
  },
  "cells": [
    {
      "cell_type": "markdown",
      "metadata": {
        "id": "view-in-github",
        "colab_type": "text"
      },
      "source": [
        "<a href=\"https://colab.research.google.com/github/cisirtraining/summerschool/blob/master/Day3_CNN_for_stress_classification.ipynb\" target=\"_parent\"><img src=\"https://colab.research.google.com/assets/colab-badge.svg\" alt=\"Open In Colab\"/></a>"
      ]
    },
    {
      "cell_type": "markdown",
      "metadata": {
        "id": "kNc-gdf_S8Oy",
        "colab_type": "text"
      },
      "source": [
        "# Loading Essential Libraries and Packages"
      ]
    },
    {
      "cell_type": "code",
      "metadata": {
        "id": "EfdNu_vgSVJx",
        "colab_type": "code",
        "colab": {}
      },
      "source": [
        "!pip install scikit-plot"
      ],
      "execution_count": 0,
      "outputs": []
    },
    {
      "cell_type": "code",
      "metadata": {
        "id": "hrWRekDt-WMe",
        "colab_type": "code",
        "outputId": "9827fa04-e624-4bcc-b887-204f894a16b6",
        "colab": {
          "base_uri": "https://localhost:8080/",
          "height": 34
        }
      },
      "source": [
        "import scipy.io\n",
        "from scipy.signal import butter, lfilter\n",
        "from tensorflow import keras\n",
        "import os\n",
        "import tensorflow as tf\n",
        "from tensorflow.keras.models import Sequential\n",
        "from tensorflow.keras.layers import Dense, Dropout, Activation, Flatten, Conv2D, MaxPooling2D, LeakyReLU, ReLU\n",
        "from tensorflow.keras.optimizers import Adam\n",
        "import numpy as np\n",
        "import matplotlib.pyplot as plt\n",
        "from scipy.signal import freqz\n",
        "from keras.utils import to_categorical "
      ],
      "execution_count": 2,
      "outputs": [
        {
          "output_type": "stream",
          "text": [
            "Using TensorFlow backend.\n"
          ],
          "name": "stderr"
        }
      ]
    },
    {
      "cell_type": "markdown",
      "metadata": {
        "id": "nenEHVVmTGvQ",
        "colab_type": "text"
      },
      "source": [
        "# Data Accessing in Google Drive"
      ]
    },
    {
      "cell_type": "code",
      "metadata": {
        "id": "hWOOQ9FE9QOl",
        "colab_type": "code",
        "outputId": "572e7e9a-d9b8-4dbd-8da2-64cb9e4c8318",
        "colab": {
          "base_uri": "https://localhost:8080/",
          "height": 122
        }
      },
      "source": [
        "from google.colab import drive\n",
        "drive.mount('/content/drive')"
      ],
      "execution_count": 1,
      "outputs": [
        {
          "output_type": "stream",
          "text": [
            "Go to this URL in a browser: https://accounts.google.com/o/oauth2/auth?client_id=947318989803-6bn6qk8qdgf4n4g3pfee6491hc0brc4i.apps.googleusercontent.com&redirect_uri=urn%3Aietf%3Awg%3Aoauth%3A2.0%3Aoob&scope=email%20https%3A%2F%2Fwww.googleapis.com%2Fauth%2Fdocs.test%20https%3A%2F%2Fwww.googleapis.com%2Fauth%2Fdrive%20https%3A%2F%2Fwww.googleapis.com%2Fauth%2Fdrive.photos.readonly%20https%3A%2F%2Fwww.googleapis.com%2Fauth%2Fpeopleapi.readonly&response_type=code\n",
            "\n",
            "Enter your authorization code:\n",
            "··········\n",
            "Mounted at /content/drive\n"
          ],
          "name": "stdout"
        }
      ]
    },
    {
      "cell_type": "code",
      "metadata": {
        "id": "e9xzwhJy9btT",
        "colab_type": "code",
        "colab": {}
      },
      "source": [
        "# How to save a trained model\n",
        "# new_model = keras.models.load_model('/content/drive/My Drive/malaysia /summer/filte/my_model.h5')\n",
        "\n",
        "\n",
        "# Loading trained Model\n",
        "new_model = keras.models.load_model('/content/drive/My Drive/data/my_model.h5')"
      ],
      "execution_count": 0,
      "outputs": []
    },
    {
      "cell_type": "code",
      "metadata": {
        "id": "4ftZ8riXAqqT",
        "colab_type": "code",
        "outputId": "bd3b9540-b37b-4647-b399-680c59a3811e",
        "colab": {
          "base_uri": "https://localhost:8080/",
          "height": 561
        }
      },
      "source": [
        "# Checking Model properties/ description\n",
        "\n",
        "new_model.summary()"
      ],
      "execution_count": 5,
      "outputs": [
        {
          "output_type": "stream",
          "text": [
            "Model: \"sequential_5\"\n",
            "_________________________________________________________________\n",
            "Layer (type)                 Output Shape              Param #   \n",
            "=================================================================\n",
            "conv2d_20 (Conv2D)           (None, 17, 18, 16)        160       \n",
            "_________________________________________________________________\n",
            "conv2d_21 (Conv2D)           (None, 15, 16, 16)        2320      \n",
            "_________________________________________________________________\n",
            "max_pooling2d_10 (MaxPooling (None, 14, 15, 16)        0         \n",
            "_________________________________________________________________\n",
            "leaky_re_lu_10 (LeakyReLU)   (None, 14, 15, 16)        0         \n",
            "_________________________________________________________________\n",
            "conv2d_22 (Conv2D)           (None, 13, 14, 10)        650       \n",
            "_________________________________________________________________\n",
            "conv2d_23 (Conv2D)           (None, 12, 13, 10)        410       \n",
            "_________________________________________________________________\n",
            "max_pooling2d_11 (MaxPooling (None, 11, 12, 10)        0         \n",
            "_________________________________________________________________\n",
            "leaky_re_lu_11 (LeakyReLU)   (None, 11, 12, 10)        0         \n",
            "_________________________________________________________________\n",
            "dropout_5 (Dropout)          (None, 11, 12, 10)        0         \n",
            "_________________________________________________________________\n",
            "flatten_5 (Flatten)          (None, 1320)              0         \n",
            "_________________________________________________________________\n",
            "dense_5 (Dense)              (None, 2)                 2642      \n",
            "_________________________________________________________________\n",
            "activation_5 (Activation)    (None, 2)                 0         \n",
            "=================================================================\n",
            "Total params: 6,182\n",
            "Trainable params: 6,182\n",
            "Non-trainable params: 0\n",
            "_________________________________________________________________\n"
          ],
          "name": "stdout"
        }
      ]
    },
    {
      "cell_type": "code",
      "metadata": {
        "id": "pkBqavnl-Um4",
        "colab_type": "code",
        "colab": {}
      },
      "source": [
        "# Setting our working directory for loading data\n",
        "\n",
        "data_directory = \"/content/drive/My Drive/data\"\n",
        "\n",
        "testing_file = \"testing_data.mat\" # Testing Data (Signals) \n",
        "testing_labels = \"testing_labels.mat\" # Testing Labels of Signals Windows\n",
        "\n",
        "\n",
        "# Concatenating File Path with File Name for loading\n",
        "testing_data_path = os.path.join(data_directory,testing_file)\n",
        "testing_labels_path = os.path.join(data_directory,testing_labels)\n",
        "\n",
        "\n",
        "# Loading Data (Testing Data)\n",
        "testing_data = scipy.io.loadmat(testing_data_path)\n",
        "testing_labels = scipy.io.loadmat(testing_labels_path)"
      ],
      "execution_count": 0,
      "outputs": []
    },
    {
      "cell_type": "code",
      "metadata": {
        "id": "jLXKZDs6_3fY",
        "colab_type": "code",
        "colab": {}
      },
      "source": [
        "# The data is in the form of a dictionary. \n",
        "\n",
        "testing_data = testing_data['test_x']\n",
        "testing_labels = testing_labels['test_y']"
      ],
      "execution_count": 0,
      "outputs": []
    },
    {
      "cell_type": "markdown",
      "metadata": {
        "id": "pbnRPXxFUO64",
        "colab_type": "text"
      },
      "source": [
        "# Data Transformation for CNN"
      ]
    },
    {
      "cell_type": "code",
      "metadata": {
        "id": "VdoLPUwiAfWJ",
        "colab_type": "code",
        "colab": {}
      },
      "source": [
        "test_x = np.reshape(testing_data, (int(len(testing_data[1,:])/20), 19, 20, 1))"
      ],
      "execution_count": 0,
      "outputs": []
    },
    {
      "cell_type": "code",
      "metadata": {
        "id": "0vmYweDHAHsd",
        "colab_type": "code",
        "colab": {}
      },
      "source": [
        "testing_label = to_categorical(testing_labels,2)"
      ],
      "execution_count": 0,
      "outputs": []
    },
    {
      "cell_type": "code",
      "metadata": {
        "id": "TqbKgOGXAKod",
        "colab_type": "code",
        "outputId": "b4401502-6041-40a3-e995-8ec1e1d803dd",
        "colab": {
          "base_uri": "https://localhost:8080/",
          "height": 34
        }
      },
      "source": [
        "# Evaluating Testing data with loaded Model \n",
        "test_eval = new_model.evaluate(test_x, testing_label, verbose=1)"
      ],
      "execution_count": 33,
      "outputs": [
        {
          "output_type": "stream",
          "text": [
            "90000/90000 [==============================] - 22s 244us/sample - loss: 1.0355 - acc: 0.8174\n"
          ],
          "name": "stdout"
        }
      ]
    },
    {
      "cell_type": "code",
      "metadata": {
        "id": "lS8HqIJbOTpI",
        "colab_type": "code",
        "colab": {}
      },
      "source": [
        "y_pred = new_model.predict(test_x)"
      ],
      "execution_count": 0,
      "outputs": []
    },
    {
      "cell_type": "code",
      "metadata": {
        "id": "6vkhVrG1XJv7",
        "colab_type": "code",
        "colab": {
          "base_uri": "https://localhost:8080/",
          "height": 170
        },
        "outputId": "ae7ae16b-739b-4250-c0cc-3a955350b143"
      },
      "source": [
        "from sklearn.metrics import classification_report\n",
        "print(classification_report(np.argmax(testing_label, axis=1), np.argmax(y_pred, axis=1)))"
      ],
      "execution_count": 32,
      "outputs": [
        {
          "output_type": "stream",
          "text": [
            "              precision    recall  f1-score   support\n",
            "\n",
            "           0       0.94      0.86      0.90     84565\n",
            "           1       0.07      0.16      0.10      5435\n",
            "\n",
            "    accuracy                           0.82     90000\n",
            "   macro avg       0.50      0.51      0.50     90000\n",
            "weighted avg       0.89      0.82      0.85     90000\n",
            "\n"
          ],
          "name": "stdout"
        }
      ]
    },
    {
      "cell_type": "code",
      "metadata": {
        "id": "XaI-eeQsJ0lG",
        "colab_type": "code",
        "colab": {
          "base_uri": "https://localhost:8080/",
          "height": 349
        },
        "outputId": "133df4c1-0bf9-473d-9917-900851324c6e"
      },
      "source": [
        "# Plot roc curve\n",
        "import scikitplot as skplt\n",
        "\n",
        "skplt.metrics.plot_roc_curve(np.argmax(testing_label, axis=1), y_pred)\n",
        "plt.show()"
      ],
      "execution_count": 42,
      "outputs": [
        {
          "output_type": "stream",
          "text": [
            "/usr/local/lib/python3.6/dist-packages/sklearn/utils/deprecation.py:85: DeprecationWarning: Function plot_roc_curve is deprecated; This will be removed in v0.5.0. Please use scikitplot.metrics.plot_roc instead.\n",
            "  warnings.warn(msg, category=DeprecationWarning)\n"
          ],
          "name": "stderr"
        },
        {
          "output_type": "display_data",
          "data": {
            "image/png": "[encoded data removed]",
            "text/plain": [
              "<Figure size 432x288 with 1 Axes>"
            ]
          },
          "metadata": {
            "tags": []
          }
        }
      ]
    },
    {
      "cell_type": "code",
      "metadata": {
        "id": "WqSFQib2Qk_H",
        "colab_type": "code",
        "colab": {}
      },
      "source": [
        ""
      ],
      "execution_count": 0,
      "outputs": []
    }
  ]
}